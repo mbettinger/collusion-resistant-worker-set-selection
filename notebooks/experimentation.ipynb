{
 "cells": [
  {
   "cell_type": "code",
   "execution_count": 2,
   "metadata": {},
   "outputs": [
    {
     "name": "stdout",
     "output_type": "stream",
     "text": [
      "Importing Jupyter notebook from referendum_blockchain_simulation.ipynb\n"
     ]
    }
   ],
   "source": [
    "import nbimporter\n",
    "from graph_tests import *\n",
    "from referendum_blockchain_simulation import *\n",
    "import igraph as ig\n",
    "import graph_tool.all as gt"
   ]
  },
  {
   "cell_type": "code",
   "execution_count": 3,
   "metadata": {},
   "outputs": [],
   "source": [
    "def formatVertexIds(file_path, delemiter=\" \"):\n",
    "    \"\"\" We expect a file containing row of the format\n",
    "        vertexId delemiter vertexId\n",
    "    \"\"\"\n",
    "    fileName = file_path.split(\"/\")[-1]\n",
    "    new_file_path = formatedGraphPath + fileName \n",
    "    with open(new_file_path,'w') as formated_file:\n",
    "        with open(file_path) as old_file:\n",
    "                for line in old_file:\n",
    "                    columns = line.split(delemiter)\n",
    "                    formated_file.write(\"V\" + columns[0] + delemiter + \"V\" + columns[1])"
   ]
  },
  {
   "cell_type": "code",
   "execution_count": 4,
   "metadata": {},
   "outputs": [],
   "source": [
    "formatedGraphPath=\"../graphs/formatted/\""
   ]
  },
  {
   "cell_type": "code",
   "execution_count": 9,
   "metadata": {},
   "outputs": [],
   "source": [
    "import random\n",
    "def orderBasedWorkerSelection(filename, nVoters, nWorkers, format=\"ncol\"):\n",
    "    filepath = formatedGraphPath + \"/\" + filename\n",
    "    graph=ig.Graph.Read(filepath,format=\"ncol\").as_undirected()\n",
    "    \n",
    "    vertices = graph.vs[\"name\"]\n",
    "    \n",
    "    random.seed(10) \n",
    "    \n",
    "    voters = random.sample(vertices, nVoters)\n",
    "    \n",
    "    print(voters)\n",
    "    \n",
    "    seed = generateArrangementNumber(voters, vertices)\n",
    "    \n",
    "    print(seed)\n",
    "    scientific_notation=\"{:.2e}\".format(seed)\n",
    "    print(scientific_notation)\n",
    "    \n",
    "    random.seed(seed)\n",
    "    \n",
    "    workers = random.sample(vertices, nWorkers)\n",
    "    \n",
    "    print(workers)"
   ]
  },
  {
   "cell_type": "code",
   "execution_count": 11,
   "metadata": {},
   "outputs": [
    {
     "name": "stdout",
     "output_type": "stream",
     "text": [
      "['V2770', 'V133', 'V597', 'V831', 'V2798', 'V60', 'V1358', 'V749', 'V2453', 'V866', 'V2515', 'V1650', 'V3141', 'V2439', 'V1170', 'V140', 'V2065', 'V861', 'V1857', 'V311', 'V1537', 'V3893', 'V3894', 'V2073', 'V2475', 'V182', 'V646', 'V3481', 'V1082', 'V2911', 'V2279', 'V402', 'V590', 'V1675', 'V2532', 'V3241', 'V1588', 'V726', 'V1229', 'V3294', 'V1756', 'V3182', 'V2510', 'V1058', 'V2205', 'V3480', 'V4022', 'V1494', 'V3966', 'V659', 'V2955', 'V371', 'V181', 'V2820', 'V16', 'V1479', 'V1062', 'V1312', 'V3841', 'V3704', 'V1755', 'V1994', 'V2636', 'V2226', 'V3654', 'V1497', 'V1802', 'V3204', 'V2666', 'V700', 'V636', 'V780', 'V266', 'V3139', 'V2829', 'V1844', 'V2625', 'V3684', 'V1154', 'V2615', 'V1432', 'V3968', 'V544', 'V1490', 'V151']\n",
      "1069702528087815433922297080083535147839240088671468341093980158609790891047480351121477622283994532382243226886480224152528997509021369214466062846459677084463006181806463198950325074506062198500227095319331613931443861032227478726464857021628825718265401405630118645575565050397282530849485587907709301676\n",
      "1.07e+306\n",
      "['V3559', 'V2534', 'V217', 'V3116', 'V1385', 'V1858', 'V2743', 'V925', 'V941', 'V670']\n"
     ]
    }
   ],
   "source": [
    "orderBasedWorkerSelection(\"facebook_combined.txt\", 85, 10)\n"
   ]
  },
  {
   "cell_type": "code",
   "execution_count": null,
   "metadata": {},
   "outputs": [],
   "source": []
  },
  {
   "cell_type": "code",
   "execution_count": null,
   "metadata": {},
   "outputs": [],
   "source": []
  },
  {
   "cell_type": "code",
   "execution_count": null,
   "metadata": {},
   "outputs": [],
   "source": []
  },
  {
   "cell_type": "code",
   "execution_count": null,
   "metadata": {},
   "outputs": [],
   "source": []
  },
  {
   "cell_type": "code",
   "execution_count": null,
   "metadata": {},
   "outputs": [],
   "source": []
  },
  {
   "cell_type": "code",
   "execution_count": null,
   "metadata": {},
   "outputs": [],
   "source": []
  }
 ],
 "metadata": {
  "kernelspec": {
   "display_name": "Python 3",
   "language": "python",
   "name": "python3"
  },
  "language_info": {
   "codemirror_mode": {
    "name": "ipython",
    "version": 3
   },
   "file_extension": ".py",
   "mimetype": "text/x-python",
   "name": "python",
   "nbconvert_exporter": "python",
   "pygments_lexer": "ipython3",
   "version": "3.9.1"
  }
 },
 "nbformat": 4,
 "nbformat_minor": 4
}
