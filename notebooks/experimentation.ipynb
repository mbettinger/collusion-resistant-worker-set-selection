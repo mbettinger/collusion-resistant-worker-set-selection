{
 "cells": [
  {
   "cell_type": "code",
   "execution_count": 14,
   "metadata": {},
   "outputs": [],
   "source": [
    "import nbimporter\n",
    "from graph_tests import *\n",
    "from referendum_blockchain_simulation import *\n",
    "import igraph as ig\n",
    "import graph_tool.all as gt"
   ]
  },
  {
   "cell_type": "code",
   "execution_count": 15,
   "metadata": {},
   "outputs": [],
   "source": [
    "def formatVertexIds(file_path, delemiter=\" \"):\n",
    "    \"\"\" We expect a file containing row of the format\n",
    "        vertexId delemiter vertexId\n",
    "    \"\"\"\n",
    "    fileName = file_path.split(\"/\")[-1]\n",
    "    new_file_path = formatedGraphPath + fileName \n",
    "    with open(new_file_path,'w') as formated_file:\n",
    "        with open(file_path) as old_file:\n",
    "                for line in old_file:\n",
    "                    columns = line.split(delemiter)\n",
    "                    formated_file.write(\"V\" + columns[0] + delemiter + \"V\" + columns[1])"
   ]
  },
  {
   "cell_type": "code",
   "execution_count": 16,
   "metadata": {},
   "outputs": [],
   "source": [
    "formatedGraphPath=\"../graphs/formated/\""
   ]
  },
  {
   "cell_type": "code",
   "execution_count": 26,
   "metadata": {},
   "outputs": [],
   "source": [
    "import random\n",
    "def orderBasedWorkerSelection(filename, nVoters, nWorkers, format=\"ncol\"):\n",
    "    filepath = formatedGraphPath + \"/\" + filename\n",
    "    graph=ig.Graph.Read(filepath,format=\"ncol\").as_undirected()\n",
    "    \n",
    "    vertices = graph.vs[\"name\"]\n",
    "    \n",
    "    random.seed(10) \n",
    "    \n",
    "    voters = random.sample(vertices, nVoters)\n",
    "    \n",
    "    print(voters)\n",
    "    \n",
    "    combination = generateCombinationNumber(voters, vertices)\n",
    "    \n",
    "    print(combination)\n",
    "    \n",
    "    random.seed(combination)\n",
    "    \n",
    "    workers = random.sample(vertices, nWorkers)\n",
    "    \n",
    "    print(workers)"
   ]
  },
  {
   "cell_type": "code",
   "execution_count": 27,
   "metadata": {},
   "outputs": [
    {
     "name": "stdout",
     "output_type": "stream",
     "text": [
      "['V2770', 'V133', 'V597', 'V831', 'V2798', 'V60', 'V1358', 'V749', 'V2453', 'V866', 'V2515', 'V1650', 'V3141', 'V2439', 'V1170', 'V140', 'V2065', 'V861', 'V1857', 'V311', 'V1537', 'V3893', 'V3894', 'V2073', 'V2475', 'V182', 'V646', 'V3481', 'V1082', 'V2911', 'V2279', 'V402', 'V590', 'V1675', 'V2532', 'V3241', 'V1588', 'V726', 'V1229', 'V3294', 'V1756', 'V3182', 'V2510', 'V1058', 'V2205', 'V3480', 'V4022', 'V1494', 'V3966', 'V659', 'V2955', 'V371', 'V181', 'V2820', 'V16', 'V1479', 'V1062', 'V1312', 'V3841', 'V3704', 'V1755', 'V1994', 'V2636', 'V2226', 'V3654', 'V1497', 'V1802', 'V3204', 'V2666', 'V700', 'V636', 'V780', 'V266', 'V3139', 'V2829', 'V1844', 'V2625', 'V3684', 'V1154', 'V2615', 'V1432', 'V3968', 'V544', 'V1490', 'V151']\n",
      "3.7959121866819936e+177\n",
      "['V1658', 'V1998']\n"
     ]
    },
    {
     "ename": "KeyError",
     "evalue": "'Attribute does not exist'",
     "output_type": "error",
     "traceback": [
      "\u001b[0;31m\u001b[0m",
      "\u001b[0;31mKeyError\u001b[0mTraceback (most recent call last)",
      "\u001b[0;32m<ipython-input-27-240820b266cd>\u001b[0m in \u001b[0;36m<module>\u001b[0;34m\u001b[0m\n\u001b[0;32m----> 1\u001b[0;31m \u001b[0morderBasedWorkerSelection\u001b[0m\u001b[0;34m(\u001b[0m\u001b[0;34m\"facebook_combined.txt\"\u001b[0m\u001b[0;34m,\u001b[0m \u001b[0;36m85\u001b[0m\u001b[0;34m,\u001b[0m \u001b[0;36m2\u001b[0m\u001b[0;34m)\u001b[0m\u001b[0;34m\u001b[0m\u001b[0;34m\u001b[0m\u001b[0m\n\u001b[0m",
      "\u001b[0;32m<ipython-input-26-2bd5fafff6ec>\u001b[0m in \u001b[0;36morderBasedWorkerSelection\u001b[0;34m(filename, nVoters, nWorkers, format)\u001b[0m\n\u001b[1;32m     26\u001b[0m             \u001b[0mvertex\u001b[0m\u001b[0;34m[\u001b[0m\u001b[0;34m\"size\"\u001b[0m\u001b[0;34m]\u001b[0m\u001b[0;34m=\u001b[0m\u001b[0;36m50\u001b[0m\u001b[0;34m\u001b[0m\u001b[0;34m\u001b[0m\u001b[0m\n\u001b[1;32m     27\u001b[0m             \u001b[0mvertex\u001b[0m\u001b[0;34m[\u001b[0m\u001b[0;34m\"color\"\u001b[0m\u001b[0;34m]\u001b[0m\u001b[0;34m=\u001b[0m\u001b[0;34m\"red\"\u001b[0m\u001b[0;34m\u001b[0m\u001b[0;34m\u001b[0m\u001b[0m\n\u001b[0;32m---> 28\u001b[0;31m     \u001b[0mG\u001b[0m\u001b[0;34m=\u001b[0m\u001b[0mgraph\u001b[0m\u001b[0;34m.\u001b[0m\u001b[0mto_graph_tool\u001b[0m\u001b[0;34m(\u001b[0m\u001b[0mvertex_attributes\u001b[0m\u001b[0;34m=\u001b[0m\u001b[0;34m{\u001b[0m\u001b[0;34m\"color\"\u001b[0m\u001b[0;34m:\u001b[0m\u001b[0;34m\"vector<float>\"\u001b[0m\u001b[0;34m,\u001b[0m\u001b[0;34m\"size\"\u001b[0m\u001b[0;34m:\u001b[0m\u001b[0;34m\"int\"\u001b[0m\u001b[0;34m}\u001b[0m\u001b[0;34m)\u001b[0m\u001b[0;34m\u001b[0m\u001b[0;34m\u001b[0m\u001b[0m\n\u001b[0m\u001b[1;32m     29\u001b[0m     \u001b[0mgt\u001b[0m\u001b[0;34m.\u001b[0m\u001b[0mgraph_draw\u001b[0m\u001b[0;34m(\u001b[0m\u001b[0mG\u001b[0m\u001b[0;34m,\u001b[0m \u001b[0mvertex_fill_color\u001b[0m\u001b[0;34m=\u001b[0m\u001b[0mG\u001b[0m\u001b[0;34m.\u001b[0m\u001b[0mvertex_properties\u001b[0m\u001b[0;34m[\u001b[0m\u001b[0;34m\"color\"\u001b[0m\u001b[0;34m]\u001b[0m\u001b[0;34m,\u001b[0m\u001b[0mvertex_size\u001b[0m\u001b[0;34m=\u001b[0m\u001b[0mG\u001b[0m\u001b[0;34m.\u001b[0m\u001b[0mvertex_properties\u001b[0m\u001b[0;34m[\u001b[0m\u001b[0;34m\"size\"\u001b[0m\u001b[0;34m]\u001b[0m\u001b[0;34m)\u001b[0m\u001b[0;34m\u001b[0m\u001b[0;34m\u001b[0m\u001b[0m\n",
      "\u001b[0;32m/usr/lib/python3.8/site-packages/igraph/__init__.py\u001b[0m in \u001b[0;36mto_graph_tool\u001b[0;34m(self, graph_attributes, vertex_attributes, edge_attributes)\u001b[0m\n\u001b[1;32m   1916\u001b[0m                 \u001b[0;31m# Fill the values from the igraph.Graph\u001b[0m\u001b[0;34m\u001b[0m\u001b[0;34m\u001b[0m\u001b[0;34m\u001b[0m\u001b[0m\n\u001b[1;32m   1917\u001b[0m                 \u001b[0;32mfor\u001b[0m \u001b[0mi\u001b[0m \u001b[0;32min\u001b[0m \u001b[0mrange\u001b[0m\u001b[0;34m(\u001b[0m\u001b[0mvc\u001b[0m\u001b[0;34m)\u001b[0m\u001b[0;34m:\u001b[0m\u001b[0;34m\u001b[0m\u001b[0;34m\u001b[0m\u001b[0m\n\u001b[0;32m-> 1918\u001b[0;31m                     \u001b[0mg\u001b[0m\u001b[0;34m.\u001b[0m\u001b[0mvertex_properties\u001b[0m\u001b[0;34m[\u001b[0m\u001b[0mx\u001b[0m\u001b[0;34m]\u001b[0m\u001b[0;34m[\u001b[0m\u001b[0mg\u001b[0m\u001b[0;34m.\u001b[0m\u001b[0mvertex\u001b[0m\u001b[0;34m(\u001b[0m\u001b[0mi\u001b[0m\u001b[0;34m)\u001b[0m\u001b[0;34m]\u001b[0m \u001b[0;34m=\u001b[0m \u001b[0mself\u001b[0m\u001b[0;34m.\u001b[0m\u001b[0mvs\u001b[0m\u001b[0;34m[\u001b[0m\u001b[0mi\u001b[0m\u001b[0;34m]\u001b[0m\u001b[0;34m[\u001b[0m\u001b[0mx\u001b[0m\u001b[0;34m]\u001b[0m\u001b[0;34m\u001b[0m\u001b[0;34m\u001b[0m\u001b[0m\n\u001b[0m\u001b[1;32m   1919\u001b[0m \u001b[0;34m\u001b[0m\u001b[0m\n\u001b[1;32m   1920\u001b[0m         \u001b[0;31m# Edges and edge attributes\u001b[0m\u001b[0;34m\u001b[0m\u001b[0;34m\u001b[0m\u001b[0;34m\u001b[0m\u001b[0m\n",
      "\u001b[0;31mKeyError\u001b[0m: 'Attribute does not exist'"
     ]
    }
   ],
   "source": [
    "orderBasedWorkerSelection(\"facebook_combined.txt\", 85, 2)\n"
   ]
  },
  {
   "cell_type": "code",
   "execution_count": null,
   "metadata": {},
   "outputs": [],
   "source": []
  },
  {
   "cell_type": "code",
   "execution_count": null,
   "metadata": {},
   "outputs": [],
   "source": []
  },
  {
   "cell_type": "code",
   "execution_count": null,
   "metadata": {},
   "outputs": [],
   "source": []
  },
  {
   "cell_type": "code",
   "execution_count": null,
   "metadata": {},
   "outputs": [],
   "source": []
  }
 ],
 "metadata": {
  "kernelspec": {
   "display_name": "Python 3",
   "language": "python",
   "name": "python3"
  },
  "language_info": {
   "codemirror_mode": {
    "name": "ipython",
    "version": 3
   },
   "file_extension": ".py",
   "mimetype": "text/x-python",
   "name": "python",
   "nbconvert_exporter": "python",
   "pygments_lexer": "ipython3",
   "version": "3.8.5"
  }
 },
 "nbformat": 4,
 "nbformat_minor": 4
}
