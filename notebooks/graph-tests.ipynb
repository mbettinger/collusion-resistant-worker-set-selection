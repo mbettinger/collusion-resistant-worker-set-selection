{
 "cells": [
  {
   "cell_type": "code",
   "execution_count": 1,
   "metadata": {},
   "outputs": [],
   "source": [
    "import graph_tool.all as gt\n",
    "from math import sqrt"
   ]
  },
  {
   "cell_type": "code",
   "execution_count": 2,
   "metadata": {},
   "outputs": [],
   "source": [
    "from random import *"
   ]
  },
  {
   "cell_type": "code",
   "execution_count": 3,
   "metadata": {},
   "outputs": [],
   "source": [
    "csvGraphsPath=\"../graphs/csv/\"\n",
    "csvGraphFileName=\"facebook_combined.csv\"\n",
    "csvGraphFilePath=csvGraphsPath+csvGraphFileName\n",
    "fbGraph=gt.load_graph_from_csv(csvGraphFilePath)"
   ]
  },
  {
   "cell_type": "code",
   "execution_count": 4,
   "metadata": {},
   "outputs": [],
   "source": [
    "import igraph as ig"
   ]
  },
  {
   "cell_type": "code",
   "execution_count": 5,
   "metadata": {
    "scrolled": true
   },
   "outputs": [],
   "source": [
    "F=ig.Graph.Read(\"../graphs/ncol/facebook_combined.txt\",format=\"ncol\").as_undirected()"
   ]
  },
  {
   "cell_type": "code",
   "execution_count": 6,
   "metadata": {},
   "outputs": [],
   "source": [
    "nbWorkers=31"
   ]
  },
  {
   "cell_type": "code",
   "execution_count": 7,
   "metadata": {},
   "outputs": [],
   "source": [
    "import colorsys\n",
    "import math\n",
    "def colorDistribution(nbColors):\n",
    "    assert nbColors>=1\n",
    "    base=13\n",
    "    maxValues=4\n",
    "    nbValues=math.ceil(nbColors/base)\n",
    "    if nbValues==1:\n",
    "        values=[1]\n",
    "    else:\n",
    "        denominatorV=min(maxValues,nbValues)\n",
    "        values=[min(1,0.5+0.5*v/(denominatorV-1)) for v in range(denominatorV)]\n",
    "\n",
    "    if nbColors==1:\n",
    "        hues=[0]\n",
    "    else:\n",
    "        denominatorH=min(base,nbColors)\n",
    "        hues=[h/(denominatorH) for h in range(denominatorH)]\n",
    "    sats=[1]\n",
    "    nbSat=1\n",
    "    if nbValues>maxValues:\n",
    "        nbSat=math.ceil(nbColors/(denominatorH*denominatorV))\n",
    "        sats=[min(1,0.4+0.5*s/(nbSat-1)) for s in range(nbSat)]\n",
    "    HSVs=[]\n",
    "    \n",
    "    for value in values[::-1]:\n",
    "        for i in range(len(hues)):\n",
    "            for sat in sats[::-1]:\n",
    "                if i%2==0:\n",
    "                    HSVs.append((hues[i//2],sat,value))\n",
    "                else:\n",
    "                    HSVs.append((hues[-i//2],sat,value))\n",
    "\n",
    "    colours = [colorsys.hsv_to_rgb(hue, sat, value) for hue,sat,value in HSVs]\n",
    "    return colours"
   ]
  },
  {
   "cell_type": "code",
   "execution_count": 8,
   "metadata": {},
   "outputs": [],
   "source": [
    "def findCommunities(graph):\n",
    "    detect_communities=[graph.community_multilevel,\n",
    "                        graph.community_label_propagation,\n",
    "                        graph.community_leading_eigenvector]\n",
    "    \n",
    "    partition=detect_communities[0]()\n",
    "    \n",
    "    colours=colorDistribution(len(partition))\n",
    "\n",
    "    for idx, c in enumerate(partition):\n",
    "        color=colours[idx]\n",
    "        for v in c:\n",
    "            partition.graph.vs[v][\"color\"]=color\n",
    "            partition.graph.vs[v][\"cluster\"]=idx\n",
    "            for e in partition.graph.incident(v):\n",
    "                ed=partition.graph.es[e]\n",
    "                if ed.source in c and ed.target in c:\n",
    "                    ed[\"color\"]=[0.,0.,0.,1.]\n",
    "                else:\n",
    "                    ed[\"color\"]=[0.5,0.5,0.5,1.]\n",
    "    return partition"
   ]
  },
  {
   "cell_type": "code",
   "execution_count": 9,
   "metadata": {},
   "outputs": [],
   "source": [
    "def chooseVertex(graph):\n",
    "    assert len(graph.vs)>0, \"Can't choose a vertex in an empty graph.\" \n",
    "    node=None\n",
    "    minBetweenness = -1\n",
    "    for idx, betweenness in enumerate(graph.betweenness()):\n",
    "        if betweenness < minBetweenness or minBetweenness == -1 :\n",
    "            node= idx\n",
    "        if betweenness==0:\n",
    "            break\n",
    "    assert node is not None\n",
    "    return node"
   ]
  },
  {
   "cell_type": "code",
   "execution_count": 10,
   "metadata": {},
   "outputs": [],
   "source": [
    "def distanceCrit(value):\n",
    "    outputs=[0,0,5,10]\n",
    "    if value>=len(outputs):\n",
    "        return outputs[-1]\n",
    "    return outputs[value]"
   ]
  },
  {
   "cell_type": "code",
   "execution_count": 11,
   "metadata": {},
   "outputs": [],
   "source": [
    "def maxMinPCCNodeSelection(dictPCC):\n",
    "    assert dictPCC!={}\n",
    "    chosenId=None\n",
    "    nbNodes=len(list(dictPCC.values())[0])\n",
    "    maxDist=-1\n",
    "    maxSumDist=-1\n",
    "    maxDistNode=None\n",
    "    for nodeId in range(nbNodes):\n",
    "        if nodeId not in dictPCC.keys():\n",
    "            minDist=-1\n",
    "            minDistNode=nodeId\n",
    "            for chosenNode in dictPCC.keys():\n",
    "                if minDist==-1 or dictPCC[chosenNode][nodeId]<minDist:\n",
    "                    minDist=dictPCC[chosenNode][nodeId]\n",
    "            #if equivalent on criterion 1, calculate criterion 2\n",
    "            sumDist=-1\n",
    "            if maxSumDist==-1 or minDist==maxDist:\n",
    "                #sumDist=sum([dictPCC[chosenNode][nodeId] for chosenNode in dictPCC.keys()])\n",
    "                #sumDist=random()\n",
    "                sumDist=sum([distanceCrit(dictPCC[chosenNode][nodeId]) for chosenNode in dictPCC.keys()])\n",
    "            #if better crit1 or equal crit1 but better crit2\n",
    "            if minDist>maxDist or (minDist==maxDist and sumDist>maxSumDist):\n",
    "                maxDist=minDist\n",
    "                maxDistNode=minDistNode\n",
    "                maxSumDist=sumDist\n",
    "    chosenId=maxDistNode\n",
    "    return chosenId"
   ]
  },
  {
   "cell_type": "code",
   "execution_count": 12,
   "metadata": {},
   "outputs": [],
   "source": [
    "def maxShortestPathNodesSelection(graph,nbNodes,boundaryNodes=[]):\n",
    "    assert len(graph.vs)-len(boundaryNodes)>= nbNodes, \"{} {} {}\".format(len(graph.vs),nbNodes,len(boundaryNodes))\n",
    "    if boundaryNodes==[]:\n",
    "        chosenIds=[chooseVertex(graph)]\n",
    "    else:\n",
    "        chosenIds=boundaryNodes.copy()\n",
    "    #BFS initial des noeuds dans chosenIds\n",
    "    matPCC=graph.shortest_paths_dijkstra(chosenIds)\n",
    "    dictPCC={chosenId:matPCC[idxPCC] for idxPCC,chosenId in enumerate(chosenIds)}\n",
    "    \n",
    "    #nbNodes fois\n",
    "    while len(chosenIds)-len(boundaryNodes)<nbNodes:\n",
    "        chosenNodeId=maxMinPCCNodeSelection(dictPCC)\n",
    "\n",
    "        #BFS du nouveau noeud\n",
    "        dictPCC[chosenNodeId]=graph.shortest_paths_dijkstra(chosenNodeId)[0] #On prend la ligne de la matrice qui correspond au noeud\n",
    "        chosenIds.append(chosenNodeId)\n",
    "    assert len(chosenIds)==len(boundaryNodes)+nbNodes\n",
    "    return chosenIds[len(boundaryNodes):]"
   ]
  },
  {
   "cell_type": "code",
   "execution_count": 13,
   "metadata": {},
   "outputs": [],
   "source": [
    "def defineBoundary(graph, clusterVertices, clusterId):\n",
    "    boundaryVertices=set()\n",
    "    for v in clusterVertices: #Trouver les successeurs hors cluster aka les noeuds frontaliers au cluster\n",
    "        boundaryVertices.update([bv for bv in v.successors() if bv[\"cluster\"]!=clusterId])\n",
    "    boundaryVertices=list(boundaryVertices)\n",
    "    \n",
    "    return boundaryVertices"
   ]
  },
  {
   "cell_type": "code",
   "execution_count": 14,
   "metadata": {},
   "outputs": [],
   "source": [
    "def drawBoundedCluster(boundedCluster,workerIds,clusterId):\n",
    "    for node in boundedCluster.vs:\n",
    "        if node[\"name\"]in boundedCluster.vs[workerIds][\"name\"]:\n",
    "            node[\"shape\"]=\"triangle\"\n",
    "\n",
    "    ig.plot(boundedCluster,\"../graphs/img/cluster{}.png\".format(clusterId))"
   ]
  },
  {
   "cell_type": "code",
   "execution_count": 15,
   "metadata": {},
   "outputs": [],
   "source": [
    "def assignWorkersInCommunity(graph,clusterGraph,clusterId):\n",
    "    clusterVertices=[v for v in graph.vs if v[\"cluster\"]==clusterId]\n",
    "    \n",
    "    boundaryVertices=[]\n",
    "    boundaryVertices=defineBoundary(graph,clusterVertices,clusterId)\n",
    "    \n",
    "    boundedCluster=graph.induced_subgraph(boundaryVertices+clusterVertices)\n",
    "    \n",
    "    #Réidentification des noeuds du graphe global vers le sous-graphe\n",
    "    #clusterVertices=[boundedCluster.vs.find(v[\"name\"]) for v in clusterVertices]\n",
    "    boundaryVertices=[boundedCluster.vs.find(v[\"name\"]) for v in boundaryVertices]\n",
    "    boundaryVerticesIds=[bv.index for bv in boundaryVertices]\n",
    "    \n",
    "    workerIds=maxShortestPathNodesSelection(boundedCluster,clusterGraph.vs[clusterId][\"nb_workers\"],boundaryVerticesIds)\n",
    "    \n",
    "    #drawBoundedCluster(boundedCluster,workerIds,clusterId)\n",
    "    \n",
    "    return boundedCluster.vs[workerIds][\"name\"]"
   ]
  },
  {
   "cell_type": "markdown",
   "metadata": {},
   "source": [
    "import scipy\n",
    "import pylab\n",
    "import scipy.cluster.hierarchy as sch\n",
    "def biggestOnesSquare(srcDF):\n",
    "    matPCC=srcDF.to_numpy()\n",
    "    # Generate features and distance matrix.\n",
    "    D = scipy.zeros([len(matPCC),len(matPCC)])\n",
    "    for i in range(len(matPCC)):\n",
    "        for j in range(len(matPCC)):\n",
    "            D[i,j] = matPCC[i][j]\n",
    "\n",
    "    # Compute and plot dendrogram.\n",
    "    fig = pylab.figure()\n",
    "    axdendro = fig.add_axes([0.09,0.1,0.2,0.8])\n",
    "    Y = sch.linkage(D, method='complete')\n",
    "    Z = sch.dendrogram(Y, orientation='right')\n",
    "    axdendro.set_xticks([])\n",
    "    axdendro.set_yticks([])\n",
    "\n",
    "    # Plot distance matrix.\n",
    "    axmatrix = fig.add_axes([0.3,0.1,0.6,0.8])\n",
    "    index = Z['leaves']\n",
    "    D = D[index,:]\n",
    "    D = D[:,index]\n",
    "    im = axmatrix.matshow(D, aspect='auto', origin='lower')\n",
    "    axmatrix.set_xticks([])\n",
    "    axmatrix.set_yticks([])\n",
    "\n",
    "    # Plot colorbar.\n",
    "    axcolor = fig.add_axes([0.91,0.1,0.02,0.8])\n",
    "    pylab.colorbar(im, cax=axcolor)\n",
    "\n",
    "    # Display and save figure.\n",
    "    fig.show()\n",
    "    fig.savefig('dendrogram.png')\n",
    "    return 0\n"
   ]
  },
  {
   "cell_type": "code",
   "execution_count": 16,
   "metadata": {},
   "outputs": [],
   "source": [
    "import pandas as pd\n",
    "import numpy as np\n",
    "def subgraphCapacity(graph, minDist):\n",
    "    nodes=graph.vs\n",
    "    candidates=set()\n",
    "    matPCC=graph.shortest_paths_dijkstra()\n",
    "\n",
    "    dfPCC=pd.DataFrame(matPCC,nodes[\"name\"],nodes[\"name\"])\n",
    "    #print((dfPCC > minDist).values)\n",
    "    g = ig.Graph.Adjacency((dfPCC > minDist).values.tolist()).as_undirected()\n",
    "    g.vs[\"name\"]=nodes[\"name\"]\n",
    "    #ig.plot(g,\"../graphs/img/graph.png\")\n",
    "    #print(g)\n",
    "    cliques=g.largest_cliques()\n",
    "    print(\"n_clq\",len(cliques),\"l_clq\", len(cliques[0]),\"a clq\", cliques[0])\n",
    "    print(\"len(c)\",len(candidates),\"len(n)\",len(nodes))\n",
    "    \n",
    "    candidates=[nodes[idx][\"name\"] for idx in cliques[0]]\n",
    "    \n",
    "    return candidates"
   ]
  },
  {
   "cell_type": "code",
   "execution_count": 17,
   "metadata": {},
   "outputs": [],
   "source": [
    "def capacityBasedWorkerAssignment(graph,partition,clusterGraph,remainingWorkers):\n",
    "    assignedWorkers=remainingWorkers#0\n",
    "    \n",
    "    candidatesDict={clusterId:{} for clusterId in range(len(partition))}\n",
    "    for clusterId, subgraph in enumerate(partition.subgraphs()):\n",
    "        diameter=subgraph.diameter()\n",
    "        radius=int(subgraph.radius())\n",
    "        print(\"d\",diameter,\"r\", radius)\n",
    "        for eccentricity in range(2,diameter+1):\n",
    "            print(\"e\",eccentricity)\n",
    "            %time candidatesDict[clusterId][eccentricity]=subgraphCapacity(subgraph,eccentricity)\n",
    "    print(candidatesDict)\n",
    "    assert assignedWorkers==remainingWorkers, \"Only {} assigned workers out of {}\".format(assignedWorkers,remainingWorkers)\n",
    "    return clusterGraph"
   ]
  },
  {
   "cell_type": "code",
   "execution_count": 18,
   "metadata": {},
   "outputs": [],
   "source": [
    "def sizeOrderedRoundRobinWorkerAssignement(graph,partition,clusterGraph,remainingWorkers):\n",
    "    graphSize=len(graph.vs)\n",
    "    relativeSizes=[len(partition.subgraph(int(cluster[\"name\"][1:])).vs)/graphSize for cluster in clusterGraph.vs]\n",
    "\n",
    "    sortedIdxPerSize=sorted(range(len(relativeSizes)), key=lambda k: relativeSizes[k], reverse=True)\n",
    "    sortedSizes=sorted(relativeSizes)\n",
    "\n",
    "    #Round Robin par ordre de taille des clusters\n",
    "    currentCluster=0\n",
    "    while remainingWorkers>0:\n",
    "        currentSortedCluster=sortedIdxPerSize[currentCluster]\n",
    "        if clusterGraph.vs[currentSortedCluster][\"nb_workers\"]<len(partition.subgraph(currentSortedCluster).vs):\n",
    "            clusterGraph.vs[currentSortedCluster][\"nb_workers\"]+=1\n",
    "            remainingWorkers-=1\n",
    "        currentCluster+=1\n",
    "        if currentCluster>=len(clusterGraph.vs):\n",
    "            currentCluster=0\n",
    "    return clusterGraph"
   ]
  },
  {
   "cell_type": "code",
   "execution_count": 19,
   "metadata": {},
   "outputs": [],
   "source": [
    "def sizeProRataWorkerAssignement(graph,partition,clusterGraph,remainingWorkers):\n",
    "    graphSize=len(graph.vs)\n",
    "    relativeSizes=[len(partition.subgraph(int(cluster[\"name\"][1:])).vs)/graphSize for cluster in clusterGraph.vs]\n",
    "\n",
    "    proRataWorkers=[remainingWorkers*size for size in relativeSizes]\n",
    "    intProRataWorkers=[int(prw) for prw in proRataWorkers]\n",
    "    \n",
    "    assignedWorkers=sum(intProRataWorkers)\n",
    "    if assignedWorkers < remainingWorkers:\n",
    "        remainingProRataWorkers=[prw - prw//1 for prw in proRataWorkers]\n",
    "        sortedIdx=sorted(range(len(remainingProRataWorkers)), key=lambda k: remainingProRataWorkers[k], reverse=True)\n",
    "\n",
    "        for i in range(remainingWorkers-assignedWorkers):\n",
    "            intProRataWorkers[sortedIdx[i]]+=1\n",
    "            assignedWorkers+=1\n",
    "        \n",
    "    for idx, cluster in enumerate(clusterGraph.vs):\n",
    "        cluster[\"nb_workers\"]+=intProRataWorkers[idx]\n",
    "    \n",
    "    assert assignedWorkers==remainingWorkers, \"Only {} assigned workers out of {}\".format(assignedWorkers,remainingWorkers)\n",
    "    return clusterGraph"
   ]
  },
  {
   "cell_type": "code",
   "execution_count": 20,
   "metadata": {},
   "outputs": [],
   "source": [
    "def diameterProRataWorkerAssignement(graph,partition,clusterGraph,remainingWorkers):\n",
    "\n",
    "    diameters=[subgraph.diameter() for subgraph in partition.subgraphs()]\n",
    "    sumDiameters=sum(diameters)\n",
    "    \n",
    "    proRataWorkers=[remainingWorkers*diameter/sumDiameters for diameter in diameters]\n",
    "    intProRataWorkers=[int(prw) for prw in proRataWorkers]\n",
    "    \n",
    "    assignedWorkers=sum(intProRataWorkers)\n",
    "    if assignedWorkers < remainingWorkers:\n",
    "        remainingProRataWorkers=[prw - prw//1 for prw in proRataWorkers]\n",
    "        sortedIdx=sorted(range(len(remainingProRataWorkers)), key=lambda k: remainingProRataWorkers[k], reverse=True)\n",
    "\n",
    "        for i in range(remainingWorkers-assignedWorkers):\n",
    "            intProRataWorkers[sortedIdx[i]]+=1\n",
    "            assignedWorkers+=1\n",
    "        \n",
    "    for idx, cluster in enumerate(clusterGraph.vs):\n",
    "        cluster[\"nb_workers\"]+=intProRataWorkers[idx]\n",
    "    \n",
    "    assert assignedWorkers==remainingWorkers, \"Only {} assigned workers out of {}\".format(assignedWorkers,remainingWorkers)\n",
    "    return clusterGraph"
   ]
  },
  {
   "cell_type": "code",
   "execution_count": 21,
   "metadata": {},
   "outputs": [],
   "source": [
    "def diameterWorkerAssignment(graph,partition,clusterGraph,remainingWorkers):\n",
    "    diameters=[subgraph.diameter() for subgraph in partition.subgraphs()]\n",
    "    \n",
    "    workers=[diameter//2+diameter%2 for diameter in diameters]\n",
    "    assignedWorkers=sum(workers)\n",
    "    for idx, cluster in enumerate(clusterGraph.vs):\n",
    "        cluster[\"nb_workers\"]+=workers[idx]\n",
    "    \n",
    "    while assignedWorkers>remainingWorkers:\n",
    "        sortedIdx=sorted(range(len(workers)), key=lambda k: workers[k], reverse=True)\n",
    "\n",
    "        for i in range(assignedWorkers-remainingWorkers):\n",
    "            if clusterGraph.vs[sortedIdx[i%len(sortedIdx)]][\"nb_workers\"]>1:\n",
    "                clusterGraph.vs[sortedIdx[i%len(sortedIdx)]][\"nb_workers\"]-=1\n",
    "                assignedWorkers-=1\n",
    "    \n",
    "    if assignedWorkers<remainingWorkers:\n",
    "        clusterGraph=sizeOrderedRoundRobinWorkerAssignement(graph,partition,clusterGraph,remainingWorkers-assignedWorkers)\n",
    "        assignedWorkers=remainingWorkers\n",
    "    \n",
    "    assert assignedWorkers==remainingWorkers, \"Only {} assigned workers out of {}\".format(assignedWorkers,remainingWorkers)\n",
    "    return clusterGraph"
   ]
  },
  {
   "cell_type": "code",
   "execution_count": 22,
   "metadata": {},
   "outputs": [],
   "source": [
    "def assignWorkers(graph,nWorkers):\n",
    "    assert nWorkers>=0, \"{} workers to assign: Number of workers to assign must be positive or zero\".format(nWorkers)\n",
    "    assert len(graph.vs)>=nWorkers, \"{} workers to assign on {} nodes: Can't assign more workers than there are vertices\".format(nWorkers,len(graph.vs))\n",
    "    partition=findCommunities(graph)\n",
    "    \n",
    "    clusterGraph=partition.cluster_graph(\"first\")\n",
    "\n",
    "    for idx, cluster in enumerate(clusterGraph.vs):\n",
    "        cluster[\"name\"]=\"C{}\".format(idx)\n",
    "\n",
    "    workerIds=[]\n",
    "    clusterIds=[]\n",
    "    if len(partition)<nWorkers:\n",
    "        #Chaque cluster aura au moins un worker en lui\n",
    "        for cluster in clusterGraph.vs:\n",
    "            cluster[\"nb_workers\"]=1\n",
    "        \n",
    "        #Attribuer le nombre de workers réel\n",
    "        remainingWorkers=nWorkers-len(clusterGraph.vs)\n",
    "        \n",
    "        workerAssignment=[sizeProRataWorkerAssignement,\n",
    "                          sizeOrderedRoundRobinWorkerAssignement,\n",
    "                          diameterProRataWorkerAssignement,\n",
    "                          diameterWorkerAssignment,\n",
    "                          capacityBasedWorkerAssignment,\n",
    "                          #subpartitioning\n",
    "                         ]\n",
    "        %time clusterGraph=workerAssignment[4](graph, partition,clusterGraph, remainingWorkers)\n",
    "\n",
    "        clusterIds=range(len(partition))\n",
    "        \n",
    "    elif len(partition)==nWorkers:\n",
    "        #1cluster/1worker\n",
    "        for cluster in clusterGraph.vs:\n",
    "            cluster[\"nb_workers\"]=1\n",
    "        clusterIds=range(len(partition))\n",
    "    else:\n",
    "        clusterIds=maxShortestPathNodesSelection(clusterGraph,nWorkers)\n",
    "        for cluster in clusterGraph.vs:\n",
    "            if cluster.index in clusterIds:\n",
    "                cluster[\"nb_workers\"]=1\n",
    "            else:\n",
    "                cluster[\"nb_workers\"]=0\n",
    "\n",
    "    #Etape2\n",
    "    #for chaque cluster de workers\n",
    "    #prendre son sous-graphe+ les noeuds frontaliers d'autres clusters, BFS des frontières et Etape1 nb_workers fois\n",
    "    for clusterId in clusterIds:\n",
    "        %time workerIds.extend(assignWorkersInCommunity(graph,clusterGraph,clusterId))\n",
    "    \n",
    "    assert len(workerIds)==nWorkers, \"Assigned {} workers instead of {}\".format(len(workerIds),nWorkers)\n",
    "    return workerIds,partition,clusterGraph,clusterIds"
   ]
  },
  {
   "cell_type": "code",
   "execution_count": 23,
   "metadata": {
    "scrolled": true
   },
   "outputs": [
    {
     "name": "stdout",
     "output_type": "stream",
     "text": [
      "d 3 r 2\n",
      "e 2\n",
      "n_clq 668 l_clq 3 a clq (343, 349, 342)\n",
      "len(c) 0 len(n) 350\n",
      "CPU times: user 68.8 ms, sys: 897 µs, total: 69.7 ms\n",
      "Wall time: 68.6 ms\n",
      "e 3\n",
      "n_clq 350 l_clq 1 a clq (349,)\n",
      "len(c) 0 len(n) 350\n",
      "CPU times: user 49.2 ms, sys: 17.6 ms, total: 66.8 ms\n",
      "Wall time: 65 ms\n",
      "d 5 r 3\n",
      "e 2\n",
      "n_clq 4497288 l_clq 12 a clq (127, 61, 81, 133, 80, 137, 101, 59, 345, 105, 430, 429)\n",
      "len(c) 0 len(n) 431\n",
      "CPU times: user 1min 3s, sys: 559 ms, total: 1min 4s\n",
      "Wall time: 1min 4s\n",
      "e 3\n",
      "n_clq 14128 l_clq 4 a clq (135, 80, 127, 429)\n",
      "len(c) 0 len(n) 431\n",
      "CPU times: user 116 ms, sys: 0 ns, total: 116 ms\n",
      "Wall time: 114 ms\n",
      "e 4\n",
      "n_clq 560 l_clq 2 a clq (411, 133)\n",
      "len(c) 0 len(n) 431\n",
      "CPU times: user 92.2 ms, sys: 0 ns, total: 92.2 ms\n",
      "Wall time: 90.1 ms\n",
      "e 5\n",
      "n_clq 431 l_clq 1 a clq (430,)\n",
      "len(c) 0 len(n) 431\n",
      "CPU times: user 103 ms, sys: 44 µs, total: 104 ms\n",
      "Wall time: 102 ms\n",
      "d 2 r 1\n",
      "e 2\n",
      "n_clq 435 l_clq 1 a clq (434,)\n",
      "len(c) 0 len(n) 435\n",
      "CPU times: user 103 ms, sys: 10 ms, total: 113 ms\n",
      "Wall time: 111 ms\n",
      "d 2 r 1\n",
      "e 2\n",
      "n_clq 423 l_clq 1 a clq (422,)\n",
      "len(c) 0 len(n) 423\n",
      "CPU times: user 71.1 ms, sys: 29.8 ms, total: 101 ms\n",
      "Wall time: 99 ms\n",
      "d 4 r 2\n",
      "e 2\n",
      "n_clq 4488 l_clq 2 a clq (19, 542)\n",
      "len(c) 0 len(n) 543\n",
      "CPU times: user 144 ms, sys: 49 µs, total: 144 ms\n",
      "Wall time: 142 ms\n",
      "e 3\n",
      "n_clq 487 l_clq 2 a clq (19, 542)\n",
      "len(c) 0 len(n) 543\n",
      "CPU times: user 130 ms, sys: 9.87 ms, total: 140 ms\n",
      "Wall time: 138 ms\n",
      "e 4\n",
      "n_clq 543 l_clq 1 a clq (542,)\n",
      "len(c) 0 len(n) 543\n",
      "CPU times: user 151 ms, sys: 20.3 ms, total: 172 ms\n",
      "Wall time: 154 ms\n",
      "d 5 r 3\n",
      "e 2\n",
      "n_clq 91 l_clq 18 a clq (60, 281, 130, 115, 302, 250, 213, 257, 280, 95, 209, 18, 279, 98, 11, 204, 179, 230)\n",
      "len(c) 0 len(n) 323\n",
      "CPU times: user 12 s, sys: 40.1 ms, total: 12 s\n",
      "Wall time: 11.9 s\n",
      "e 3\n",
      "n_clq 1 l_clq 7 a clq (198, 60, 257, 115, 18, 243, 279)\n",
      "len(c) 0 len(n) 323\n",
      "CPU times: user 34.3 ms, sys: 29.8 ms, total: 64.1 ms\n",
      "Wall time: 61.9 ms\n",
      "e 4\n",
      "n_clq 21 l_clq 2 a clq (281, 279)\n",
      "len(c) 0 len(n) 323\n",
      "CPU times: user 60.8 ms, sys: 10 µs, total: 60.8 ms\n",
      "Wall time: 59.4 ms\n",
      "e 5\n",
      "n_clq 323 l_clq 1 a clq (322,)\n",
      "len(c) 0 len(n) 323\n",
      "CPU times: user 82.8 ms, sys: 35 µs, total: 82.8 ms\n",
      "Wall time: 80.8 ms\n",
      "d 8 r 4\n",
      "e 2\n",
      "n_clq 19346 l_clq 11 a clq (104, 64, 89, 49, 63, 78, 100, 92, 85, 26, 118)\n",
      "len(c) 0 len(n) 121\n",
      "CPU times: user 1.78 s, sys: 117 µs, total: 1.78 s\n",
      "Wall time: 1.77 s\n",
      "e 3\n",
      "n_clq 646 l_clq 7 a clq (104, 49, 89, 78, 100, 120, 117)\n",
      "len(c) 0 len(n) 121\n",
      "CPU times: user 61 ms, sys: 12 µs, total: 61 ms\n",
      "Wall time: 59 ms\n",
      "e 4\n",
      "n_clq 2 l_clq 5 a clq (104, 49, 100, 24, 91)\n",
      "len(c) 0 len(n) 121\n",
      "CPU times: user 18.3 ms, sys: 0 ns, total: 18.3 ms\n",
      "Wall time: 15.9 ms\n",
      "e 5\n",
      "n_clq 25 l_clq 3 a clq (89, 104, 120)\n",
      "len(c) 0 len(n) 121\n",
      "CPU times: user 17.1 ms, sys: 84 µs, total: 17.2 ms\n",
      "Wall time: 15.1 ms\n",
      "e 6\n",
      "n_clq 8 l_clq 2 a clq (89, 100)\n",
      "len(c) 0 len(n) 121\n",
      "CPU times: user 6.33 ms, sys: 7.54 ms, total: 13.9 ms\n",
      "Wall time: 13.2 ms\n",
      "e 7\n",
      "n_clq 1 l_clq 2 a clq (48, 104)\n",
      "len(c) 0 len(n) 121\n",
      "CPU times: user 15.1 ms, sys: 63 µs, total: 15.2 ms\n",
      "Wall time: 13.8 ms\n",
      "e 8\n",
      "n_clq 121 l_clq 1 a clq (120,)\n",
      "len(c) 0 len(n) 121\n",
      "CPU times: user 6.87 ms, sys: 7.99 ms, total: 14.9 ms\n",
      "Wall time: 13.7 ms\n",
      "d 3 r 2\n",
      "e 2\n",
      "n_clq 1046 l_clq 2 a clq (10, 547)\n",
      "len(c) 0 len(n) 548\n",
      "CPU times: user 173 ms, sys: 10.2 ms, total: 183 ms\n",
      "Wall time: 163 ms\n",
      "e 3\n",
      "n_clq 548 l_clq 1 a clq (547,)\n",
      "len(c) 0 len(n) 548\n",
      "CPU times: user 201 ms, sys: 10.3 ms, total: 212 ms\n",
      "Wall time: 187 ms\n",
      "d 3 r 2\n",
      "e 2\n",
      "n_clq 3 l_clq 2 a clq (47, 64)\n",
      "len(c) 0 len(n) 73\n",
      "CPU times: user 12 ms, sys: 25 µs, total: 12 ms\n",
      "Wall time: 9.95 ms\n",
      "e 3\n",
      "n_clq 73 l_clq 1 a clq (72,)\n",
      "len(c) 0 len(n) 73\n",
      "CPU times: user 10.9 ms, sys: 12 µs, total: 11 ms\n",
      "Wall time: 9.46 ms\n",
      "d 3 r 2\n",
      "e 2\n",
      "n_clq 26 l_clq 3 a clq (162, 225, 163)\n",
      "len(c) 0 len(n) 237\n",
      "CPU times: user 49.9 ms, sys: 0 ns, total: 49.9 ms\n",
      "Wall time: 48.9 ms\n",
      "e 3\n",
      "n_clq 237 l_clq 1 a clq (236,)\n",
      "len(c) 0 len(n) 237\n",
      "CPU times: user 40.4 ms, sys: 10 ms, total: 50.4 ms\n",
      "Wall time: 48.9 ms\n",
      "d 2 r 1\n",
      "e 2\n",
      "n_clq 25 l_clq 1 a clq (24,)\n",
      "len(c) 0 len(n) 25\n",
      "CPU times: user 5.43 ms, sys: 0 ns, total: 5.43 ms\n",
      "Wall time: 4.22 ms\n",
      "d 2 r 1\n",
      "e 2\n",
      "n_clq 60 l_clq 1 a clq (59,)\n",
      "len(c) 0 len(n) 60\n",
      "CPU times: user 7.91 ms, sys: 0 ns, total: 7.91 ms\n",
      "Wall time: 6.73 ms\n",
      "d 3 r 2\n",
      "e 2\n",
      "n_clq 4722 l_clq 2 a clq (205, 169)\n",
      "len(c) 0 len(n) 206\n",
      "CPU times: user 33.5 ms, sys: 44 µs, total: 33.5 ms\n",
      "Wall time: 31.9 ms\n",
      "e 3\n",
      "n_clq 206 l_clq 1 a clq (205,)\n",
      "len(c) 0 len(n) 206\n",
      "CPU times: user 20.9 ms, sys: 8.12 ms, total: 29 ms\n",
      "Wall time: 27.4 ms\n",
      "d 5 r 3\n",
      "e 2\n",
      "n_clq 191 l_clq 10 a clq (217, 76, 142, 211, 167, 108, 107, 136, 58, 225)\n",
      "len(c) 0 len(n) 226\n",
      "CPU times: user 64 ms, sys: 0 ns, total: 64 ms\n",
      "Wall time: 62.7 ms\n",
      "e 3\n",
      "n_clq 6 l_clq 4 a clq (217, 201, 103, 225)\n",
      "len(c) 0 len(n) 226\n",
      "CPU times: user 43.3 ms, sys: 0 ns, total: 43.3 ms\n",
      "Wall time: 41.1 ms\n",
      "e 4\n",
      "n_clq 1 l_clq 2 a clq (142, 217)\n",
      "len(c) 0 len(n) 226\n",
      "CPU times: user 50.8 ms, sys: 8 µs, total: 50.8 ms\n",
      "Wall time: 48.7 ms\n",
      "e 5\n",
      "n_clq 226 l_clq 1 a clq (225,)\n",
      "len(c) 0 len(n) 226\n",
      "CPU times: user 44.2 ms, sys: 9.94 ms, total: 54.1 ms\n",
      "Wall time: 51.2 ms\n",
      "d 2 r 1\n",
      "e 2\n",
      "n_clq 19 l_clq 1 a clq (18,)\n",
      "len(c) 0 len(n) 19\n",
      "CPU times: user 7.98 ms, sys: 0 ns, total: 7.98 ms\n",
      "Wall time: 6.44 ms\n",
      "d 2 r 2\n",
      "e 2\n",
      "n_clq 19 l_clq 1 a clq (18,)\n",
      "len(c) 0 len(n) 19\n",
      "CPU times: user 7.04 ms, sys: 0 ns, total: 7.04 ms\n",
      "Wall time: 5.44 ms\n",
      "{0: {2: ['V2814', 'V2740', 'V347'], 3: ['V2740']}, 1: {2: ['V1776', 'V1295', 'V1443', 'V1814', 'V1430', 'V1853', 'V1602', 'V1263', 'V565', 'V1631', 'V1967', 'V685'], 3: ['V1831', 'V1430', 'V1776', 'V685'], 4: ['V644', 'V1814'], 5: ['V1967']}, 2: {2: ['V1911']}, 3: {2: ['V2656']}, 4: {2: ['V1838', 'V3434'], 3: ['V1838', 'V3434'], 4: ['V3434']}, 5: {2: ['V1065', 'V1759', 'V1264', 'V1233', 'V1855', 'V1664', 'V1510', 'V1690', 'V1756', 'V1168', 'V1503', 'V945', 'V1755', 'V1176', 'V935', 'V1492', 'V1417', 'V1592'], 3: ['V1474', 'V1065', 'V1690', 'V1233', 'V945', 'V1646', 'V1755'], 4: ['V1759', 'V1755'], 5: ['V1907']}, 6: {2: ['V1760', 'V1394', 'V1607', 'V1254', 'V1384', 'V1546', 'V1713', 'V1641', 'V1579', 'V1073', 'V1895'], 3: ['V1760', 'V1254', 'V1607', 'V1546', 'V1713', 'V1908', 'V1892'], 4: ['V1760', 'V1254', 'V1713', 'V1057', 'V1629'], 5: ['V1607', 'V1760', 'V1908'], 6: ['V1607', 'V1713'], 7: ['V1252', 'V1760'], 8: ['V1908']}, 7: {2: ['V868', 'V3979'], 3: ['V3979']}, 8: {2: ['V2013', 'V2626'], 3: ['V2659']}, 9: {2: ['V2442', 'V2613', 'V2443'], 3: ['V2655']}, 10: {2: ['V681']}, 11: {2: ['V4038']}, 12: {2: ['V895', 'V855'], 3: ['V895']}, 13: {2: ['V3413', 'V2899', 'V3059', 'V3388', 'V3143', 'V2963', 'V2961', 'V3044', 'V2852', 'V3436'], 3: ['V3413', 'V3317', 'V2952', 'V3436'], 4: ['V3059', 'V3413'], 5: ['V3436']}, 14: {2: ['V3423']}, 15: {2: ['V2650']}}\n",
      "CPU times: user 1min 19s, sys: 799 ms, total: 1min 20s\n",
      "Wall time: 1min 20s\n",
      "CPU times: user 9.55 ms, sys: 0 ns, total: 9.55 ms\n",
      "Wall time: 9.46 ms\n",
      "CPU times: user 123 ms, sys: 0 ns, total: 123 ms\n",
      "Wall time: 123 ms\n",
      "CPU times: user 252 ms, sys: 0 ns, total: 252 ms\n",
      "Wall time: 251 ms\n",
      "CPU times: user 194 ms, sys: 1 µs, total: 194 ms\n",
      "Wall time: 193 ms\n",
      "CPU times: user 151 ms, sys: 12 µs, total: 151 ms\n",
      "Wall time: 150 ms\n",
      "CPU times: user 64.1 ms, sys: 0 ns, total: 64.1 ms\n",
      "Wall time: 63.8 ms\n",
      "CPU times: user 13 ms, sys: 0 ns, total: 13 ms\n",
      "Wall time: 12.6 ms\n",
      "CPU times: user 17.1 ms, sys: 0 ns, total: 17.1 ms\n",
      "Wall time: 16.9 ms\n",
      "CPU times: user 4.09 ms, sys: 18 µs, total: 4.11 ms\n",
      "Wall time: 4.12 ms\n",
      "CPU times: user 63.7 ms, sys: 0 ns, total: 63.7 ms\n",
      "Wall time: 63.1 ms\n",
      "CPU times: user 1.1 ms, sys: 0 ns, total: 1.1 ms\n",
      "Wall time: 1.11 ms\n",
      "CPU times: user 1.52 ms, sys: 3 µs, total: 1.52 ms\n",
      "Wall time: 1.52 ms\n",
      "CPU times: user 2.7 ms, sys: 0 ns, total: 2.7 ms\n",
      "Wall time: 2.7 ms\n",
      "CPU times: user 14.2 ms, sys: 0 ns, total: 14.2 ms\n",
      "Wall time: 14 ms\n",
      "CPU times: user 1.17 ms, sys: 0 ns, total: 1.17 ms\n",
      "Wall time: 1.18 ms\n",
      "CPU times: user 1.21 ms, sys: 0 ns, total: 1.21 ms\n",
      "Wall time: 1.22 ms\n"
     ]
    },
    {
     "ename": "AssertionError",
     "evalue": "Assigned 16 workers instead of 31",
     "output_type": "error",
     "traceback": [
      "\u001b[0;31m\u001b[0m",
      "\u001b[0;31mAssertionError\u001b[0mTraceback (most recent call last)",
      "\u001b[0;32m<timed exec>\u001b[0m in \u001b[0;36m<module>\u001b[0;34m\u001b[0m\n",
      "\u001b[0;32m<ipython-input-22-cc634eef4825>\u001b[0m in \u001b[0;36massignWorkers\u001b[0;34m(graph, nWorkers)\u001b[0m\n\u001b[1;32m     49\u001b[0m         \u001b[0mget_ipython\u001b[0m\u001b[0;34m(\u001b[0m\u001b[0;34m)\u001b[0m\u001b[0;34m.\u001b[0m\u001b[0mrun_line_magic\u001b[0m\u001b[0;34m(\u001b[0m\u001b[0;34m'time'\u001b[0m\u001b[0;34m,\u001b[0m \u001b[0;34m'workerIds.extend(assignWorkersInCommunity(graph,clusterGraph,clusterId))'\u001b[0m\u001b[0;34m)\u001b[0m\u001b[0;34m\u001b[0m\u001b[0;34m\u001b[0m\u001b[0m\n\u001b[1;32m     50\u001b[0m \u001b[0;34m\u001b[0m\u001b[0m\n\u001b[0;32m---> 51\u001b[0;31m     \u001b[0;32massert\u001b[0m \u001b[0mlen\u001b[0m\u001b[0;34m(\u001b[0m\u001b[0mworkerIds\u001b[0m\u001b[0;34m)\u001b[0m\u001b[0;34m==\u001b[0m\u001b[0mnWorkers\u001b[0m\u001b[0;34m,\u001b[0m \u001b[0;34m\"Assigned {} workers instead of {}\"\u001b[0m\u001b[0;34m.\u001b[0m\u001b[0mformat\u001b[0m\u001b[0;34m(\u001b[0m\u001b[0mlen\u001b[0m\u001b[0;34m(\u001b[0m\u001b[0mworkerIds\u001b[0m\u001b[0;34m)\u001b[0m\u001b[0;34m,\u001b[0m\u001b[0mnWorkers\u001b[0m\u001b[0;34m)\u001b[0m\u001b[0;34m\u001b[0m\u001b[0;34m\u001b[0m\u001b[0m\n\u001b[0m\u001b[1;32m     52\u001b[0m     \u001b[0;32mreturn\u001b[0m \u001b[0mworkerIds\u001b[0m\u001b[0;34m,\u001b[0m\u001b[0mpartition\u001b[0m\u001b[0;34m,\u001b[0m\u001b[0mclusterGraph\u001b[0m\u001b[0;34m,\u001b[0m\u001b[0mclusterIds\u001b[0m\u001b[0;34m\u001b[0m\u001b[0;34m\u001b[0m\u001b[0m\n",
      "\u001b[0;31mAssertionError\u001b[0m: Assigned 16 workers instead of 31"
     ]
    },
    {
     "ename": "NameError",
     "evalue": "name 'workerIds' is not defined",
     "output_type": "error",
     "traceback": [
      "\u001b[0;31m\u001b[0m",
      "\u001b[0;31mNameError\u001b[0mTraceback (most recent call last)",
      "\u001b[0;32m<ipython-input-23-dbbfeb45e7dd>\u001b[0m in \u001b[0;36m<module>\u001b[0;34m\u001b[0m\n\u001b[1;32m      1\u001b[0m \u001b[0mget_ipython\u001b[0m\u001b[0;34m(\u001b[0m\u001b[0;34m)\u001b[0m\u001b[0;34m.\u001b[0m\u001b[0mrun_line_magic\u001b[0m\u001b[0;34m(\u001b[0m\u001b[0;34m'time'\u001b[0m\u001b[0;34m,\u001b[0m \u001b[0;34m'workerIds,partition,clusterGraph,clusterIds=assignWorkers(F,nbWorkers)'\u001b[0m\u001b[0;34m)\u001b[0m\u001b[0;34m\u001b[0m\u001b[0;34m\u001b[0m\u001b[0m\n\u001b[0;32m----> 2\u001b[0;31m \u001b[0mprint\u001b[0m\u001b[0;34m(\u001b[0m\u001b[0mworkerIds\u001b[0m\u001b[0;34m)\u001b[0m\u001b[0;34m\u001b[0m\u001b[0;34m\u001b[0m\u001b[0m\n\u001b[0m",
      "\u001b[0;31mNameError\u001b[0m: name 'workerIds' is not defined"
     ]
    }
   ],
   "source": [
    "%time workerIds,partition,clusterGraph,clusterIds=assignWorkers(F,nbWorkers)\n",
    "print(workerIds)"
   ]
  },
  {
   "cell_type": "markdown",
   "metadata": {},
   "source": [
    "### What if we distantiated workers based on the whole graph (as if one unique community)"
   ]
  },
  {
   "cell_type": "markdown",
   "metadata": {},
   "source": [
    "%time workerIds=F.vs[maxShortestPathNodesSelection(F,nbWorkers)][\"name\"]"
   ]
  },
  {
   "cell_type": "markdown",
   "metadata": {},
   "source": [
    "## Plot"
   ]
  },
  {
   "cell_type": "code",
   "execution_count": null,
   "metadata": {
    "scrolled": true
   },
   "outputs": [],
   "source": [
    "for idx, cluster in enumerate(clusterGraph.vs):\n",
    "    if cluster.index in clusterIds:\n",
    "        cluster[\"size\"]=50\n",
    "    cluster[\"color\"]=partition.subgraph(idx).vs[0][\"color\"]\n",
    "    cluster[\"label\"]=\"{}({})\".format(idx,cluster[\"nb_workers\"])\n",
    "ig.plot(clusterGraph)"
   ]
  },
  {
   "cell_type": "code",
   "execution_count": null,
   "metadata": {},
   "outputs": [],
   "source": [
    "for v in F.vs:\n",
    "    if v[\"name\"] in workerIds:\n",
    "        v[\"size\"]=25\n",
    "        v[\"shape\"]=\"triangle\"\n",
    "    else:\n",
    "        v[\"size\"]=1\n",
    "        v[\"shape\"]=\"circle\""
   ]
  },
  {
   "cell_type": "code",
   "execution_count": null,
   "metadata": {
    "scrolled": false
   },
   "outputs": [],
   "source": [
    "G=F.to_graph_tool(vertex_attributes={\"color\":\"vector<float>\",\"size\":\"int\",\"shape\":\"string\"},edge_attributes={\"color\":\"vector<float>\"})\n",
    "gt.graph_draw(G, vertex_fill_color=G.vertex_properties[\"color\"],vertex_shape=G.vertex_properties[\"shape\"],vertex_size=G.vertex_properties[\"size\"],edge_color=G.edge_properties[\"color\"])"
   ]
  },
  {
   "cell_type": "markdown",
   "metadata": {},
   "source": [
    "## Evaluate"
   ]
  },
  {
   "cell_type": "code",
   "execution_count": null,
   "metadata": {},
   "outputs": [],
   "source": [
    "#Given a list of nodes, give distances between nodes\n",
    "def calcDistBtwnNodes(graph,chosenNodeNames):\n",
    "    return graph.shortest_paths_dijkstra(source=chosenNodeNames, target=chosenNodeNames)"
   ]
  },
  {
   "cell_type": "code",
   "execution_count": null,
   "metadata": {},
   "outputs": [],
   "source": [
    "matPCC=calcDistBtwnNodes(F,workerIds)\n",
    "PCCList=[]\n",
    "for sublist in matPCC:\n",
    "    PCCList.extend(sublist)\n",
    "maxDist=max(PCCList)\n",
    "PCCSelf=[]\n",
    "PCCSameCluster=[]\n",
    "PCCOtherCluster=[]\n",
    "\n",
    "for i, dists in enumerate(matPCC):\n",
    "    source=F.vs.find(workerIds[i])\n",
    "    for j in range(i+1):\n",
    "        target=F.vs.find(workerIds[j])\n",
    "        #print(source,target)\n",
    "        if source[\"name\"]==target[\"name\"]:\n",
    "            PCCSelf.append(matPCC[i][j])\n",
    "        elif source[\"cluster\"]==target[\"cluster\"]:\n",
    "            PCCSameCluster.append(matPCC[i][j])\n",
    "        else:\n",
    "            PCCOtherCluster.append(matPCC[i][j])"
   ]
  },
  {
   "cell_type": "code",
   "execution_count": null,
   "metadata": {},
   "outputs": [],
   "source": [
    "import numpy as np\n",
    "from matplotlib import pyplot as plt\n",
    "\n",
    "data=[PCCSelf,PCCSameCluster,PCCOtherCluster]\n",
    "colors=[\"grey\",\"red\",\"blue\"]\n",
    "labels=[\"self\",\"same community\",\"other community\"]\n",
    "# fixed bin size\n",
    "bins = np.arange(0, 100, 1) # fixed bin size\n",
    "\n",
    "plt.xlim([0, maxDist+1])\n",
    "plt.yscale(\"log\")\n",
    "plt.hist(data, bins=bins, color=colors, label=labels, stacked=True)\n",
    "plt.title('Shortest path lengths between workers')\n",
    "plt.xlabel('Shortest path length')\n",
    "plt.ylabel('Count of workers')\n",
    "\n",
    "plt.show()"
   ]
  },
  {
   "cell_type": "code",
   "execution_count": null,
   "metadata": {},
   "outputs": [],
   "source": [
    "from collections import Counter\n",
    "print(\"Same\",Counter(PCCSameCluster))\n",
    "print(\"Other\",Counter(PCCOtherCluster))"
   ]
  },
  {
   "cell_type": "raw",
   "metadata": {},
   "source": [
    "https://towardsdatascience.com/histograms-and-density-plots-in-python-f6bda88f5ac0\n",
    "Stacked bars to see same and different community node distances\n",
    "\n",
    "https://www.w3resource.com/graphics/matplotlib/barchart/matplotlib-barchart-exercise-16.php\n",
    "to annotate values on stacked bars"
   ]
  },
  {
   "cell_type": "code",
   "execution_count": null,
   "metadata": {},
   "outputs": [],
   "source": [
    "#the greater the value, the better\n",
    "print(sum(PCCList))"
   ]
  },
  {
   "cell_type": "markdown",
   "metadata": {},
   "source": [
    "## Graph Metrics"
   ]
  },
  {
   "cell_type": "markdown",
   "metadata": {},
   "source": [
    "### Max distance between nodes (graph diameter)"
   ]
  },
  {
   "cell_type": "code",
   "execution_count": null,
   "metadata": {},
   "outputs": [],
   "source": [
    "print(F.diameter())"
   ]
  },
  {
   "cell_type": "markdown",
   "metadata": {},
   "source": [
    "### Distances inter-nodes intra-clusters (cluster diameters)"
   ]
  },
  {
   "cell_type": "code",
   "execution_count": null,
   "metadata": {},
   "outputs": [],
   "source": [
    "subgraphs=partition.subgraphs()\n",
    "diameters=list([subgraph.diameter() for subgraph in subgraphs])\n",
    "plt.plot(diameters)"
   ]
  },
  {
   "cell_type": "code",
   "execution_count": null,
   "metadata": {},
   "outputs": [],
   "source": [
    "radii=list([subgraph.radius() for subgraph in subgraphs])\n",
    "plt.plot(radii)"
   ]
  },
  {
   "cell_type": "code",
   "execution_count": null,
   "metadata": {},
   "outputs": [],
   "source": [
    "eccentricities=list([subgraph.eccentricity() for subgraph in subgraphs])\n",
    "print(eccentricities)"
   ]
  },
  {
   "cell_type": "markdown",
   "metadata": {},
   "source": [
    "### Nodes per community"
   ]
  },
  {
   "cell_type": "code",
   "execution_count": null,
   "metadata": {},
   "outputs": [],
   "source": [
    "from collections import Counter\n",
    "nbClusters=len(Counter(F.vs[\"cluster\"]))"
   ]
  },
  {
   "cell_type": "code",
   "execution_count": null,
   "metadata": {},
   "outputs": [],
   "source": [
    "bins = np.arange(0, nbClusters+1, 1)\n",
    "plt.hist(F.vs[\"cluster\"], bins=bins)\n",
    "plt.title('Number of nodes in communities')\n",
    "plt.xlabel('Community')\n",
    "plt.ylabel('Count of nodes')\n",
    "\n",
    "plt.show()"
   ]
  },
  {
   "cell_type": "markdown",
   "metadata": {},
   "source": [
    "### Workers per cluster"
   ]
  },
  {
   "cell_type": "code",
   "execution_count": null,
   "metadata": {
    "scrolled": false
   },
   "outputs": [],
   "source": [
    "data=[F.vs.find(worker)[\"cluster\"] for worker in workerIds]\n",
    "bins = np.arange(0, nbClusters+1, 1)\n",
    "plt.hist(data, bins=bins)\n",
    "plt.title('Number of workers in communities')\n",
    "plt.xlabel('Community')\n",
    "plt.ylabel('Count of workers')\n",
    "\n",
    "plt.show()"
   ]
  },
  {
   "cell_type": "markdown",
   "metadata": {},
   "source": [
    "### Cluster diameter based worker count"
   ]
  },
  {
   "cell_type": "code",
   "execution_count": null,
   "metadata": {},
   "outputs": [],
   "source": [
    "diameters=[subgraph.diameter() for subgraph in partition.subgraphs()]\n",
    "\n",
    "workers=[diameter//2+diameter%2 for diameter in diameters]\n",
    "assignedWorkers=sum(workers)\n",
    "print(assignedWorkers)"
   ]
  },
  {
   "cell_type": "code",
   "execution_count": null,
   "metadata": {},
   "outputs": [],
   "source": [
    "import scipy\n",
    "import pylab\n",
    "import scipy.cluster.hierarchy as sch\n",
    "\n",
    "# Generate features and distance matrix.\n",
    "D = scipy.zeros([len(matPCC),len(matPCC)])\n",
    "for i in range(40):\n",
    "    for j in range(40):\n",
    "        D[i,j] = matPCC[i][j]\n",
    "\n",
    "# Compute and plot dendrogram.\n",
    "fig = pylab.figure()\n",
    "axdendro = fig.add_axes([0.09,0.1,0.2,0.8])\n",
    "Y = sch.linkage(D, method='centroid')\n",
    "Z = sch.dendrogram(Y, orientation='right')\n",
    "axdendro.set_xticks([])\n",
    "axdendro.set_yticks([])\n",
    "\n",
    "# Plot distance matrix.\n",
    "axmatrix = fig.add_axes([0.3,0.1,0.6,0.8])\n",
    "index = Z['leaves']\n",
    "D = D[index,:]\n",
    "D = D[:,index]\n",
    "im = axmatrix.matshow(D, aspect='auto', origin='lower')\n",
    "axmatrix.set_xticks([])\n",
    "axmatrix.set_yticks([])\n",
    "\n",
    "# Plot colorbar.\n",
    "axcolor = fig.add_axes([0.91,0.1,0.02,0.8])\n",
    "pylab.colorbar(im, cax=axcolor)\n",
    "\n",
    "# Display and save figure.\n",
    "fig.show()\n",
    "fig.savefig('dendrogram.png')\n",
    "\n",
    "#Dendrogram and distance matrix"
   ]
  },
  {
   "cell_type": "code",
   "execution_count": null,
   "metadata": {},
   "outputs": [],
   "source": []
  }
 ],
 "metadata": {
  "kernelspec": {
   "display_name": "Python 3",
   "language": "python",
   "name": "python3"
  },
  "language_info": {
   "codemirror_mode": {
    "name": "ipython",
    "version": 3
   },
   "file_extension": ".py",
   "mimetype": "text/x-python",
   "name": "python",
   "nbconvert_exporter": "python",
   "pygments_lexer": "ipython3",
   "version": "3.9.1"
  }
 },
 "nbformat": 4,
 "nbformat_minor": 4
}
