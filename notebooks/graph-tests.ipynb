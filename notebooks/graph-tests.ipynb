{
 "cells": [
  {
   "cell_type": "code",
   "execution_count": 1,
   "metadata": {},
   "outputs": [],
   "source": [
    "import graph_tool.all as gt\n",
    "from math import sqrt"
   ]
  },
  {
   "cell_type": "code",
   "execution_count": 2,
   "metadata": {},
   "outputs": [],
   "source": [
    "from random import *"
   ]
  },
  {
   "cell_type": "code",
   "execution_count": 3,
   "metadata": {},
   "outputs": [],
   "source": [
    "csvGraphsPath=\"../graphs/csv/\"\n",
    "csvGraphFileName=\"facebook_combined.csv\"\n",
    "csvGraphFilePath=csvGraphsPath+csvGraphFileName\n",
    "fbGraph=gt.load_graph_from_csv(csvGraphFilePath)"
   ]
  },
  {
   "cell_type": "code",
   "execution_count": 4,
   "metadata": {},
   "outputs": [],
   "source": [
    "import igraph as ig"
   ]
  },
  {
   "cell_type": "code",
   "execution_count": 5,
   "metadata": {
    "scrolled": true
   },
   "outputs": [],
   "source": [
    "F=ig.Graph.Read(\"../graphs/ncol/facebook_combined.txt\",format=\"ncol\").as_undirected()"
   ]
  },
  {
   "cell_type": "code",
   "execution_count": 6,
   "metadata": {},
   "outputs": [
    {
     "name": "stdout",
     "output_type": "stream",
     "text": [
      "igraph.Vertex(<igraph.Graph object at 0x7fae885e0a90>, 2, {'name': 'V0'})\n"
     ]
    }
   ],
   "source": [
    "print(F.vs[2])"
   ]
  },
  {
   "cell_type": "code",
   "execution_count": 7,
   "metadata": {},
   "outputs": [],
   "source": [
    "partition=F.community_multilevel()"
   ]
  },
  {
   "cell_type": "code",
   "execution_count": 8,
   "metadata": {
    "scrolled": true
   },
   "outputs": [
    {
     "data": {
      "image/svg+xml": [
       "<?xml version=\"1.0\" encoding=\"UTF-8\"?>\n",
       "<svg xmlns=\"http://www.w3.org/2000/svg\" xmlns:xlink=\"http://www.w3.org/1999/xlink\" width=\"600pt\" height=\"600pt\" viewBox=\"0 0 600 600\" version=\"1.1\">\n",
       "<g id=\"surface2\">\n",
       "<rect x=\"0\" y=\"0\" width=\"600\" height=\"600\" style=\"fill:rgb(100%,100%,100%);fill-opacity:1;stroke:none;\"/>\n",
       "<path style=\"fill:none;stroke-width:1;stroke-linecap:butt;stroke-linejoin:miter;stroke:rgb(26.666667%,26.666667%,26.666667%);stroke-opacity:1;stroke-miterlimit:10;\" d=\"M 279.21875 352.71875 L 383.015625 428.007812 \"/>\n",
       "<path style=\"fill:none;stroke-width:1;stroke-linecap:butt;stroke-linejoin:miter;stroke:rgb(26.666667%,26.666667%,26.666667%);stroke-opacity:1;stroke-miterlimit:10;\" d=\"M 279.21875 352.71875 L 368.535156 273.390625 \"/>\n",
       "<path style=\"fill:none;stroke-width:1;stroke-linecap:butt;stroke-linejoin:miter;stroke:rgb(26.666667%,26.666667%,26.666667%);stroke-opacity:1;stroke-miterlimit:10;\" d=\"M 279.21875 352.71875 L 209.316406 300.207031 \"/>\n",
       "<path style=\"fill:none;stroke-width:1;stroke-linecap:butt;stroke-linejoin:miter;stroke:rgb(26.666667%,26.666667%,26.666667%);stroke-opacity:1;stroke-miterlimit:10;\" d=\"M 279.21875 352.71875 L 379.457031 188.402344 \"/>\n",
       "<path style=\"fill:none;stroke-width:1;stroke-linecap:butt;stroke-linejoin:miter;stroke:rgb(26.666667%,26.666667%,26.666667%);stroke-opacity:1;stroke-miterlimit:10;\" d=\"M 383.015625 428.007812 L 368.535156 273.390625 \"/>\n",
       "<path style=\"fill:none;stroke-width:1;stroke-linecap:butt;stroke-linejoin:miter;stroke:rgb(26.666667%,26.666667%,26.666667%);stroke-opacity:1;stroke-miterlimit:10;\" d=\"M 383.015625 428.007812 L 209.316406 300.207031 \"/>\n",
       "<path style=\"fill:none;stroke-width:1;stroke-linecap:butt;stroke-linejoin:miter;stroke:rgb(26.666667%,26.666667%,26.666667%);stroke-opacity:1;stroke-miterlimit:10;\" d=\"M 383.015625 428.007812 L 551.554688 387.953125 \"/>\n",
       "<path style=\"fill:none;stroke-width:1;stroke-linecap:butt;stroke-linejoin:miter;stroke:rgb(26.666667%,26.666667%,26.666667%);stroke-opacity:1;stroke-miterlimit:10;\" d=\"M 383.015625 428.007812 L 409.691406 334.050781 \"/>\n",
       "<path style=\"fill:none;stroke-width:1;stroke-linecap:butt;stroke-linejoin:miter;stroke:rgb(26.666667%,26.666667%,26.666667%);stroke-opacity:1;stroke-miterlimit:10;\" d=\"M 383.015625 428.007812 L 535.996094 282.757812 \"/>\n",
       "<path style=\"fill:none;stroke-width:1;stroke-linecap:butt;stroke-linejoin:miter;stroke:rgb(26.666667%,26.666667%,26.666667%);stroke-opacity:1;stroke-miterlimit:10;\" d=\"M 383.015625 428.007812 L 315.921875 580 \"/>\n",
       "<path style=\"fill:none;stroke-width:1;stroke-linecap:butt;stroke-linejoin:miter;stroke:rgb(26.666667%,26.666667%,26.666667%);stroke-opacity:1;stroke-miterlimit:10;\" d=\"M 383.015625 428.007812 L 501.835938 559.574219 \"/>\n",
       "<path style=\"fill:none;stroke-width:1;stroke-linecap:butt;stroke-linejoin:miter;stroke:rgb(26.666667%,26.666667%,26.666667%);stroke-opacity:1;stroke-miterlimit:10;\" d=\"M 368.535156 273.390625 L 209.316406 300.207031 \"/>\n",
       "<path style=\"fill:none;stroke-width:1;stroke-linecap:butt;stroke-linejoin:miter;stroke:rgb(26.666667%,26.666667%,26.666667%);stroke-opacity:1;stroke-miterlimit:10;\" d=\"M 368.535156 273.390625 L 379.457031 188.402344 \"/>\n",
       "<path style=\"fill:none;stroke-width:1;stroke-linecap:butt;stroke-linejoin:miter;stroke:rgb(26.666667%,26.666667%,26.666667%);stroke-opacity:1;stroke-miterlimit:10;\" d=\"M 368.535156 273.390625 L 551.554688 387.953125 \"/>\n",
       "<path style=\"fill:none;stroke-width:1;stroke-linecap:butt;stroke-linejoin:miter;stroke:rgb(26.666667%,26.666667%,26.666667%);stroke-opacity:1;stroke-miterlimit:10;\" d=\"M 368.535156 273.390625 L 409.691406 334.050781 \"/>\n",
       "<path style=\"fill:none;stroke-width:1;stroke-linecap:butt;stroke-linejoin:miter;stroke:rgb(26.666667%,26.666667%,26.666667%);stroke-opacity:1;stroke-miterlimit:10;\" d=\"M 368.535156 273.390625 L 535.996094 282.757812 \"/>\n",
       "<path style=\"fill:none;stroke-width:1;stroke-linecap:butt;stroke-linejoin:miter;stroke:rgb(26.666667%,26.666667%,26.666667%);stroke-opacity:1;stroke-miterlimit:10;\" d=\"M 368.535156 273.390625 L 306.824219 100.582031 \"/>\n",
       "<path style=\"fill:none;stroke-width:1;stroke-linecap:butt;stroke-linejoin:miter;stroke:rgb(26.666667%,26.666667%,26.666667%);stroke-opacity:1;stroke-miterlimit:10;\" d=\"M 209.316406 300.207031 L 379.457031 188.402344 \"/>\n",
       "<path style=\"fill:none;stroke-width:1;stroke-linecap:butt;stroke-linejoin:miter;stroke:rgb(26.666667%,26.666667%,26.666667%);stroke-opacity:1;stroke-miterlimit:10;\" d=\"M 209.316406 300.207031 L 409.691406 334.050781 \"/>\n",
       "<path style=\"fill:none;stroke-width:1;stroke-linecap:butt;stroke-linejoin:miter;stroke:rgb(26.666667%,26.666667%,26.666667%);stroke-opacity:1;stroke-miterlimit:10;\" d=\"M 209.316406 300.207031 L 61.359375 421.914062 \"/>\n",
       "<path style=\"fill:none;stroke-width:1;stroke-linecap:butt;stroke-linejoin:miter;stroke:rgb(26.666667%,26.666667%,26.666667%);stroke-opacity:1;stroke-miterlimit:10;\" d=\"M 209.316406 300.207031 L 20 310.597656 \"/>\n",
       "<path style=\"fill:none;stroke-width:1;stroke-linecap:butt;stroke-linejoin:miter;stroke:rgb(26.666667%,26.666667%,26.666667%);stroke-opacity:1;stroke-miterlimit:10;\" d=\"M 209.316406 300.207031 L 55.730469 197.597656 \"/>\n",
       "<path style=\"fill:none;stroke-width:1;stroke-linecap:butt;stroke-linejoin:miter;stroke:rgb(26.666667%,26.666667%,26.666667%);stroke-opacity:1;stroke-miterlimit:10;\" d=\"M 379.457031 188.402344 L 409.691406 334.050781 \"/>\n",
       "<path style=\"fill:none;stroke-width:1;stroke-linecap:butt;stroke-linejoin:miter;stroke:rgb(26.666667%,26.666667%,26.666667%);stroke-opacity:1;stroke-miterlimit:10;\" d=\"M 379.457031 188.402344 L 535.996094 282.757812 \"/>\n",
       "<path style=\"fill:none;stroke-width:1;stroke-linecap:butt;stroke-linejoin:miter;stroke:rgb(26.666667%,26.666667%,26.666667%);stroke-opacity:1;stroke-miterlimit:10;\" d=\"M 379.457031 188.402344 L 580 156.332031 \"/>\n",
       "<path style=\"fill:none;stroke-width:1;stroke-linecap:butt;stroke-linejoin:miter;stroke:rgb(26.666667%,26.666667%,26.666667%);stroke-opacity:1;stroke-miterlimit:10;\" d=\"M 379.457031 188.402344 L 306.824219 100.582031 \"/>\n",
       "<path style=\"fill:none;stroke-width:1;stroke-linecap:butt;stroke-linejoin:miter;stroke:rgb(26.666667%,26.666667%,26.666667%);stroke-opacity:1;stroke-miterlimit:10;\" d=\"M 379.457031 188.402344 L 400.292969 20 \"/>\n",
       "<path style=\"fill:none;stroke-width:1;stroke-linecap:butt;stroke-linejoin:miter;stroke:rgb(26.666667%,26.666667%,26.666667%);stroke-opacity:1;stroke-miterlimit:10;\" d=\"M 551.554688 387.953125 L 409.691406 334.050781 \"/>\n",
       "<path style=\"fill:none;stroke-width:1;stroke-linecap:butt;stroke-linejoin:miter;stroke:rgb(26.666667%,26.666667%,26.666667%);stroke-opacity:1;stroke-miterlimit:10;\" d=\"M 551.554688 387.953125 L 535.996094 282.757812 \"/>\n",
       "<path style=\"fill:none;stroke-width:1;stroke-linecap:butt;stroke-linejoin:miter;stroke:rgb(26.666667%,26.666667%,26.666667%);stroke-opacity:1;stroke-miterlimit:10;\" d=\"M 409.691406 334.050781 L 535.996094 282.757812 \"/>\n",
       "<path style=\"fill:none;stroke-width:1;stroke-linecap:butt;stroke-linejoin:miter;stroke:rgb(26.666667%,26.666667%,26.666667%);stroke-opacity:1;stroke-miterlimit:10;\" d=\"M 535.996094 282.757812 L 580 156.332031 \"/>\n",
       "<path style=\"fill:none;stroke-width:1;stroke-linecap:butt;stroke-linejoin:miter;stroke:rgb(26.666667%,26.666667%,26.666667%);stroke-opacity:1;stroke-miterlimit:10;\" d=\"M 61.359375 421.914062 L 20 310.597656 \"/>\n",
       "<path style=\"fill:none;stroke-width:1;stroke-linecap:butt;stroke-linejoin:miter;stroke:rgb(26.666667%,26.666667%,26.666667%);stroke-opacity:1;stroke-miterlimit:10;\" d=\"M 20 310.597656 L 55.730469 197.597656 \"/>\n",
       "<path style=\"fill:none;stroke-width:1;stroke-linecap:butt;stroke-linejoin:miter;stroke:rgb(26.666667%,26.666667%,26.666667%);stroke-opacity:1;stroke-miterlimit:10;\" d=\"M 306.824219 100.582031 L 400.292969 20 \"/>\n",
       "<path style=\"fill-rule:nonzero;fill:rgb(100%,0%,0%);fill-opacity:1;stroke-width:1;stroke-linecap:butt;stroke-linejoin:miter;stroke:rgb(0%,0%,0%);stroke-opacity:1;stroke-miterlimit:10;\" d=\"M 289.21875 352.71875 C 289.21875 358.242188 284.742188 362.71875 279.21875 362.71875 C 273.695312 362.71875 269.21875 358.242188 269.21875 352.71875 C 269.21875 347.195312 273.695312 342.71875 279.21875 342.71875 C 284.742188 342.71875 289.21875 347.195312 289.21875 352.71875 \"/>\n",
       "<path style=\"fill-rule:nonzero;fill:rgb(100%,0%,0%);fill-opacity:1;stroke-width:1;stroke-linecap:butt;stroke-linejoin:miter;stroke:rgb(0%,0%,0%);stroke-opacity:1;stroke-miterlimit:10;\" d=\"M 393.015625 428.007812 C 393.015625 433.53125 388.539062 438.007812 383.015625 438.007812 C 377.492188 438.007812 373.015625 433.53125 373.015625 428.007812 C 373.015625 422.484375 377.492188 418.007812 383.015625 418.007812 C 388.539062 418.007812 393.015625 422.484375 393.015625 428.007812 \"/>\n",
       "<path style=\"fill-rule:nonzero;fill:rgb(100%,0%,0%);fill-opacity:1;stroke-width:1;stroke-linecap:butt;stroke-linejoin:miter;stroke:rgb(0%,0%,0%);stroke-opacity:1;stroke-miterlimit:10;\" d=\"M 378.535156 273.390625 C 378.535156 278.914062 374.058594 283.390625 368.535156 283.390625 C 363.011719 283.390625 358.535156 278.914062 358.535156 273.390625 C 358.535156 267.867188 363.011719 263.390625 368.535156 263.390625 C 374.058594 263.390625 378.535156 267.867188 378.535156 273.390625 \"/>\n",
       "<path style=\"fill-rule:nonzero;fill:rgb(100%,0%,0%);fill-opacity:1;stroke-width:1;stroke-linecap:butt;stroke-linejoin:miter;stroke:rgb(0%,0%,0%);stroke-opacity:1;stroke-miterlimit:10;\" d=\"M 219.316406 300.207031 C 219.316406 305.730469 214.839844 310.207031 209.316406 310.207031 C 203.792969 310.207031 199.316406 305.730469 199.316406 300.207031 C 199.316406 294.683594 203.792969 290.207031 209.316406 290.207031 C 214.839844 290.207031 219.316406 294.683594 219.316406 300.207031 \"/>\n",
       "<path style=\"fill-rule:nonzero;fill:rgb(100%,0%,0%);fill-opacity:1;stroke-width:1;stroke-linecap:butt;stroke-linejoin:miter;stroke:rgb(0%,0%,0%);stroke-opacity:1;stroke-miterlimit:10;\" d=\"M 389.457031 188.402344 C 389.457031 193.925781 384.980469 198.402344 379.457031 198.402344 C 373.933594 198.402344 369.457031 193.925781 369.457031 188.402344 C 369.457031 182.878906 373.933594 178.402344 379.457031 178.402344 C 384.980469 178.402344 389.457031 182.878906 389.457031 188.402344 \"/>\n",
       "<path style=\"fill-rule:nonzero;fill:rgb(100%,0%,0%);fill-opacity:1;stroke-width:1;stroke-linecap:butt;stroke-linejoin:miter;stroke:rgb(0%,0%,0%);stroke-opacity:1;stroke-miterlimit:10;\" d=\"M 561.554688 387.953125 C 561.554688 393.476562 557.078125 397.953125 551.554688 397.953125 C 546.03125 397.953125 541.554688 393.476562 541.554688 387.953125 C 541.554688 382.429688 546.03125 377.953125 551.554688 377.953125 C 557.078125 377.953125 561.554688 382.429688 561.554688 387.953125 \"/>\n",
       "<path style=\"fill-rule:nonzero;fill:rgb(100%,0%,0%);fill-opacity:1;stroke-width:1;stroke-linecap:butt;stroke-linejoin:miter;stroke:rgb(0%,0%,0%);stroke-opacity:1;stroke-miterlimit:10;\" d=\"M 419.691406 334.050781 C 419.691406 339.574219 415.214844 344.050781 409.691406 344.050781 C 404.171875 344.050781 399.691406 339.574219 399.691406 334.050781 C 399.691406 328.53125 404.171875 324.050781 409.691406 324.050781 C 415.214844 324.050781 419.691406 328.53125 419.691406 334.050781 \"/>\n",
       "<path style=\"fill-rule:nonzero;fill:rgb(100%,0%,0%);fill-opacity:1;stroke-width:1;stroke-linecap:butt;stroke-linejoin:miter;stroke:rgb(0%,0%,0%);stroke-opacity:1;stroke-miterlimit:10;\" d=\"M 545.996094 282.757812 C 545.996094 288.28125 541.519531 292.757812 535.996094 292.757812 C 530.476562 292.757812 525.996094 288.28125 525.996094 282.757812 C 525.996094 277.234375 530.476562 272.757812 535.996094 272.757812 C 541.519531 272.757812 545.996094 277.234375 545.996094 282.757812 \"/>\n",
       "<path style=\"fill-rule:nonzero;fill:rgb(100%,0%,0%);fill-opacity:1;stroke-width:1;stroke-linecap:butt;stroke-linejoin:miter;stroke:rgb(0%,0%,0%);stroke-opacity:1;stroke-miterlimit:10;\" d=\"M 71.359375 421.914062 C 71.359375 427.433594 66.882812 431.914062 61.359375 431.914062 C 55.839844 431.914062 51.359375 427.433594 51.359375 421.914062 C 51.359375 416.390625 55.839844 411.914062 61.359375 411.914062 C 66.882812 411.914062 71.359375 416.390625 71.359375 421.914062 \"/>\n",
       "<path style=\"fill-rule:nonzero;fill:rgb(100%,0%,0%);fill-opacity:1;stroke-width:1;stroke-linecap:butt;stroke-linejoin:miter;stroke:rgb(0%,0%,0%);stroke-opacity:1;stroke-miterlimit:10;\" d=\"M 30 310.597656 C 30 316.121094 25.523438 320.597656 20 320.597656 C 14.476562 320.597656 10 316.121094 10 310.597656 C 10 305.074219 14.476562 300.597656 20 300.597656 C 25.523438 300.597656 30 305.074219 30 310.597656 \"/>\n",
       "<path style=\"fill-rule:nonzero;fill:rgb(100%,0%,0%);fill-opacity:1;stroke-width:1;stroke-linecap:butt;stroke-linejoin:miter;stroke:rgb(0%,0%,0%);stroke-opacity:1;stroke-miterlimit:10;\" d=\"M 325.921875 580 C 325.921875 585.523438 321.445312 590 315.921875 590 C 310.398438 590 305.921875 585.523438 305.921875 580 C 305.921875 574.476562 310.398438 570 315.921875 570 C 321.445312 570 325.921875 574.476562 325.921875 580 \"/>\n",
       "<path style=\"fill-rule:nonzero;fill:rgb(100%,0%,0%);fill-opacity:1;stroke-width:1;stroke-linecap:butt;stroke-linejoin:miter;stroke:rgb(0%,0%,0%);stroke-opacity:1;stroke-miterlimit:10;\" d=\"M 511.835938 559.574219 C 511.835938 565.097656 507.359375 569.574219 501.835938 569.574219 C 496.3125 569.574219 491.835938 565.097656 491.835938 559.574219 C 491.835938 554.050781 496.3125 549.574219 501.835938 549.574219 C 507.359375 549.574219 511.835938 554.050781 511.835938 559.574219 \"/>\n",
       "<path style=\"fill-rule:nonzero;fill:rgb(100%,0%,0%);fill-opacity:1;stroke-width:1;stroke-linecap:butt;stroke-linejoin:miter;stroke:rgb(0%,0%,0%);stroke-opacity:1;stroke-miterlimit:10;\" d=\"M 590 156.332031 C 590 161.855469 585.523438 166.332031 580 166.332031 C 574.476562 166.332031 570 161.855469 570 156.332031 C 570 150.808594 574.476562 146.332031 580 146.332031 C 585.523438 146.332031 590 150.808594 590 156.332031 \"/>\n",
       "<path style=\"fill-rule:nonzero;fill:rgb(100%,0%,0%);fill-opacity:1;stroke-width:1;stroke-linecap:butt;stroke-linejoin:miter;stroke:rgb(0%,0%,0%);stroke-opacity:1;stroke-miterlimit:10;\" d=\"M 316.824219 100.582031 C 316.824219 106.105469 312.347656 110.582031 306.824219 110.582031 C 301.304688 110.582031 296.824219 106.105469 296.824219 100.582031 C 296.824219 95.058594 301.304688 90.582031 306.824219 90.582031 C 312.347656 90.582031 316.824219 95.058594 316.824219 100.582031 \"/>\n",
       "<path style=\"fill-rule:nonzero;fill:rgb(100%,0%,0%);fill-opacity:1;stroke-width:1;stroke-linecap:butt;stroke-linejoin:miter;stroke:rgb(0%,0%,0%);stroke-opacity:1;stroke-miterlimit:10;\" d=\"M 410.292969 20 C 410.292969 25.523438 405.816406 30 400.292969 30 C 394.769531 30 390.292969 25.523438 390.292969 20 C 390.292969 14.476562 394.769531 10 400.292969 10 C 405.816406 10 410.292969 14.476562 410.292969 20 \"/>\n",
       "<path style=\"fill-rule:nonzero;fill:rgb(100%,0%,0%);fill-opacity:1;stroke-width:1;stroke-linecap:butt;stroke-linejoin:miter;stroke:rgb(0%,0%,0%);stroke-opacity:1;stroke-miterlimit:10;\" d=\"M 65.730469 197.597656 C 65.730469 203.121094 61.253906 207.597656 55.730469 207.597656 C 50.210938 207.597656 45.730469 203.121094 45.730469 197.597656 C 45.730469 192.074219 50.210938 187.597656 55.730469 187.597656 C 61.253906 187.597656 65.730469 192.074219 65.730469 197.597656 \"/>\n",
       "</g>\n",
       "</svg>\n"
      ],
      "text/plain": [
       "<igraph.drawing.Plot at 0x7fae8859fbe0>"
      ]
     },
     "execution_count": 8,
     "metadata": {
      "image/svg+xml": {
       "isolated": true
      }
     },
     "output_type": "execute_result"
    }
   ],
   "source": [
    "clusters=partition.cluster_graph()\n",
    "ig.plot(clusters)"
   ]
  },
  {
   "cell_type": "code",
   "execution_count": 9,
   "metadata": {},
   "outputs": [
    {
     "name": "stdout",
     "output_type": "stream",
     "text": [
      "False\n"
     ]
    }
   ],
   "source": [
    "len(clusters.vs)\n",
    "print(clusters.is_weighted())"
   ]
  },
  {
   "cell_type": "code",
   "execution_count": 10,
   "metadata": {},
   "outputs": [
    {
     "data": {
      "image/svg+xml": [
       "<?xml version=\"1.0\" encoding=\"UTF-8\"?>\n",
       "<svg xmlns=\"http://www.w3.org/2000/svg\" xmlns:xlink=\"http://www.w3.org/1999/xlink\" width=\"600pt\" height=\"600pt\" viewBox=\"0 0 600 600\" version=\"1.1\">\n",
       "<g id=\"surface8\">\n",
       "<rect x=\"0\" y=\"0\" width=\"600\" height=\"600\" style=\"fill:rgb(100%,100%,100%);fill-opacity:1;stroke:none;\"/>\n",
       "<path style=\"fill:none;stroke-width:1;stroke-linecap:butt;stroke-linejoin:miter;stroke:rgb(80%,80%,80%);stroke-opacity:1;stroke-miterlimit:10;\" d=\"M 279.21875 352.71875 L 383.015625 428.007812 \"/>\n",
       "<path style=\"fill:none;stroke-width:1;stroke-linecap:butt;stroke-linejoin:miter;stroke:rgb(80%,80%,80%);stroke-opacity:1;stroke-miterlimit:10;\" d=\"M 279.21875 352.71875 L 368.535156 273.390625 \"/>\n",
       "<path style=\"fill:none;stroke-width:1;stroke-linecap:butt;stroke-linejoin:miter;stroke:rgb(20%,20%,20%);stroke-opacity:1;stroke-miterlimit:10;\" d=\"M 279.21875 352.71875 L 209.316406 300.207031 \"/>\n",
       "<path style=\"fill:none;stroke-width:1;stroke-linecap:butt;stroke-linejoin:miter;stroke:rgb(80%,80%,80%);stroke-opacity:1;stroke-miterlimit:10;\" d=\"M 279.21875 352.71875 L 379.457031 188.402344 \"/>\n",
       "<path style=\"fill:none;stroke-width:1;stroke-linecap:butt;stroke-linejoin:miter;stroke:rgb(20%,20%,20%);stroke-opacity:1;stroke-miterlimit:10;\" d=\"M 383.015625 428.007812 L 368.535156 273.390625 \"/>\n",
       "<path style=\"fill:none;stroke-width:1;stroke-linecap:butt;stroke-linejoin:miter;stroke:rgb(80%,80%,80%);stroke-opacity:1;stroke-miterlimit:10;\" d=\"M 383.015625 428.007812 L 209.316406 300.207031 \"/>\n",
       "<path style=\"fill:none;stroke-width:1;stroke-linecap:butt;stroke-linejoin:miter;stroke:rgb(20%,20%,20%);stroke-opacity:1;stroke-miterlimit:10;\" d=\"M 383.015625 428.007812 L 551.554688 387.953125 \"/>\n",
       "<path style=\"fill:none;stroke-width:1;stroke-linecap:butt;stroke-linejoin:miter;stroke:rgb(20%,20%,20%);stroke-opacity:1;stroke-miterlimit:10;\" d=\"M 383.015625 428.007812 L 409.691406 334.050781 \"/>\n",
       "<path style=\"fill:none;stroke-width:1;stroke-linecap:butt;stroke-linejoin:miter;stroke:rgb(20%,20%,20%);stroke-opacity:1;stroke-miterlimit:10;\" d=\"M 383.015625 428.007812 L 535.996094 282.757812 \"/>\n",
       "<path style=\"fill:none;stroke-width:1;stroke-linecap:butt;stroke-linejoin:miter;stroke:rgb(20%,20%,20%);stroke-opacity:1;stroke-miterlimit:10;\" d=\"M 383.015625 428.007812 L 315.921875 580 \"/>\n",
       "<path style=\"fill:none;stroke-width:1;stroke-linecap:butt;stroke-linejoin:miter;stroke:rgb(20%,20%,20%);stroke-opacity:1;stroke-miterlimit:10;\" d=\"M 383.015625 428.007812 L 501.835938 559.574219 \"/>\n",
       "<path style=\"fill:none;stroke-width:1;stroke-linecap:butt;stroke-linejoin:miter;stroke:rgb(80%,80%,80%);stroke-opacity:1;stroke-miterlimit:10;\" d=\"M 368.535156 273.390625 L 209.316406 300.207031 \"/>\n",
       "<path style=\"fill:none;stroke-width:1;stroke-linecap:butt;stroke-linejoin:miter;stroke:rgb(80%,80%,80%);stroke-opacity:1;stroke-miterlimit:10;\" d=\"M 368.535156 273.390625 L 379.457031 188.402344 \"/>\n",
       "<path style=\"fill:none;stroke-width:1;stroke-linecap:butt;stroke-linejoin:miter;stroke:rgb(20%,20%,20%);stroke-opacity:1;stroke-miterlimit:10;\" d=\"M 368.535156 273.390625 L 551.554688 387.953125 \"/>\n",
       "<path style=\"fill:none;stroke-width:1;stroke-linecap:butt;stroke-linejoin:miter;stroke:rgb(20%,20%,20%);stroke-opacity:1;stroke-miterlimit:10;\" d=\"M 368.535156 273.390625 L 409.691406 334.050781 \"/>\n",
       "<path style=\"fill:none;stroke-width:1;stroke-linecap:butt;stroke-linejoin:miter;stroke:rgb(20%,20%,20%);stroke-opacity:1;stroke-miterlimit:10;\" d=\"M 368.535156 273.390625 L 535.996094 282.757812 \"/>\n",
       "<path style=\"fill:none;stroke-width:1;stroke-linecap:butt;stroke-linejoin:miter;stroke:rgb(80%,80%,80%);stroke-opacity:1;stroke-miterlimit:10;\" d=\"M 368.535156 273.390625 L 306.824219 100.582031 \"/>\n",
       "<path style=\"fill:none;stroke-width:1;stroke-linecap:butt;stroke-linejoin:miter;stroke:rgb(80%,80%,80%);stroke-opacity:1;stroke-miterlimit:10;\" d=\"M 209.316406 300.207031 L 379.457031 188.402344 \"/>\n",
       "<path style=\"fill:none;stroke-width:1;stroke-linecap:butt;stroke-linejoin:miter;stroke:rgb(80%,80%,80%);stroke-opacity:1;stroke-miterlimit:10;\" d=\"M 209.316406 300.207031 L 409.691406 334.050781 \"/>\n",
       "<path style=\"fill:none;stroke-width:1;stroke-linecap:butt;stroke-linejoin:miter;stroke:rgb(20%,20%,20%);stroke-opacity:1;stroke-miterlimit:10;\" d=\"M 209.316406 300.207031 L 61.359375 421.914062 \"/>\n",
       "<path style=\"fill:none;stroke-width:1;stroke-linecap:butt;stroke-linejoin:miter;stroke:rgb(20%,20%,20%);stroke-opacity:1;stroke-miterlimit:10;\" d=\"M 209.316406 300.207031 L 20 310.597656 \"/>\n",
       "<path style=\"fill:none;stroke-width:1;stroke-linecap:butt;stroke-linejoin:miter;stroke:rgb(20%,20%,20%);stroke-opacity:1;stroke-miterlimit:10;\" d=\"M 209.316406 300.207031 L 55.730469 197.597656 \"/>\n",
       "<path style=\"fill:none;stroke-width:1;stroke-linecap:butt;stroke-linejoin:miter;stroke:rgb(80%,80%,80%);stroke-opacity:1;stroke-miterlimit:10;\" d=\"M 379.457031 188.402344 L 409.691406 334.050781 \"/>\n",
       "<path style=\"fill:none;stroke-width:1;stroke-linecap:butt;stroke-linejoin:miter;stroke:rgb(80%,80%,80%);stroke-opacity:1;stroke-miterlimit:10;\" d=\"M 379.457031 188.402344 L 535.996094 282.757812 \"/>\n",
       "<path style=\"fill:none;stroke-width:1;stroke-linecap:butt;stroke-linejoin:miter;stroke:rgb(20%,20%,20%);stroke-opacity:1;stroke-miterlimit:10;\" d=\"M 379.457031 188.402344 L 580 156.332031 \"/>\n",
       "<path style=\"fill:none;stroke-width:1;stroke-linecap:butt;stroke-linejoin:miter;stroke:rgb(20%,20%,20%);stroke-opacity:1;stroke-miterlimit:10;\" d=\"M 379.457031 188.402344 L 306.824219 100.582031 \"/>\n",
       "<path style=\"fill:none;stroke-width:1;stroke-linecap:butt;stroke-linejoin:miter;stroke:rgb(20%,20%,20%);stroke-opacity:1;stroke-miterlimit:10;\" d=\"M 379.457031 188.402344 L 400.292969 20 \"/>\n",
       "<path style=\"fill:none;stroke-width:1;stroke-linecap:butt;stroke-linejoin:miter;stroke:rgb(20%,20%,20%);stroke-opacity:1;stroke-miterlimit:10;\" d=\"M 551.554688 387.953125 L 409.691406 334.050781 \"/>\n",
       "<path style=\"fill:none;stroke-width:1;stroke-linecap:butt;stroke-linejoin:miter;stroke:rgb(20%,20%,20%);stroke-opacity:1;stroke-miterlimit:10;\" d=\"M 551.554688 387.953125 L 535.996094 282.757812 \"/>\n",
       "<path style=\"fill:none;stroke-width:1;stroke-linecap:butt;stroke-linejoin:miter;stroke:rgb(20%,20%,20%);stroke-opacity:1;stroke-miterlimit:10;\" d=\"M 409.691406 334.050781 L 535.996094 282.757812 \"/>\n",
       "<path style=\"fill:none;stroke-width:1;stroke-linecap:butt;stroke-linejoin:miter;stroke:rgb(80%,80%,80%);stroke-opacity:1;stroke-miterlimit:10;\" d=\"M 535.996094 282.757812 L 580 156.332031 \"/>\n",
       "<path style=\"fill:none;stroke-width:1;stroke-linecap:butt;stroke-linejoin:miter;stroke:rgb(20%,20%,20%);stroke-opacity:1;stroke-miterlimit:10;\" d=\"M 61.359375 421.914062 L 20 310.597656 \"/>\n",
       "<path style=\"fill:none;stroke-width:1;stroke-linecap:butt;stroke-linejoin:miter;stroke:rgb(20%,20%,20%);stroke-opacity:1;stroke-miterlimit:10;\" d=\"M 20 310.597656 L 55.730469 197.597656 \"/>\n",
       "<path style=\"fill:none;stroke-width:1;stroke-linecap:butt;stroke-linejoin:miter;stroke:rgb(20%,20%,20%);stroke-opacity:1;stroke-miterlimit:10;\" d=\"M 306.824219 100.582031 L 400.292969 20 \"/>\n",
       "<path style=\"fill-rule:nonzero;fill:rgb(100%,0%,0%);fill-opacity:1;stroke-width:1;stroke-linecap:butt;stroke-linejoin:miter;stroke:rgb(0%,0%,0%);stroke-opacity:1;stroke-miterlimit:10;\" d=\"M 289.21875 352.71875 C 289.21875 358.242188 284.742188 362.71875 279.21875 362.71875 C 273.695312 362.71875 269.21875 358.242188 269.21875 352.71875 C 269.21875 347.195312 273.695312 342.71875 279.21875 342.71875 C 284.742188 342.71875 289.21875 347.195312 289.21875 352.71875 \"/>\n",
       "<path style=\"fill-rule:nonzero;fill:rgb(0%,100%,0%);fill-opacity:1;stroke-width:1;stroke-linecap:butt;stroke-linejoin:miter;stroke:rgb(0%,0%,0%);stroke-opacity:1;stroke-miterlimit:10;\" d=\"M 393.015625 428.007812 C 393.015625 433.53125 388.539062 438.007812 383.015625 438.007812 C 377.492188 438.007812 373.015625 433.53125 373.015625 428.007812 C 373.015625 422.484375 377.492188 418.007812 383.015625 418.007812 C 388.539062 418.007812 393.015625 422.484375 393.015625 428.007812 \"/>\n",
       "<path style=\"fill-rule:nonzero;fill:rgb(0%,100%,0%);fill-opacity:1;stroke-width:1;stroke-linecap:butt;stroke-linejoin:miter;stroke:rgb(0%,0%,0%);stroke-opacity:1;stroke-miterlimit:10;\" d=\"M 378.535156 273.390625 C 378.535156 278.914062 374.058594 283.390625 368.535156 283.390625 C 363.011719 283.390625 358.535156 278.914062 358.535156 273.390625 C 358.535156 267.867188 363.011719 263.390625 368.535156 263.390625 C 374.058594 263.390625 378.535156 267.867188 378.535156 273.390625 \"/>\n",
       "<path style=\"fill-rule:nonzero;fill:rgb(100%,0%,0%);fill-opacity:1;stroke-width:1;stroke-linecap:butt;stroke-linejoin:miter;stroke:rgb(0%,0%,0%);stroke-opacity:1;stroke-miterlimit:10;\" d=\"M 219.316406 300.207031 C 219.316406 305.730469 214.839844 310.207031 209.316406 310.207031 C 203.792969 310.207031 199.316406 305.730469 199.316406 300.207031 C 199.316406 294.683594 203.792969 290.207031 209.316406 290.207031 C 214.839844 290.207031 219.316406 294.683594 219.316406 300.207031 \"/>\n",
       "<path style=\"fill-rule:nonzero;fill:rgb(0%,0%,100%);fill-opacity:1;stroke-width:1;stroke-linecap:butt;stroke-linejoin:miter;stroke:rgb(0%,0%,0%);stroke-opacity:1;stroke-miterlimit:10;\" d=\"M 389.457031 188.402344 C 389.457031 193.925781 384.980469 198.402344 379.457031 198.402344 C 373.933594 198.402344 369.457031 193.925781 369.457031 188.402344 C 369.457031 182.878906 373.933594 178.402344 379.457031 178.402344 C 384.980469 178.402344 389.457031 182.878906 389.457031 188.402344 \"/>\n",
       "<path style=\"fill-rule:nonzero;fill:rgb(0%,100%,0%);fill-opacity:1;stroke-width:1;stroke-linecap:butt;stroke-linejoin:miter;stroke:rgb(0%,0%,0%);stroke-opacity:1;stroke-miterlimit:10;\" d=\"M 561.554688 387.953125 C 561.554688 393.476562 557.078125 397.953125 551.554688 397.953125 C 546.03125 397.953125 541.554688 393.476562 541.554688 387.953125 C 541.554688 382.429688 546.03125 377.953125 551.554688 377.953125 C 557.078125 377.953125 561.554688 382.429688 561.554688 387.953125 \"/>\n",
       "<path style=\"fill-rule:nonzero;fill:rgb(0%,100%,0%);fill-opacity:1;stroke-width:1;stroke-linecap:butt;stroke-linejoin:miter;stroke:rgb(0%,0%,0%);stroke-opacity:1;stroke-miterlimit:10;\" d=\"M 419.691406 334.050781 C 419.691406 339.574219 415.214844 344.050781 409.691406 344.050781 C 404.171875 344.050781 399.691406 339.574219 399.691406 334.050781 C 399.691406 328.53125 404.171875 324.050781 409.691406 324.050781 C 415.214844 324.050781 419.691406 328.53125 419.691406 334.050781 \"/>\n",
       "<path style=\"fill-rule:nonzero;fill:rgb(0%,100%,0%);fill-opacity:1;stroke-width:1;stroke-linecap:butt;stroke-linejoin:miter;stroke:rgb(0%,0%,0%);stroke-opacity:1;stroke-miterlimit:10;\" d=\"M 545.996094 282.757812 C 545.996094 288.28125 541.519531 292.757812 535.996094 292.757812 C 530.476562 292.757812 525.996094 288.28125 525.996094 282.757812 C 525.996094 277.234375 530.476562 272.757812 535.996094 272.757812 C 541.519531 272.757812 545.996094 277.234375 545.996094 282.757812 \"/>\n",
       "<path style=\"fill-rule:nonzero;fill:rgb(100%,0%,0%);fill-opacity:1;stroke-width:1;stroke-linecap:butt;stroke-linejoin:miter;stroke:rgb(0%,0%,0%);stroke-opacity:1;stroke-miterlimit:10;\" d=\"M 71.359375 421.914062 C 71.359375 427.433594 66.882812 431.914062 61.359375 431.914062 C 55.839844 431.914062 51.359375 427.433594 51.359375 421.914062 C 51.359375 416.390625 55.839844 411.914062 61.359375 411.914062 C 66.882812 411.914062 71.359375 416.390625 71.359375 421.914062 \"/>\n",
       "<path style=\"fill-rule:nonzero;fill:rgb(100%,0%,0%);fill-opacity:1;stroke-width:1;stroke-linecap:butt;stroke-linejoin:miter;stroke:rgb(0%,0%,0%);stroke-opacity:1;stroke-miterlimit:10;\" d=\"M 30 310.597656 C 30 316.121094 25.523438 320.597656 20 320.597656 C 14.476562 320.597656 10 316.121094 10 310.597656 C 10 305.074219 14.476562 300.597656 20 300.597656 C 25.523438 300.597656 30 305.074219 30 310.597656 \"/>\n",
       "<path style=\"fill-rule:nonzero;fill:rgb(0%,100%,0%);fill-opacity:1;stroke-width:1;stroke-linecap:butt;stroke-linejoin:miter;stroke:rgb(0%,0%,0%);stroke-opacity:1;stroke-miterlimit:10;\" d=\"M 325.921875 580 C 325.921875 585.523438 321.445312 590 315.921875 590 C 310.398438 590 305.921875 585.523438 305.921875 580 C 305.921875 574.476562 310.398438 570 315.921875 570 C 321.445312 570 325.921875 574.476562 325.921875 580 \"/>\n",
       "<path style=\"fill-rule:nonzero;fill:rgb(0%,100%,0%);fill-opacity:1;stroke-width:1;stroke-linecap:butt;stroke-linejoin:miter;stroke:rgb(0%,0%,0%);stroke-opacity:1;stroke-miterlimit:10;\" d=\"M 511.835938 559.574219 C 511.835938 565.097656 507.359375 569.574219 501.835938 569.574219 C 496.3125 569.574219 491.835938 565.097656 491.835938 559.574219 C 491.835938 554.050781 496.3125 549.574219 501.835938 549.574219 C 507.359375 549.574219 511.835938 554.050781 511.835938 559.574219 \"/>\n",
       "<path style=\"fill-rule:nonzero;fill:rgb(0%,0%,100%);fill-opacity:1;stroke-width:1;stroke-linecap:butt;stroke-linejoin:miter;stroke:rgb(0%,0%,0%);stroke-opacity:1;stroke-miterlimit:10;\" d=\"M 590 156.332031 C 590 161.855469 585.523438 166.332031 580 166.332031 C 574.476562 166.332031 570 161.855469 570 156.332031 C 570 150.808594 574.476562 146.332031 580 146.332031 C 585.523438 146.332031 590 150.808594 590 156.332031 \"/>\n",
       "<path style=\"fill-rule:nonzero;fill:rgb(0%,0%,100%);fill-opacity:1;stroke-width:1;stroke-linecap:butt;stroke-linejoin:miter;stroke:rgb(0%,0%,0%);stroke-opacity:1;stroke-miterlimit:10;\" d=\"M 316.824219 100.582031 C 316.824219 106.105469 312.347656 110.582031 306.824219 110.582031 C 301.304688 110.582031 296.824219 106.105469 296.824219 100.582031 C 296.824219 95.058594 301.304688 90.582031 306.824219 90.582031 C 312.347656 90.582031 316.824219 95.058594 316.824219 100.582031 \"/>\n",
       "<path style=\"fill-rule:nonzero;fill:rgb(0%,0%,100%);fill-opacity:1;stroke-width:1;stroke-linecap:butt;stroke-linejoin:miter;stroke:rgb(0%,0%,0%);stroke-opacity:1;stroke-miterlimit:10;\" d=\"M 410.292969 20 C 410.292969 25.523438 405.816406 30 400.292969 30 C 394.769531 30 390.292969 25.523438 390.292969 20 C 390.292969 14.476562 394.769531 10 400.292969 10 C 405.816406 10 410.292969 14.476562 410.292969 20 \"/>\n",
       "<path style=\"fill-rule:nonzero;fill:rgb(100%,0%,0%);fill-opacity:1;stroke-width:1;stroke-linecap:butt;stroke-linejoin:miter;stroke:rgb(0%,0%,0%);stroke-opacity:1;stroke-miterlimit:10;\" d=\"M 65.730469 197.597656 C 65.730469 203.121094 61.253906 207.597656 55.730469 207.597656 C 50.210938 207.597656 45.730469 203.121094 45.730469 197.597656 C 45.730469 192.074219 50.210938 187.597656 55.730469 187.597656 C 61.253906 187.597656 65.730469 192.074219 65.730469 197.597656 \"/>\n",
       "</g>\n",
       "</svg>\n"
      ],
      "text/plain": [
       "<igraph.drawing.Plot at 0x7fae8859fc70>"
      ]
     },
     "execution_count": 10,
     "metadata": {
      "image/svg+xml": {
       "isolated": true
      }
     },
     "output_type": "execute_result"
    }
   ],
   "source": [
    "subpartition=clusters.community_leading_eigenvector()\n",
    "ig.plot(subpartition)"
   ]
  },
  {
   "cell_type": "code",
   "execution_count": 11,
   "metadata": {},
   "outputs": [
    {
     "data": {
      "text/plain": [
       "3"
      ]
     },
     "execution_count": 11,
     "metadata": {},
     "output_type": "execute_result"
    }
   ],
   "source": [
    "len(subpartition)"
   ]
  },
  {
   "cell_type": "code",
   "execution_count": 12,
   "metadata": {
    "scrolled": true
   },
   "outputs": [],
   "source": [
    "for c in partition:\n",
    "    color=[random(),random(),random(),1.]\n",
    "    for v in c:\n",
    "        partition.graph.vs[v][\"color\"]=color\n",
    "        for e in partition.graph.incident(v):\n",
    "            ed=partition.graph.es[e]\n",
    "            if ed.source in c and ed.target in c:\n",
    "                ed[\"color\"]=[0.,0.,0.,1.]\n",
    "            else:\n",
    "                ed[\"color\"]=[0.5,0.5,0.5,1.]"
   ]
  },
  {
   "cell_type": "code",
   "execution_count": 13,
   "metadata": {
    "scrolled": true
   },
   "outputs": [],
   "source": [
    "#print(partition)"
   ]
  },
  {
   "cell_type": "code",
   "execution_count": 76,
   "metadata": {},
   "outputs": [],
   "source": [
    "def chooseVertex(graph):\n",
    "    assert len(graph.vs)>0, \"Can't choose a vertex in an empty graph.\" \n",
    "    node=None\n",
    "    node=graph.vs[int(random()*len(graph.vs))].index\n",
    "    print(\"chose\",node)\n",
    "    assert node is not None\n",
    "    return node"
   ]
  },
  {
   "cell_type": "code",
   "execution_count": 81,
   "metadata": {},
   "outputs": [],
   "source": [
    "def maxMinPCCNodeSelection(dictPCC):\n",
    "    assert dictPCC!={}\n",
    "    chosenId=None\n",
    "    nbNodes=len(list(dictPCC.values())[0])\n",
    "    maxDist=-1\n",
    "    maxDistNode=None\n",
    "    print(dictPCC)\n",
    "    for nodeId in range(nbNodes):\n",
    "        if nodeId not in dictPCC.keys():\n",
    "            minDist=-1\n",
    "            minDistNode=nodeId\n",
    "            for chosenNode in dictPCC.keys():\n",
    "                if minDist==-1 or dictPCC[chosenNode][nodeId]<minDist:\n",
    "                    minDist=dictPCC[chosenNode][nodeId]\n",
    "            if minDist>maxDist:\n",
    "                maxDist=minDist\n",
    "                maxDistNode=minDistNode\n",
    "    chosenId=maxDistNode\n",
    "    return chosenId"
   ]
  },
  {
   "cell_type": "code",
   "execution_count": 82,
   "metadata": {},
   "outputs": [],
   "source": [
    "def maxShortestPathNodesSelection(graph,nbNodes,boundaryNodes=[]):\n",
    "    if boundaryNodes==[]:\n",
    "        chosenIds=[chooseVertex(graph)]\n",
    "    else:\n",
    "        chosenIds=boundaryNodes.copy()\n",
    "    #BFS initial des noeuds dans chosenIds\n",
    "    matPCC=graph.shortest_paths_dijkstra(chosenIds)\n",
    "    dictPCC={chosenId:matPCC[idxPCC] for idxPCC,chosenId in enumerate(chosenIds)}\n",
    "    print(\"d\",dictPCC)\n",
    "    #nbNodes fois\n",
    "    print(\"l\",len(chosenIds),nbNodes)\n",
    "    while len(chosenIds)<nbNodes:\n",
    "        print(\".\")\n",
    "        chosenNodeId=maxMinPCCNodeSelection(dictPCC)\n",
    "        #BFS du nouveau noeud\n",
    "        dictPCC[chosenNodeId]=graph.shortest_paths_dijkstra(chosenNodeId)[0] #On prend la ligne de la matrice qui correspond au noeud\n",
    "        chosenIds.append(chosenNodeId)\n",
    "    return chosenIds[len(boundaryNodes):]"
   ]
  },
  {
   "cell_type": "code",
   "execution_count": 83,
   "metadata": {},
   "outputs": [],
   "source": [
    "def assignWorkers(partition,nWorkers):\n",
    "    assert nWorkers>=0, \"{} workers to assign: Number of workers to assign must be positive or zero\".format(nWorkers)\n",
    "    assert len(partition.graph.vs)>=nWorkers, \"{} workers to assign on {} nodes: Can't assign more workers than there are vertices\".format(nWorkers,len(partition.graph.vs))\n",
    "\n",
    "    clusterGraph=partition.cluster_graph()\n",
    "    for idx, cluster in enumerate(clusterGraph.vs):\n",
    "        cluster[\"name\"]=\"C{}\".format(idx)\n",
    "    #print(clusterGraph)\n",
    "    workerIds=[]\n",
    "    chosenClusters=[]\n",
    "    if len(partition)<nWorkers:\n",
    "        pass #Etape 1'\n",
    "    #PC:il y a au moins autant de clusters que de workers\n",
    "    if len(partition)==nWorkers:\n",
    "        #1cluster/1worker\n",
    "        for cluster in clusterGraph.vs[2:]:\n",
    "            cluster[\"nb_workers\"]=1\n",
    "    else:\n",
    "        workerIds=maxShortestPathNodesSelection(clusterGraph,nWorkers)\n",
    "        print(workerIds)\n",
    "    #Etape2\n",
    "    #for chaque cluster de workers\n",
    "    #prendre son sous-graphe+ les noeuds frontaliers d'autres clusters, BFS des frontières et Etape1 nb_workers fois\n",
    "    #print([v[\"nb_workers\"] for v in clusterGraph.vs])\n",
    "    assert len(workerIds)==nWorkers\n",
    "    return workerIds"
   ]
  },
  {
   "cell_type": "code",
   "execution_count": 98,
   "metadata": {
    "scrolled": false
   },
   "outputs": [
    {
     "name": "stdout",
     "output_type": "stream",
     "text": [
      "chose 8\n",
      "d {8: [2, 2, 2, 1, 2, 3, 2, 3, 0, 1, 3, 3, 3, 3, 3, 2]}\n",
      "l 1 10\n",
      ".\n",
      "{8: [2, 2, 2, 1, 2, 3, 2, 3, 0, 1, 3, 3, 3, 3, 3, 2]}\n",
      ".\n",
      "{8: [2, 2, 2, 1, 2, 3, 2, 3, 0, 1, 3, 3, 3, 3, 3, 2], 5: [2, 1, 1, 2, 2, 0, 1, 1, 3, 3, 2, 2, 2, 2, 3, 3]}\n",
      ".\n",
      "{8: [2, 2, 2, 1, 2, 3, 2, 3, 0, 1, 3, 3, 3, 3, 3, 2], 5: [2, 1, 1, 2, 2, 0, 1, 1, 3, 3, 2, 2, 2, 2, 3, 3], 14: [2, 3, 2, 2, 1, 3, 2, 2, 3, 3, 4, 4, 2, 1, 0, 3]}\n",
      ".\n",
      "{8: [2, 2, 2, 1, 2, 3, 2, 3, 0, 1, 3, 3, 3, 3, 3, 2], 5: [2, 1, 1, 2, 2, 0, 1, 1, 3, 3, 2, 2, 2, 2, 3, 3], 14: [2, 3, 2, 2, 1, 3, 2, 2, 3, 3, 4, 4, 2, 1, 0, 3], 0: [0, 1, 1, 1, 1, 2, 2, 2, 2, 2, 2, 2, 2, 2, 2, 2]}\n",
      ".\n",
      "{8: [2, 2, 2, 1, 2, 3, 2, 3, 0, 1, 3, 3, 3, 3, 3, 2], 5: [2, 1, 1, 2, 2, 0, 1, 1, 3, 3, 2, 2, 2, 2, 3, 3], 14: [2, 3, 2, 2, 1, 3, 2, 2, 3, 3, 4, 4, 2, 1, 0, 3], 0: [0, 1, 1, 1, 1, 2, 2, 2, 2, 2, 2, 2, 2, 2, 2, 2], 10: [2, 1, 2, 2, 3, 2, 2, 2, 3, 3, 0, 2, 3, 3, 4, 3]}\n",
      ".\n",
      "{8: [2, 2, 2, 1, 2, 3, 2, 3, 0, 1, 3, 3, 3, 3, 3, 2], 5: [2, 1, 1, 2, 2, 0, 1, 1, 3, 3, 2, 2, 2, 2, 3, 3], 14: [2, 3, 2, 2, 1, 3, 2, 2, 3, 3, 4, 4, 2, 1, 0, 3], 0: [0, 1, 1, 1, 1, 2, 2, 2, 2, 2, 2, 2, 2, 2, 2, 2], 10: [2, 1, 2, 2, 3, 2, 2, 2, 3, 3, 0, 2, 3, 3, 4, 3], 11: [2, 1, 2, 2, 3, 2, 2, 2, 3, 3, 2, 0, 3, 3, 4, 3]}\n",
      ".\n",
      "{8: [2, 2, 2, 1, 2, 3, 2, 3, 0, 1, 3, 3, 3, 3, 3, 2], 5: [2, 1, 1, 2, 2, 0, 1, 1, 3, 3, 2, 2, 2, 2, 3, 3], 14: [2, 3, 2, 2, 1, 3, 2, 2, 3, 3, 4, 4, 2, 1, 0, 3], 0: [0, 1, 1, 1, 1, 2, 2, 2, 2, 2, 2, 2, 2, 2, 2, 2], 10: [2, 1, 2, 2, 3, 2, 2, 2, 3, 3, 0, 2, 3, 3, 4, 3], 11: [2, 1, 2, 2, 3, 2, 2, 2, 3, 3, 2, 0, 3, 3, 4, 3], 12: [2, 2, 2, 2, 1, 2, 2, 1, 3, 3, 3, 3, 0, 2, 2, 3]}\n",
      ".\n",
      "{8: [2, 2, 2, 1, 2, 3, 2, 3, 0, 1, 3, 3, 3, 3, 3, 2], 5: [2, 1, 1, 2, 2, 0, 1, 1, 3, 3, 2, 2, 2, 2, 3, 3], 14: [2, 3, 2, 2, 1, 3, 2, 2, 3, 3, 4, 4, 2, 1, 0, 3], 0: [0, 1, 1, 1, 1, 2, 2, 2, 2, 2, 2, 2, 2, 2, 2, 2], 10: [2, 1, 2, 2, 3, 2, 2, 2, 3, 3, 0, 2, 3, 3, 4, 3], 11: [2, 1, 2, 2, 3, 2, 2, 2, 3, 3, 2, 0, 3, 3, 4, 3], 12: [2, 2, 2, 2, 1, 2, 2, 1, 3, 3, 3, 3, 0, 2, 2, 3], 15: [2, 2, 2, 1, 2, 3, 2, 3, 2, 1, 3, 3, 3, 3, 3, 0]}\n",
      ".\n",
      "{8: [2, 2, 2, 1, 2, 3, 2, 3, 0, 1, 3, 3, 3, 3, 3, 2], 5: [2, 1, 1, 2, 2, 0, 1, 1, 3, 3, 2, 2, 2, 2, 3, 3], 14: [2, 3, 2, 2, 1, 3, 2, 2, 3, 3, 4, 4, 2, 1, 0, 3], 0: [0, 1, 1, 1, 1, 2, 2, 2, 2, 2, 2, 2, 2, 2, 2, 2], 10: [2, 1, 2, 2, 3, 2, 2, 2, 3, 3, 0, 2, 3, 3, 4, 3], 11: [2, 1, 2, 2, 3, 2, 2, 2, 3, 3, 2, 0, 3, 3, 4, 3], 12: [2, 2, 2, 2, 1, 2, 2, 1, 3, 3, 3, 3, 0, 2, 2, 3], 15: [2, 2, 2, 1, 2, 3, 2, 3, 2, 1, 3, 3, 3, 3, 3, 0], 1: [1, 0, 1, 1, 2, 1, 1, 1, 2, 2, 1, 1, 2, 2, 3, 2]}\n",
      "[8, 5, 14, 0, 10, 11, 12, 15, 1, 2]\n"
     ]
    }
   ],
   "source": [
    "workerIds=assignWorkers(partition,10)"
   ]
  },
  {
   "cell_type": "code",
   "execution_count": 99,
   "metadata": {},
   "outputs": [
    {
     "data": {
      "image/svg+xml": [
       "<?xml version=\"1.0\" encoding=\"UTF-8\"?>\n",
       "<svg xmlns=\"http://www.w3.org/2000/svg\" xmlns:xlink=\"http://www.w3.org/1999/xlink\" width=\"600pt\" height=\"600pt\" viewBox=\"0 0 600 600\" version=\"1.1\">\n",
       "<g id=\"surface50\">\n",
       "<rect x=\"0\" y=\"0\" width=\"600\" height=\"600\" style=\"fill:rgb(100%,100%,100%);fill-opacity:1;stroke:none;\"/>\n",
       "<path style=\"fill:none;stroke-width:1;stroke-linecap:butt;stroke-linejoin:miter;stroke:rgb(26.666667%,26.666667%,26.666667%);stroke-opacity:1;stroke-miterlimit:10;\" d=\"M 279.21875 352.71875 L 383.015625 428.007812 \"/>\n",
       "<path style=\"fill:none;stroke-width:1;stroke-linecap:butt;stroke-linejoin:miter;stroke:rgb(26.666667%,26.666667%,26.666667%);stroke-opacity:1;stroke-miterlimit:10;\" d=\"M 279.21875 352.71875 L 368.535156 273.390625 \"/>\n",
       "<path style=\"fill:none;stroke-width:1;stroke-linecap:butt;stroke-linejoin:miter;stroke:rgb(26.666667%,26.666667%,26.666667%);stroke-opacity:1;stroke-miterlimit:10;\" d=\"M 279.21875 352.71875 L 209.316406 300.207031 \"/>\n",
       "<path style=\"fill:none;stroke-width:1;stroke-linecap:butt;stroke-linejoin:miter;stroke:rgb(26.666667%,26.666667%,26.666667%);stroke-opacity:1;stroke-miterlimit:10;\" d=\"M 279.21875 352.71875 L 379.457031 188.402344 \"/>\n",
       "<path style=\"fill:none;stroke-width:1;stroke-linecap:butt;stroke-linejoin:miter;stroke:rgb(26.666667%,26.666667%,26.666667%);stroke-opacity:1;stroke-miterlimit:10;\" d=\"M 383.015625 428.007812 L 368.535156 273.390625 \"/>\n",
       "<path style=\"fill:none;stroke-width:1;stroke-linecap:butt;stroke-linejoin:miter;stroke:rgb(26.666667%,26.666667%,26.666667%);stroke-opacity:1;stroke-miterlimit:10;\" d=\"M 383.015625 428.007812 L 209.316406 300.207031 \"/>\n",
       "<path style=\"fill:none;stroke-width:1;stroke-linecap:butt;stroke-linejoin:miter;stroke:rgb(26.666667%,26.666667%,26.666667%);stroke-opacity:1;stroke-miterlimit:10;\" d=\"M 383.015625 428.007812 L 551.554688 387.953125 \"/>\n",
       "<path style=\"fill:none;stroke-width:1;stroke-linecap:butt;stroke-linejoin:miter;stroke:rgb(26.666667%,26.666667%,26.666667%);stroke-opacity:1;stroke-miterlimit:10;\" d=\"M 383.015625 428.007812 L 409.691406 334.050781 \"/>\n",
       "<path style=\"fill:none;stroke-width:1;stroke-linecap:butt;stroke-linejoin:miter;stroke:rgb(26.666667%,26.666667%,26.666667%);stroke-opacity:1;stroke-miterlimit:10;\" d=\"M 383.015625 428.007812 L 535.996094 282.757812 \"/>\n",
       "<path style=\"fill:none;stroke-width:1;stroke-linecap:butt;stroke-linejoin:miter;stroke:rgb(26.666667%,26.666667%,26.666667%);stroke-opacity:1;stroke-miterlimit:10;\" d=\"M 383.015625 428.007812 L 315.921875 580 \"/>\n",
       "<path style=\"fill:none;stroke-width:1;stroke-linecap:butt;stroke-linejoin:miter;stroke:rgb(26.666667%,26.666667%,26.666667%);stroke-opacity:1;stroke-miterlimit:10;\" d=\"M 383.015625 428.007812 L 501.835938 559.574219 \"/>\n",
       "<path style=\"fill:none;stroke-width:1;stroke-linecap:butt;stroke-linejoin:miter;stroke:rgb(26.666667%,26.666667%,26.666667%);stroke-opacity:1;stroke-miterlimit:10;\" d=\"M 368.535156 273.390625 L 209.316406 300.207031 \"/>\n",
       "<path style=\"fill:none;stroke-width:1;stroke-linecap:butt;stroke-linejoin:miter;stroke:rgb(26.666667%,26.666667%,26.666667%);stroke-opacity:1;stroke-miterlimit:10;\" d=\"M 368.535156 273.390625 L 379.457031 188.402344 \"/>\n",
       "<path style=\"fill:none;stroke-width:1;stroke-linecap:butt;stroke-linejoin:miter;stroke:rgb(26.666667%,26.666667%,26.666667%);stroke-opacity:1;stroke-miterlimit:10;\" d=\"M 368.535156 273.390625 L 551.554688 387.953125 \"/>\n",
       "<path style=\"fill:none;stroke-width:1;stroke-linecap:butt;stroke-linejoin:miter;stroke:rgb(26.666667%,26.666667%,26.666667%);stroke-opacity:1;stroke-miterlimit:10;\" d=\"M 368.535156 273.390625 L 409.691406 334.050781 \"/>\n",
       "<path style=\"fill:none;stroke-width:1;stroke-linecap:butt;stroke-linejoin:miter;stroke:rgb(26.666667%,26.666667%,26.666667%);stroke-opacity:1;stroke-miterlimit:10;\" d=\"M 368.535156 273.390625 L 535.996094 282.757812 \"/>\n",
       "<path style=\"fill:none;stroke-width:1;stroke-linecap:butt;stroke-linejoin:miter;stroke:rgb(26.666667%,26.666667%,26.666667%);stroke-opacity:1;stroke-miterlimit:10;\" d=\"M 368.535156 273.390625 L 306.824219 100.582031 \"/>\n",
       "<path style=\"fill:none;stroke-width:1;stroke-linecap:butt;stroke-linejoin:miter;stroke:rgb(26.666667%,26.666667%,26.666667%);stroke-opacity:1;stroke-miterlimit:10;\" d=\"M 209.316406 300.207031 L 379.457031 188.402344 \"/>\n",
       "<path style=\"fill:none;stroke-width:1;stroke-linecap:butt;stroke-linejoin:miter;stroke:rgb(26.666667%,26.666667%,26.666667%);stroke-opacity:1;stroke-miterlimit:10;\" d=\"M 209.316406 300.207031 L 409.691406 334.050781 \"/>\n",
       "<path style=\"fill:none;stroke-width:1;stroke-linecap:butt;stroke-linejoin:miter;stroke:rgb(26.666667%,26.666667%,26.666667%);stroke-opacity:1;stroke-miterlimit:10;\" d=\"M 209.316406 300.207031 L 61.359375 421.914062 \"/>\n",
       "<path style=\"fill:none;stroke-width:1;stroke-linecap:butt;stroke-linejoin:miter;stroke:rgb(26.666667%,26.666667%,26.666667%);stroke-opacity:1;stroke-miterlimit:10;\" d=\"M 209.316406 300.207031 L 20 310.597656 \"/>\n",
       "<path style=\"fill:none;stroke-width:1;stroke-linecap:butt;stroke-linejoin:miter;stroke:rgb(26.666667%,26.666667%,26.666667%);stroke-opacity:1;stroke-miterlimit:10;\" d=\"M 209.316406 300.207031 L 55.730469 197.597656 \"/>\n",
       "<path style=\"fill:none;stroke-width:1;stroke-linecap:butt;stroke-linejoin:miter;stroke:rgb(26.666667%,26.666667%,26.666667%);stroke-opacity:1;stroke-miterlimit:10;\" d=\"M 379.457031 188.402344 L 409.691406 334.050781 \"/>\n",
       "<path style=\"fill:none;stroke-width:1;stroke-linecap:butt;stroke-linejoin:miter;stroke:rgb(26.666667%,26.666667%,26.666667%);stroke-opacity:1;stroke-miterlimit:10;\" d=\"M 379.457031 188.402344 L 535.996094 282.757812 \"/>\n",
       "<path style=\"fill:none;stroke-width:1;stroke-linecap:butt;stroke-linejoin:miter;stroke:rgb(26.666667%,26.666667%,26.666667%);stroke-opacity:1;stroke-miterlimit:10;\" d=\"M 379.457031 188.402344 L 580 156.332031 \"/>\n",
       "<path style=\"fill:none;stroke-width:1;stroke-linecap:butt;stroke-linejoin:miter;stroke:rgb(26.666667%,26.666667%,26.666667%);stroke-opacity:1;stroke-miterlimit:10;\" d=\"M 379.457031 188.402344 L 306.824219 100.582031 \"/>\n",
       "<path style=\"fill:none;stroke-width:1;stroke-linecap:butt;stroke-linejoin:miter;stroke:rgb(26.666667%,26.666667%,26.666667%);stroke-opacity:1;stroke-miterlimit:10;\" d=\"M 379.457031 188.402344 L 400.292969 20 \"/>\n",
       "<path style=\"fill:none;stroke-width:1;stroke-linecap:butt;stroke-linejoin:miter;stroke:rgb(26.666667%,26.666667%,26.666667%);stroke-opacity:1;stroke-miterlimit:10;\" d=\"M 551.554688 387.953125 L 409.691406 334.050781 \"/>\n",
       "<path style=\"fill:none;stroke-width:1;stroke-linecap:butt;stroke-linejoin:miter;stroke:rgb(26.666667%,26.666667%,26.666667%);stroke-opacity:1;stroke-miterlimit:10;\" d=\"M 551.554688 387.953125 L 535.996094 282.757812 \"/>\n",
       "<path style=\"fill:none;stroke-width:1;stroke-linecap:butt;stroke-linejoin:miter;stroke:rgb(26.666667%,26.666667%,26.666667%);stroke-opacity:1;stroke-miterlimit:10;\" d=\"M 409.691406 334.050781 L 535.996094 282.757812 \"/>\n",
       "<path style=\"fill:none;stroke-width:1;stroke-linecap:butt;stroke-linejoin:miter;stroke:rgb(26.666667%,26.666667%,26.666667%);stroke-opacity:1;stroke-miterlimit:10;\" d=\"M 535.996094 282.757812 L 580 156.332031 \"/>\n",
       "<path style=\"fill:none;stroke-width:1;stroke-linecap:butt;stroke-linejoin:miter;stroke:rgb(26.666667%,26.666667%,26.666667%);stroke-opacity:1;stroke-miterlimit:10;\" d=\"M 61.359375 421.914062 L 20 310.597656 \"/>\n",
       "<path style=\"fill:none;stroke-width:1;stroke-linecap:butt;stroke-linejoin:miter;stroke:rgb(26.666667%,26.666667%,26.666667%);stroke-opacity:1;stroke-miterlimit:10;\" d=\"M 20 310.597656 L 55.730469 197.597656 \"/>\n",
       "<path style=\"fill:none;stroke-width:1;stroke-linecap:butt;stroke-linejoin:miter;stroke:rgb(26.666667%,26.666667%,26.666667%);stroke-opacity:1;stroke-miterlimit:10;\" d=\"M 306.824219 100.582031 L 400.292969 20 \"/>\n",
       "<path style=\"fill-rule:nonzero;fill:rgb(0%,0%,100%);fill-opacity:1;stroke-width:1;stroke-linecap:butt;stroke-linejoin:miter;stroke:rgb(0%,0%,0%);stroke-opacity:1;stroke-miterlimit:10;\" d=\"M 289.21875 352.71875 C 289.21875 358.242188 284.742188 362.71875 279.21875 362.71875 C 273.695312 362.71875 269.21875 358.242188 269.21875 352.71875 C 269.21875 347.195312 273.695312 342.71875 279.21875 342.71875 C 284.742188 342.71875 289.21875 347.195312 289.21875 352.71875 \"/>\n",
       "<path style=\"fill-rule:nonzero;fill:rgb(0%,0%,100%);fill-opacity:1;stroke-width:1;stroke-linecap:butt;stroke-linejoin:miter;stroke:rgb(0%,0%,0%);stroke-opacity:1;stroke-miterlimit:10;\" d=\"M 393.015625 428.007812 C 393.015625 433.53125 388.539062 438.007812 383.015625 438.007812 C 377.492188 438.007812 373.015625 433.53125 373.015625 428.007812 C 373.015625 422.484375 377.492188 418.007812 383.015625 418.007812 C 388.539062 418.007812 393.015625 422.484375 393.015625 428.007812 \"/>\n",
       "<path style=\"fill-rule:nonzero;fill:rgb(0%,0%,100%);fill-opacity:1;stroke-width:1;stroke-linecap:butt;stroke-linejoin:miter;stroke:rgb(0%,0%,0%);stroke-opacity:1;stroke-miterlimit:10;\" d=\"M 378.535156 273.390625 C 378.535156 278.914062 374.058594 283.390625 368.535156 283.390625 C 363.011719 283.390625 358.535156 278.914062 358.535156 273.390625 C 358.535156 267.867188 363.011719 263.390625 368.535156 263.390625 C 374.058594 263.390625 378.535156 267.867188 378.535156 273.390625 \"/>\n",
       "<path style=\"fill-rule:nonzero;fill:rgb(100%,0%,0%);fill-opacity:1;stroke-width:1;stroke-linecap:butt;stroke-linejoin:miter;stroke:rgb(0%,0%,0%);stroke-opacity:1;stroke-miterlimit:10;\" d=\"M 219.316406 300.207031 C 219.316406 305.730469 214.839844 310.207031 209.316406 310.207031 C 203.792969 310.207031 199.316406 305.730469 199.316406 300.207031 C 199.316406 294.683594 203.792969 290.207031 209.316406 290.207031 C 214.839844 290.207031 219.316406 294.683594 219.316406 300.207031 \"/>\n",
       "<path style=\"fill-rule:nonzero;fill:rgb(100%,0%,0%);fill-opacity:1;stroke-width:1;stroke-linecap:butt;stroke-linejoin:miter;stroke:rgb(0%,0%,0%);stroke-opacity:1;stroke-miterlimit:10;\" d=\"M 389.457031 188.402344 C 389.457031 193.925781 384.980469 198.402344 379.457031 198.402344 C 373.933594 198.402344 369.457031 193.925781 369.457031 188.402344 C 369.457031 182.878906 373.933594 178.402344 379.457031 178.402344 C 384.980469 178.402344 389.457031 182.878906 389.457031 188.402344 \"/>\n",
       "<path style=\"fill-rule:nonzero;fill:rgb(0%,0%,100%);fill-opacity:1;stroke-width:1;stroke-linecap:butt;stroke-linejoin:miter;stroke:rgb(0%,0%,0%);stroke-opacity:1;stroke-miterlimit:10;\" d=\"M 561.554688 387.953125 C 561.554688 393.476562 557.078125 397.953125 551.554688 397.953125 C 546.03125 397.953125 541.554688 393.476562 541.554688 387.953125 C 541.554688 382.429688 546.03125 377.953125 551.554688 377.953125 C 557.078125 377.953125 561.554688 382.429688 561.554688 387.953125 \"/>\n",
       "<path style=\"fill-rule:nonzero;fill:rgb(100%,0%,0%);fill-opacity:1;stroke-width:1;stroke-linecap:butt;stroke-linejoin:miter;stroke:rgb(0%,0%,0%);stroke-opacity:1;stroke-miterlimit:10;\" d=\"M 419.691406 334.050781 C 419.691406 339.574219 415.214844 344.050781 409.691406 344.050781 C 404.171875 344.050781 399.691406 339.574219 399.691406 334.050781 C 399.691406 328.53125 404.171875 324.050781 409.691406 324.050781 C 415.214844 324.050781 419.691406 328.53125 419.691406 334.050781 \"/>\n",
       "<path style=\"fill-rule:nonzero;fill:rgb(100%,0%,0%);fill-opacity:1;stroke-width:1;stroke-linecap:butt;stroke-linejoin:miter;stroke:rgb(0%,0%,0%);stroke-opacity:1;stroke-miterlimit:10;\" d=\"M 545.996094 282.757812 C 545.996094 288.28125 541.519531 292.757812 535.996094 292.757812 C 530.476562 292.757812 525.996094 288.28125 525.996094 282.757812 C 525.996094 277.234375 530.476562 272.757812 535.996094 272.757812 C 541.519531 272.757812 545.996094 277.234375 545.996094 282.757812 \"/>\n",
       "<path style=\"fill-rule:nonzero;fill:rgb(0%,0%,100%);fill-opacity:1;stroke-width:1;stroke-linecap:butt;stroke-linejoin:miter;stroke:rgb(0%,0%,0%);stroke-opacity:1;stroke-miterlimit:10;\" d=\"M 71.359375 421.914062 C 71.359375 427.433594 66.882812 431.914062 61.359375 431.914062 C 55.839844 431.914062 51.359375 427.433594 51.359375 421.914062 C 51.359375 416.390625 55.839844 411.914062 61.359375 411.914062 C 66.882812 411.914062 71.359375 416.390625 71.359375 421.914062 \"/>\n",
       "<path style=\"fill-rule:nonzero;fill:rgb(100%,0%,0%);fill-opacity:1;stroke-width:1;stroke-linecap:butt;stroke-linejoin:miter;stroke:rgb(0%,0%,0%);stroke-opacity:1;stroke-miterlimit:10;\" d=\"M 30 310.597656 C 30 316.121094 25.523438 320.597656 20 320.597656 C 14.476562 320.597656 10 316.121094 10 310.597656 C 10 305.074219 14.476562 300.597656 20 300.597656 C 25.523438 300.597656 30 305.074219 30 310.597656 \"/>\n",
       "<path style=\"fill-rule:nonzero;fill:rgb(0%,0%,100%);fill-opacity:1;stroke-width:1;stroke-linecap:butt;stroke-linejoin:miter;stroke:rgb(0%,0%,0%);stroke-opacity:1;stroke-miterlimit:10;\" d=\"M 325.921875 580 C 325.921875 585.523438 321.445312 590 315.921875 590 C 310.398438 590 305.921875 585.523438 305.921875 580 C 305.921875 574.476562 310.398438 570 315.921875 570 C 321.445312 570 325.921875 574.476562 325.921875 580 \"/>\n",
       "<path style=\"fill-rule:nonzero;fill:rgb(0%,0%,100%);fill-opacity:1;stroke-width:1;stroke-linecap:butt;stroke-linejoin:miter;stroke:rgb(0%,0%,0%);stroke-opacity:1;stroke-miterlimit:10;\" d=\"M 511.835938 559.574219 C 511.835938 565.097656 507.359375 569.574219 501.835938 569.574219 C 496.3125 569.574219 491.835938 565.097656 491.835938 559.574219 C 491.835938 554.050781 496.3125 549.574219 501.835938 549.574219 C 507.359375 549.574219 511.835938 554.050781 511.835938 559.574219 \"/>\n",
       "<path style=\"fill-rule:nonzero;fill:rgb(0%,0%,100%);fill-opacity:1;stroke-width:1;stroke-linecap:butt;stroke-linejoin:miter;stroke:rgb(0%,0%,0%);stroke-opacity:1;stroke-miterlimit:10;\" d=\"M 590 156.332031 C 590 161.855469 585.523438 166.332031 580 166.332031 C 574.476562 166.332031 570 161.855469 570 156.332031 C 570 150.808594 574.476562 146.332031 580 146.332031 C 585.523438 146.332031 590 150.808594 590 156.332031 \"/>\n",
       "<path style=\"fill-rule:nonzero;fill:rgb(100%,0%,0%);fill-opacity:1;stroke-width:1;stroke-linecap:butt;stroke-linejoin:miter;stroke:rgb(0%,0%,0%);stroke-opacity:1;stroke-miterlimit:10;\" d=\"M 316.824219 100.582031 C 316.824219 106.105469 312.347656 110.582031 306.824219 110.582031 C 301.304688 110.582031 296.824219 106.105469 296.824219 100.582031 C 296.824219 95.058594 301.304688 90.582031 306.824219 90.582031 C 312.347656 90.582031 316.824219 95.058594 316.824219 100.582031 \"/>\n",
       "<path style=\"fill-rule:nonzero;fill:rgb(0%,0%,100%);fill-opacity:1;stroke-width:1;stroke-linecap:butt;stroke-linejoin:miter;stroke:rgb(0%,0%,0%);stroke-opacity:1;stroke-miterlimit:10;\" d=\"M 410.292969 20 C 410.292969 25.523438 405.816406 30 400.292969 30 C 394.769531 30 390.292969 25.523438 390.292969 20 C 390.292969 14.476562 394.769531 10 400.292969 10 C 405.816406 10 410.292969 14.476562 410.292969 20 \"/>\n",
       "<path style=\"fill-rule:nonzero;fill:rgb(0%,0%,100%);fill-opacity:1;stroke-width:1;stroke-linecap:butt;stroke-linejoin:miter;stroke:rgb(0%,0%,0%);stroke-opacity:1;stroke-miterlimit:10;\" d=\"M 65.730469 197.597656 C 65.730469 203.121094 61.253906 207.597656 55.730469 207.597656 C 50.210938 207.597656 45.730469 203.121094 45.730469 197.597656 C 45.730469 192.074219 50.210938 187.597656 55.730469 187.597656 C 61.253906 187.597656 65.730469 192.074219 65.730469 197.597656 \"/>\n",
       "</g>\n",
       "</svg>\n"
      ],
      "text/plain": [
       "<igraph.drawing.Plot at 0x7fae884e5100>"
      ]
     },
     "execution_count": 99,
     "metadata": {
      "image/svg+xml": {
       "isolated": true
      }
     },
     "output_type": "execute_result"
    }
   ],
   "source": [
    "clusterGraph=partition.cluster_graph()\n",
    "for cluster in clusterGraph.vs:\n",
    "    if cluster.index in workerIds:\n",
    "        cluster[\"color\"]=\"blue\"\n",
    "ig.plot(clusterGraph)"
   ]
  },
  {
   "cell_type": "code",
   "execution_count": null,
   "metadata": {
    "scrolled": true
   },
   "outputs": [],
   "source": [
    "G=partition.graph.to_graph_tool(vertex_attributes={\"color\":\"vector<float>\"},edge_attributes={\"color\":\"vector<float>\"})\n",
    "gt.graph_draw(G, vertex_fill_color=G.vertex_properties[\"color\"],edge_color=G.edge_properties[\"color\"])"
   ]
  },
  {
   "cell_type": "code",
   "execution_count": null,
   "metadata": {},
   "outputs": [],
   "source": []
  },
  {
   "cell_type": "raw",
   "metadata": {},
   "source": []
  }
 ],
 "metadata": {
  "kernelspec": {
   "display_name": "Python 3",
   "language": "python",
   "name": "python3"
  },
  "language_info": {
   "codemirror_mode": {
    "name": "ipython",
    "version": 3
   },
   "file_extension": ".py",
   "mimetype": "text/x-python",
   "name": "python",
   "nbconvert_exporter": "python",
   "pygments_lexer": "ipython3",
   "version": "3.8.5"
  }
 },
 "nbformat": 4,
 "nbformat_minor": 4
}
