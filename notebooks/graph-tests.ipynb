{
 "cells": [
  {
   "cell_type": "code",
   "execution_count": 1,
   "metadata": {},
   "outputs": [],
   "source": [
    "import graph_tool.all as gt\n",
    "from math import sqrt"
   ]
  },
  {
   "cell_type": "code",
   "execution_count": 2,
   "metadata": {},
   "outputs": [],
   "source": [
    "from random import *"
   ]
  },
  {
   "cell_type": "code",
   "execution_count": 3,
   "metadata": {},
   "outputs": [],
   "source": [
    "csvGraphsPath=\"../graphs/csv/\"\n",
    "csvGraphFileName=\"facebook_combined.csv\"\n",
    "csvGraphFilePath=csvGraphsPath+csvGraphFileName\n",
    "fbGraph=gt.load_graph_from_csv(csvGraphFilePath)"
   ]
  },
  {
   "cell_type": "code",
   "execution_count": 4,
   "metadata": {},
   "outputs": [],
   "source": [
    "import igraph as ig"
   ]
  },
  {
   "cell_type": "code",
   "execution_count": 5,
   "metadata": {
    "scrolled": true
   },
   "outputs": [],
   "source": [
    "F=ig.Graph.Read(\"../graphs/ncol/facebook_combined.txt\",format=\"ncol\").as_undirected()"
   ]
  },
  {
   "cell_type": "code",
   "execution_count": 6,
   "metadata": {},
   "outputs": [],
   "source": [
    "nbWorkers=31"
   ]
  },
  {
   "cell_type": "code",
   "execution_count": 7,
   "metadata": {},
   "outputs": [],
   "source": [
    "import colorsys\n",
    "import math\n",
    "def colorDistribution(nbColors):\n",
    "    assert nbColors>=1\n",
    "    base=13\n",
    "    maxValues=4\n",
    "    nbValues=math.ceil(nbColors/base)\n",
    "    if nbValues==1:\n",
    "        values=[1]\n",
    "    else:\n",
    "        denominatorV=min(maxValues,nbValues)\n",
    "        values=[min(1,0.5+0.5*v/(denominatorV-1)) for v in range(denominatorV)]\n",
    "\n",
    "    if nbColors==1:\n",
    "        hues=[0]\n",
    "    else:\n",
    "        denominatorH=min(base,nbColors)\n",
    "        hues=[h/(denominatorH) for h in range(denominatorH)]\n",
    "    sats=[1]\n",
    "    nbSat=1\n",
    "    if nbValues>maxValues:\n",
    "        nbSat=math.ceil(nbColors/(denominatorH*denominatorV))\n",
    "        sats=[min(1,0.4+0.5*s/(nbSat-1)) for s in range(nbSat)]\n",
    "    HSVs=[]\n",
    "    \n",
    "    for value in values[::-1]:\n",
    "        for i in range(len(hues)):\n",
    "            for sat in sats[::-1]:\n",
    "                if i%2==0:\n",
    "                    HSVs.append((hues[i//2],sat,value))\n",
    "                else:\n",
    "                    HSVs.append((hues[-i//2],sat,value))\n",
    "\n",
    "    colours = [colorsys.hsv_to_rgb(hue, sat, value) for hue,sat,value in HSVs]\n",
    "    return colours"
   ]
  },
  {
   "cell_type": "code",
   "execution_count": 8,
   "metadata": {},
   "outputs": [],
   "source": [
    "def findCommunities(graph):\n",
    "    detect_communities=[graph.community_multilevel,\n",
    "                        graph.community_label_propagation,\n",
    "                        graph.community_leading_eigenvector]\n",
    "    \n",
    "    partition=detect_communities[0]()\n",
    "    \n",
    "    colours=colorDistribution(len(partition))\n",
    "\n",
    "    for idx, c in enumerate(partition):\n",
    "        color=colours[idx]\n",
    "        for v in c:\n",
    "            partition.graph.vs[v][\"color\"]=color\n",
    "            partition.graph.vs[v][\"cluster\"]=idx\n",
    "            for e in partition.graph.incident(v):\n",
    "                ed=partition.graph.es[e]\n",
    "                if ed.source in c and ed.target in c:\n",
    "                    ed[\"color\"]=[0.,0.,0.,1.]\n",
    "                else:\n",
    "                    ed[\"color\"]=[0.5,0.5,0.5,1.]\n",
    "    return partition"
   ]
  },
  {
   "cell_type": "code",
   "execution_count": 9,
   "metadata": {},
   "outputs": [],
   "source": [
    "def chooseVertex(graph):\n",
    "    assert len(graph.vs)>0, \"Can't choose a vertex in an empty graph.\" \n",
    "    node=None\n",
    "    minBetweenness = -1\n",
    "    for idx, betweenness in enumerate(graph.betweenness()):\n",
    "        if betweenness < minBetweenness or minBetweenness == -1 :\n",
    "            node= idx\n",
    "        if betweenness==0:\n",
    "            break\n",
    "    assert node is not None\n",
    "    return node"
   ]
  },
  {
   "cell_type": "code",
   "execution_count": 10,
   "metadata": {},
   "outputs": [],
   "source": [
    "def distanceCrit(value):\n",
    "    outputs=[0,0,5,10]\n",
    "    if value>=len(outputs):\n",
    "        return outputs[-1]\n",
    "    return outputs[value]"
   ]
  },
  {
   "cell_type": "code",
   "execution_count": 11,
   "metadata": {},
   "outputs": [],
   "source": [
    "def maxMinPCCNodeSelection(dictPCC):\n",
    "    assert dictPCC!={}\n",
    "    chosenId=None\n",
    "    nbNodes=len(list(dictPCC.values())[0])\n",
    "    maxDist=-1\n",
    "    maxSumDist=-1\n",
    "    maxDistNode=None\n",
    "    for nodeId in range(nbNodes):\n",
    "        if nodeId not in dictPCC.keys():\n",
    "            minDist=-1\n",
    "            minDistNode=nodeId\n",
    "            for chosenNode in dictPCC.keys():\n",
    "                if minDist==-1 or dictPCC[chosenNode][nodeId]<minDist:\n",
    "                    minDist=dictPCC[chosenNode][nodeId]\n",
    "            #if equivalent on criterion 1, calculate criterion 2\n",
    "            sumDist=-1\n",
    "            if maxSumDist==-1 or minDist==maxDist:\n",
    "                #sumDist=sum([dictPCC[chosenNode][nodeId] for chosenNode in dictPCC.keys()])\n",
    "                #sumDist=random()\n",
    "                sumDist=sum([distanceCrit(dictPCC[chosenNode][nodeId]) for chosenNode in dictPCC.keys()])\n",
    "            #if better crit1 or equal crit1 but better crit2\n",
    "            if minDist>maxDist or (minDist==maxDist and sumDist>maxSumDist):\n",
    "                maxDist=minDist\n",
    "                maxDistNode=minDistNode\n",
    "                maxSumDist=sumDist\n",
    "    chosenId=maxDistNode\n",
    "    return chosenId"
   ]
  },
  {
   "cell_type": "code",
   "execution_count": 12,
   "metadata": {},
   "outputs": [],
   "source": [
    "def maxShortestPathNodesSelection(graph,nbNodes,boundaryNodes=[]):\n",
    "    assert len(graph.vs)-len(boundaryNodes)>= nbNodes, \"{} {} {}\".format(len(graph.vs),nbNodes,len(boundaryNodes))\n",
    "    if boundaryNodes==[]:\n",
    "        chosenIds=[chooseVertex(graph)]\n",
    "    else:\n",
    "        chosenIds=boundaryNodes.copy()\n",
    "    #BFS initial des noeuds dans chosenIds\n",
    "    matPCC=graph.shortest_paths_dijkstra(chosenIds)\n",
    "    dictPCC={chosenId:matPCC[idxPCC] for idxPCC,chosenId in enumerate(chosenIds)}\n",
    "    \n",
    "    #nbNodes fois\n",
    "    while len(chosenIds)-len(boundaryNodes)<nbNodes:\n",
    "        chosenNodeId=maxMinPCCNodeSelection(dictPCC)\n",
    "\n",
    "        #BFS du nouveau noeud\n",
    "        dictPCC[chosenNodeId]=graph.shortest_paths_dijkstra(chosenNodeId)[0] #On prend la ligne de la matrice qui correspond au noeud\n",
    "        chosenIds.append(chosenNodeId)\n",
    "    assert len(chosenIds)==len(boundaryNodes)+nbNodes\n",
    "    return chosenIds[len(boundaryNodes):]"
   ]
  },
  {
   "cell_type": "code",
   "execution_count": 13,
   "metadata": {},
   "outputs": [],
   "source": [
    "def defineBoundary(graph, clusterVertices, clusterId):\n",
    "    boundaryVertices=set()\n",
    "    for v in clusterVertices: #Trouver les successeurs hors cluster aka les noeuds frontaliers au cluster\n",
    "        boundaryVertices.update([bv for bv in v.successors() if bv[\"cluster\"]!=clusterId])\n",
    "    boundaryVertices=list(boundaryVertices)\n",
    "    \n",
    "    return boundaryVertices"
   ]
  },
  {
   "cell_type": "code",
   "execution_count": 14,
   "metadata": {},
   "outputs": [],
   "source": [
    "def drawBoundedCluster(boundedCluster,workerIds,clusterId):\n",
    "    for node in boundedCluster.vs:\n",
    "        if node[\"name\"]in boundedCluster.vs[workerIds][\"name\"]:\n",
    "            node[\"shape\"]=\"triangle\"\n",
    "\n",
    "    ig.plot(boundedCluster,\"../graphs/img/cluster{}.png\".format(clusterId))"
   ]
  },
  {
   "cell_type": "code",
   "execution_count": 15,
   "metadata": {},
   "outputs": [],
   "source": [
    "def assignWorkersInCommunity(graph,clusterGraph,clusterId):\n",
    "    clusterVertices=[v for v in graph.vs if v[\"cluster\"]==clusterId]\n",
    "    \n",
    "    boundaryVertices=[]\n",
    "    boundaryVertices=defineBoundary(graph,clusterVertices,clusterId)\n",
    "    \n",
    "    boundedCluster=graph.induced_subgraph(boundaryVertices+clusterVertices)\n",
    "    \n",
    "    #Réidentification des noeuds du graphe global vers le sous-graphe\n",
    "    #clusterVertices=[boundedCluster.vs.find(v[\"name\"]) for v in clusterVertices]\n",
    "    boundaryVertices=[boundedCluster.vs.find(v[\"name\"]) for v in boundaryVertices]\n",
    "    boundaryVerticesIds=[bv.index for bv in boundaryVertices]\n",
    "    \n",
    "    workerIds=maxShortestPathNodesSelection(boundedCluster,clusterGraph.vs[clusterId][\"nb_workers\"],boundaryVerticesIds)\n",
    "    \n",
    "    #drawBoundedCluster(boundedCluster,workerIds,clusterId)\n",
    "    \n",
    "    return boundedCluster.vs[workerIds][\"name\"]"
   ]
  },
  {
   "cell_type": "code",
   "execution_count": 16,
   "metadata": {},
   "outputs": [],
   "source": [
    "import scipy\n",
    "import pylab\n",
    "import scipy.cluster.hierarchy as sch\n",
    "def biggestOnesSquare(srcDF):\n",
    "    matPCC=srcDF.to_numpy()\n",
    "    # Generate features and distance matrix.\n",
    "    D = scipy.zeros([len(matPCC),len(matPCC)])\n",
    "    for i in range(len(matPCC)):\n",
    "        for j in range(len(matPCC)):\n",
    "            D[i,j] = matPCC[i][j]\n",
    "\n",
    "    # Compute and plot dendrogram.\n",
    "    fig = pylab.figure()\n",
    "    axdendro = fig.add_axes([0.09,0.1,0.2,0.8])\n",
    "    Y = sch.linkage(D, method='complete')\n",
    "    Z = sch.dendrogram(Y, orientation='right')\n",
    "    axdendro.set_xticks([])\n",
    "    axdendro.set_yticks([])\n",
    "\n",
    "    # Plot distance matrix.\n",
    "    axmatrix = fig.add_axes([0.3,0.1,0.6,0.8])\n",
    "    index = Z['leaves']\n",
    "    D = D[index,:]\n",
    "    D = D[:,index]\n",
    "    im = axmatrix.matshow(D, aspect='auto', origin='lower')\n",
    "    axmatrix.set_xticks([])\n",
    "    axmatrix.set_yticks([])\n",
    "\n",
    "    # Plot colorbar.\n",
    "    axcolor = fig.add_axes([0.91,0.1,0.02,0.8])\n",
    "    pylab.colorbar(im, cax=axcolor)\n",
    "\n",
    "    # Display and save figure.\n",
    "    fig.show()\n",
    "    fig.savefig('dendrogram.png')\n",
    "    return 0\n"
   ]
  },
  {
   "cell_type": "markdown",
   "metadata": {},
   "source": [
    "import numpy as np\n",
    "import pandas as pd\n",
    "from itertools import combinations  \n",
    "import math \n",
    "def biggestOnesSquare(srcDF):\n",
    "    maxSize=1\n",
    "    maxCombination=None\n",
    "    sizeLimit=int(math.sqrt(np.count_nonzero(srcDF.to_numpy()==1)))\n",
    "    print(sizeLimit)\n",
    "    for index, row in srcDF.iterrows():\n",
    "        candidates=[srcDF.columns[idC] for idC, val in enumerate(row) if val==1]\n",
    "        for i in list(range(maxSize+1,min(sizeLimit,len(candidates)))):\n",
    "            for combi in combinations(candidates,i):\n",
    "                candidateDF=srcDF[list(combi)].filter(items=combi, axis=0)\n",
    "                #print(candidateDF)\n",
    "                if (candidateDF==1).all(axis=None):\n",
    "                    maxSize=len(combi)\n",
    "                    maxCombination=combi\n",
    "                    print(maxSize)\n",
    "                    break\n",
    "    return maxSize"
   ]
  },
  {
   "cell_type": "markdown",
   "metadata": {},
   "source": [
    "import scipy\n",
    "    import scipy.cluster.hierarchy as sch\n",
    "    X=pdYLen\n",
    "    #X = df.corr().values\n",
    "    d = sch.distance.pdist(X)   # vector of ('55' choose 2) pairwise distances\n",
    "    L = sch.linkage(d, method='complete')\n",
    "    ind = sch.fcluster(L, 0.5*d.max(), 'distance')\n",
    "    columns = [pdYLen.columns.tolist()[i] for i in list((np.argsort(ind)))]\n",
    "    df = pdYLen[columns]\n",
    "    df=df.filter(items=columns, axis=0)\n",
    "    print(df)"
   ]
  },
  {
   "cell_type": "markdown",
   "metadata": {},
   "source": [
    "import numpy as np\n",
    "import pandas as pd\n",
    "\n",
    "def maxNodesWithDistConstraint(matPCC, candidatesIds, minDist):\n",
    "    maxCandidates=set()\n",
    "    \n",
    "    y=np.vectorize(lambda i:1 if i>=minDist or i==0 else 0)(np.array(matPCC)) \n",
    "    print(np.size(y))\n",
    "    print(len(candidatesIds))\n",
    "    nbOnes=lambda line:sum(line)\n",
    "    \n",
    "    lenOrderedCandidates=sorted(candidatesIds, key=lambda k:nbOnes(y[k]), reverse=True)\n",
    "\n",
    "    pdY=pd.DataFrame(y,range(len(y[0])),range(len(y[0])))\n",
    "    pdYLen=pdY[lenOrderedCandidates]\n",
    "    pdYLen=pdYLen.filter(items=lenOrderedCandidates, axis=0)\n",
    "    print(pdYLen)\n",
    "\n",
    "    sizeBiggest=biggestOnesSquare(pdYLen)\n",
    "    print(sizeBiggest)\n",
    "    \n",
    "    return maxCandidates"
   ]
  },
  {
   "cell_type": "markdown",
   "metadata": {},
   "source": [
    "def subgraphCapacity(graph, minDist):\n",
    "    nodes=graph.vs\n",
    "    candidates=set()\n",
    "    matPCC=graph.shortest_paths_dijkstra()\n",
    "\n",
    "    for i in range(len(matPCC)):\n",
    "        for j in range(len(matPCC)):\n",
    "            if i!=j and matPCC[i][j]>=minDist:\n",
    "                candidates.add(nodes[i])\n",
    "\n",
    "    compatiblePositions=[idx for idx,n in enumerate(nodes) if n in candidates]\n",
    "    candidates=maxNodesWithDistConstraint(matPCC, compatiblePositions, minDist)\n",
    "    \n",
    "    print(\"len(c)\",len(candidates),\"len(n)\",len(nodes))\n",
    "    return candidates"
   ]
  },
  {
   "cell_type": "markdown",
   "metadata": {},
   "source": [
    "def capacityBasedWorkerAssignment(graph,partition,clusterGraph,remainingWorkers):\n",
    "    assignedWorkers=remainingWorkers#0\n",
    "    \n",
    "    for clusterId, subgraph in enumerate(partition.subgraphs()):\n",
    "        diameter=subgraph.diameter()\n",
    "        radius=int(subgraph.radius())\n",
    "        print(\"d\",diameter,\"r\", radius)\n",
    "        for eccentricity in range(2,diameter+1):\n",
    "            print(\"e\",eccentricity)\n",
    "            subgraphCapacity(subgraph,eccentricity)\n",
    "    assert assignedWorkers==remainingWorkers, \"Only {} assigned workers out of {}\".format(assignedWorkers,remainingWorkers)\n",
    "    return clusterGraph"
   ]
  },
  {
   "cell_type": "code",
   "execution_count": 20,
   "metadata": {},
   "outputs": [],
   "source": [
    "def sizeOrderedRoundRobinWorkerAssignement(graph,partition,clusterGraph,remainingWorkers):\n",
    "    graphSize=len(graph.vs)\n",
    "    relativeSizes=[len(partition.subgraph(int(cluster[\"name\"][1:])).vs)/graphSize for cluster in clusterGraph.vs]\n",
    "\n",
    "    sortedIdxPerSize=sorted(range(len(relativeSizes)), key=lambda k: relativeSizes[k], reverse=True)\n",
    "    sortedSizes=sorted(relativeSizes)\n",
    "\n",
    "    #Round Robin par ordre de taille des clusters\n",
    "    currentCluster=0\n",
    "    while remainingWorkers>0:\n",
    "        currentSortedCluster=sortedIdxPerSize[currentCluster]\n",
    "        if clusterGraph.vs[currentSortedCluster][\"nb_workers\"]<len(partition.subgraph(currentSortedCluster).vs):\n",
    "            clusterGraph.vs[currentSortedCluster][\"nb_workers\"]+=1\n",
    "            remainingWorkers-=1\n",
    "        currentCluster+=1\n",
    "        if currentCluster>=len(clusterGraph.vs):\n",
    "            currentCluster=0\n",
    "    return clusterGraph"
   ]
  },
  {
   "cell_type": "code",
   "execution_count": 21,
   "metadata": {},
   "outputs": [],
   "source": [
    "def sizeProRataWorkerAssignement(graph,partition,clusterGraph,remainingWorkers):\n",
    "    graphSize=len(graph.vs)\n",
    "    relativeSizes=[len(partition.subgraph(int(cluster[\"name\"][1:])).vs)/graphSize for cluster in clusterGraph.vs]\n",
    "\n",
    "    proRataWorkers=[remainingWorkers*size for size in relativeSizes]\n",
    "    intProRataWorkers=[int(prw) for prw in proRataWorkers]\n",
    "    \n",
    "    assignedWorkers=sum(intProRataWorkers)\n",
    "    if assignedWorkers < remainingWorkers:\n",
    "        remainingProRataWorkers=[prw - prw//1 for prw in proRataWorkers]\n",
    "        sortedIdx=sorted(range(len(remainingProRataWorkers)), key=lambda k: remainingProRataWorkers[k], reverse=True)\n",
    "\n",
    "        for i in range(remainingWorkers-assignedWorkers):\n",
    "            intProRataWorkers[sortedIdx[i]]+=1\n",
    "            assignedWorkers+=1\n",
    "        \n",
    "    for idx, cluster in enumerate(clusterGraph.vs):\n",
    "        cluster[\"nb_workers\"]+=intProRataWorkers[idx]\n",
    "    \n",
    "    assert assignedWorkers==remainingWorkers, \"Only {} assigned workers out of {}\".format(assignedWorkers,remainingWorkers)\n",
    "    return clusterGraph"
   ]
  },
  {
   "cell_type": "code",
   "execution_count": 22,
   "metadata": {},
   "outputs": [],
   "source": [
    "def diameterProRataWorkerAssignement(graph,partition,clusterGraph,remainingWorkers):\n",
    "\n",
    "    diameters=[subgraph.diameter() for subgraph in partition.subgraphs()]\n",
    "    sumDiameters=sum(diameters)\n",
    "    \n",
    "    proRataWorkers=[remainingWorkers*diameter/sumDiameters for diameter in diameters]\n",
    "    intProRataWorkers=[int(prw) for prw in proRataWorkers]\n",
    "    \n",
    "    assignedWorkers=sum(intProRataWorkers)\n",
    "    if assignedWorkers < remainingWorkers:\n",
    "        remainingProRataWorkers=[prw - prw//1 for prw in proRataWorkers]\n",
    "        sortedIdx=sorted(range(len(remainingProRataWorkers)), key=lambda k: remainingProRataWorkers[k], reverse=True)\n",
    "\n",
    "        for i in range(remainingWorkers-assignedWorkers):\n",
    "            intProRataWorkers[sortedIdx[i]]+=1\n",
    "            assignedWorkers+=1\n",
    "        \n",
    "    for idx, cluster in enumerate(clusterGraph.vs):\n",
    "        cluster[\"nb_workers\"]+=intProRataWorkers[idx]\n",
    "    \n",
    "    assert assignedWorkers==remainingWorkers, \"Only {} assigned workers out of {}\".format(assignedWorkers,remainingWorkers)\n",
    "    return clusterGraph"
   ]
  },
  {
   "cell_type": "code",
   "execution_count": 23,
   "metadata": {},
   "outputs": [],
   "source": [
    "def diameterWorkerAssignment(graph,partition,clusterGraph,remainingWorkers):\n",
    "    diameters=[subgraph.diameter() for subgraph in partition.subgraphs()]\n",
    "    \n",
    "    workers=[diameter//2+diameter%2 for diameter in diameters]\n",
    "    assignedWorkers=sum(workers)\n",
    "    for idx, cluster in enumerate(clusterGraph.vs):\n",
    "        cluster[\"nb_workers\"]+=workers[idx]\n",
    "    \n",
    "    while assignedWorkers>remainingWorkers:\n",
    "        sortedIdx=sorted(range(len(workers)), key=lambda k: workers[k], reverse=True)\n",
    "\n",
    "        for i in range(assignedWorkers-remainingWorkers):\n",
    "            if clusterGraph.vs[sortedIdx[i%len(sortedIdx)]][\"nb_workers\"]>1:\n",
    "                clusterGraph.vs[sortedIdx[i%len(sortedIdx)]][\"nb_workers\"]-=1\n",
    "                assignedWorkers-=1\n",
    "    \n",
    "    if assignedWorkers<remainingWorkers:\n",
    "        clusterGraph=sizeOrderedRoundRobinWorkerAssignement(graph,partition,clusterGraph,remainingWorkers-assignedWorkers)\n",
    "        assignedWorkers=remainingWorkers\n",
    "    \n",
    "    assert assignedWorkers==remainingWorkers, \"Only {} assigned workers out of {}\".format(assignedWorkers,remainingWorkers)\n",
    "    return clusterGraph"
   ]
  },
  {
   "cell_type": "code",
   "execution_count": 24,
   "metadata": {},
   "outputs": [],
   "source": [
    "def assignWorkers(graph,nWorkers):\n",
    "    assert nWorkers>=0, \"{} workers to assign: Number of workers to assign must be positive or zero\".format(nWorkers)\n",
    "    assert len(graph.vs)>=nWorkers, \"{} workers to assign on {} nodes: Can't assign more workers than there are vertices\".format(nWorkers,len(graph.vs))\n",
    "    partition=findCommunities(graph)\n",
    "    \n",
    "    clusterGraph=partition.cluster_graph(\"first\")\n",
    "\n",
    "    for idx, cluster in enumerate(clusterGraph.vs):\n",
    "        cluster[\"name\"]=\"C{}\".format(idx)\n",
    "\n",
    "    workerIds=[]\n",
    "    clusterIds=[]\n",
    "    if len(partition)<nWorkers:\n",
    "        #Chaque cluster aura au moins un worker en lui\n",
    "        for cluster in clusterGraph.vs:\n",
    "            cluster[\"nb_workers\"]=1\n",
    "        \n",
    "        #Attribuer le nombre de workers réel\n",
    "        remainingWorkers=nWorkers-len(clusterGraph.vs)\n",
    "        \n",
    "        workerAssignment=[sizeProRataWorkerAssignement,\n",
    "                          sizeOrderedRoundRobinWorkerAssignement,\n",
    "                          diameterProRataWorkerAssignement,\n",
    "                          diameterWorkerAssignment,\n",
    "                          #capacityBasedWorkerAssignment,\n",
    "                          #subpartitioning\n",
    "                         ]\n",
    "        %time clusterGraph=workerAssignment[4](graph, partition,clusterGraph, remainingWorkers)\n",
    "\n",
    "        clusterIds=range(len(partition))\n",
    "        \n",
    "    elif len(partition)==nWorkers:\n",
    "        #1cluster/1worker\n",
    "        for cluster in clusterGraph.vs:\n",
    "            cluster[\"nb_workers\"]=1\n",
    "        clusterIds=range(len(partition))\n",
    "    else:\n",
    "        clusterIds=maxShortestPathNodesSelection(clusterGraph,nWorkers)\n",
    "        for cluster in clusterGraph.vs:\n",
    "            if cluster.index in clusterIds:\n",
    "                cluster[\"nb_workers\"]=1\n",
    "            else:\n",
    "                cluster[\"nb_workers\"]=0\n",
    "\n",
    "    #Etape2\n",
    "    #for chaque cluster de workers\n",
    "    #prendre son sous-graphe+ les noeuds frontaliers d'autres clusters, BFS des frontières et Etape1 nb_workers fois\n",
    "    for clusterId in clusterIds:\n",
    "        %time workerIds.extend(assignWorkersInCommunity(graph,clusterGraph,clusterId))\n",
    "    \n",
    "    assert len(workerIds)==nWorkers, \"Assigned {} workers instead of {}\".format(len(workerIds),nWorkers)\n",
    "    return workerIds,partition,clusterGraph,clusterIds"
   ]
  },
  {
   "cell_type": "code",
   "execution_count": 25,
   "metadata": {
    "scrolled": true
   },
   "outputs": [
    {
     "name": "stdout",
     "output_type": "stream",
     "text": [
      "d 3 r 2\n",
      "e 2\n",
      "122500\n",
      "350\n",
      "     11   12   15   18   36   42   73   112  204  205  ...  21   247  272  \\\n",
      "11     1    1    1    1    1    1    1    1    1    1  ...    1    1    1   \n",
      "12     1    1    1    1    1    1    1    1    1    1  ...    1    1    1   \n",
      "15     1    1    1    1    1    1    1    1    1    1  ...    1    1    1   \n",
      "18     1    1    1    1    1    1    1    1    1    1  ...    1    1    1   \n",
      "36     1    1    1    1    1    1    1    1    1    1  ...    1    1    1   \n",
      "..   ...  ...  ...  ...  ...  ...  ...  ...  ...  ...  ...  ...  ...  ...   \n",
      "317    1    1    1    1    1    1    1    1    1    1  ...    0    0    0   \n",
      "266    1    1    1    1    1    1    1    1    1    1  ...    0    0    0   \n",
      "66     1    1    1    1    1    1    1    1    1    1  ...    0    0    0   \n",
      "55     1    1    1    1    1    1    1    1    1    1  ...    0    0    0   \n",
      "0      0    0    0    0    0    0    0    0    0    0  ...    0    0    0   \n",
      "\n",
      "     26   25   317  266  66   55   0    \n",
      "11     1    1    1    1    1    1    0  \n",
      "12     1    1    1    1    1    1    0  \n",
      "15     1    1    1    1    1    1    0  \n",
      "18     1    1    1    1    1    1    0  \n",
      "36     1    1    1    1    1    1    0  \n",
      "..   ...  ...  ...  ...  ...  ...  ...  \n",
      "317    0    0    1    0    0    0    0  \n",
      "266    0    0    0    1    0    0    0  \n",
      "66     0    0    0    0    1    0    0  \n",
      "55     0    0    0    0    0    1    0  \n",
      "0      0    0    0    0    0    0    1  \n",
      "\n",
      "[350 rows x 350 columns]\n"
     ]
    },
    {
     "name": "stderr",
     "output_type": "stream",
     "text": [
      "<ipython-input-16-e3660aee5ea4>:7: DeprecationWarning: scipy.zeros is deprecated and will be removed in SciPy 2.0.0, use numpy.zeros instead\n",
      "  D = scipy.zeros([len(matPCC),len(matPCC)])\n"
     ]
    },
    {
     "name": "stdout",
     "output_type": "stream",
     "text": [
      "0\n",
      "len(c) 0 len(n) 350\n",
      "e 3\n",
      "122500\n",
      "347\n",
      "     343  348  349  344  345  346  347  1    2    3    ...  339  340  341  \\\n",
      "343    1    1    1    0    0    0    0    1    1    1  ...    1    1    1   \n",
      "348    1    1    0    0    0    0    0    1    1    1  ...    1    1    1   \n",
      "349    1    0    1    0    0    0    0    1    1    1  ...    1    1    1   \n",
      "344    0    0    0    1    0    0    0    1    1    1  ...    1    1    1   \n",
      "345    0    0    0    0    1    0    0    1    1    1  ...    1    1    1   \n",
      "..   ...  ...  ...  ...  ...  ...  ...  ...  ...  ...  ...  ...  ...  ...   \n",
      "63     1    0    0    0    0    0    0    0    0    0  ...    0    0    0   \n",
      "117    1    0    0    0    0    0    0    0    0    0  ...    0    0    0   \n",
      "147    1    0    0    0    0    0    0    0    0    0  ...    0    0    0   \n",
      "185    1    0    0    0    0    0    0    0    0    0  ...    0    0    0   \n",
      "212    1    0    0    0    0    0    0    0    0    0  ...    0    0    0   \n",
      "\n",
      "     342  264  63   117  147  185  212  \n",
      "343    1    0    1    1    1    1    1  \n",
      "348    1    1    0    0    0    0    0  \n",
      "349    1    1    0    0    0    0    0  \n",
      "344    1    0    0    0    0    0    0  \n",
      "345    1    0    0    0    0    0    0  \n",
      "..   ...  ...  ...  ...  ...  ...  ...  \n",
      "63     0    0    1    0    0    0    0  \n",
      "117    0    0    0    1    0    0    0  \n",
      "147    0    0    0    0    1    0    0  \n",
      "185    0    0    0    0    0    1    0  \n",
      "212    0    0    0    0    0    0    1  \n",
      "\n",
      "[347 rows x 347 columns]\n"
     ]
    },
    {
     "name": "stderr",
     "output_type": "stream",
     "text": [
      "<ipython-input-16-e3660aee5ea4>:7: DeprecationWarning: scipy.zeros is deprecated and will be removed in SciPy 2.0.0, use numpy.zeros instead\n",
      "  D = scipy.zeros([len(matPCC),len(matPCC)])\n"
     ]
    },
    {
     "name": "stdout",
     "output_type": "stream",
     "text": [
      "0\n",
      "len(c) 0 len(n) 350\n",
      "d 5 r 3\n",
      "e 2\n",
      "185761\n",
      "431\n",
      "     80   162  239  332  381  387  390  391  394  402  ...  8    6    209  \\\n",
      "80     1    1    1    1    1    1    1    1    1    1  ...    1    1    1   \n",
      "162    1    1    1    1    1    1    1    1    1    1  ...    1    1    1   \n",
      "239    1    1    1    1    1    1    1    1    1    1  ...    1    1    1   \n",
      "332    1    1    1    1    1    1    1    1    1    1  ...    1    1    1   \n",
      "381    1    1    1    1    1    1    1    1    1    1  ...    1    1    1   \n",
      "..   ...  ...  ...  ...  ...  ...  ...  ...  ...  ...  ...  ...  ...  ...   \n",
      "11     1    1    1    1    1    1    1    1    1    1  ...    0    0    1   \n",
      "9      1    1    1    1    1    1    1    1    1    1  ...    0    0    0   \n",
      "4      1    1    1    1    0    0    0    0    0    0  ...    1    1    0   \n",
      "12     1    1    1    1    1    1    1    1    1    1  ...    0    0    0   \n",
      "3      1    0    0    0    1    1    1    1    1    1  ...    0    0    0   \n",
      "\n",
      "     14   5    11   9    4    12   3    \n",
      "80     1    1    1    1    1    1    1  \n",
      "162    1    1    1    1    1    1    0  \n",
      "239    1    1    1    1    1    1    0  \n",
      "332    1    1    1    1    1    1    0  \n",
      "381    1    1    1    1    0    1    1  \n",
      "..   ...  ...  ...  ...  ...  ...  ...  \n",
      "11     0    0    1    0    0    0    0  \n",
      "9      0    0    0    1    0    0    0  \n",
      "4      1    0    0    0    1    0    0  \n",
      "12     0    1    0    0    0    1    0  \n",
      "3      0    0    0    0    0    0    1  \n",
      "\n",
      "[431 rows x 431 columns]\n"
     ]
    },
    {
     "name": "stderr",
     "output_type": "stream",
     "text": [
      "<ipython-input-16-e3660aee5ea4>:7: DeprecationWarning: scipy.zeros is deprecated and will be removed in SciPy 2.0.0, use numpy.zeros instead\n",
      "  D = scipy.zeros([len(matPCC),len(matPCC)])\n"
     ]
    },
    {
     "name": "stdout",
     "output_type": "stream",
     "text": [
      "0\n",
      "len(c) 0 len(n) 431\n",
      "e 3\n",
      "185761\n",
      "431\n",
      "     28   108  127  61   80   118  133  72   81   52   ...  190  229  287  \\\n",
      "28     1    0    0    1    1    1    1    1    1    1  ...    1    1    1   \n",
      "108    0    1    0    1    1    1    1    1    1    1  ...    1    1    1   \n",
      "127    0    0    1    1    1    1    1    1    1    1  ...    1    1    1   \n",
      "61     1    1    1    1    1    1    1    1    1    1  ...    1    1    1   \n",
      "80     1    1    1    1    1    1    1    1    1    1  ...    1    1    1   \n",
      "..   ...  ...  ...  ...  ...  ...  ...  ...  ...  ...  ...  ...  ...  ...   \n",
      "9      1    1    1    1    1    1    1    1    1    1  ...    0    0    0   \n",
      "11     1    1    1    1    1    1    1    1    1    1  ...    0    0    0   \n",
      "5      1    1    1    1    1    1    1    1    1    1  ...    0    0    0   \n",
      "7      1    1    1    1    1    1    1    1    1    1  ...    0    0    0   \n",
      "12     1    1    1    1    0    1    1    1    1    1  ...    0    0    0   \n",
      "\n",
      "     299  18   9    11   5    7    12   \n",
      "28     1    1    1    1    1    1    1  \n",
      "108    1    1    1    1    1    1    1  \n",
      "127    1    1    1    1    1    1    1  \n",
      "61     1    1    1    1    1    1    1  \n",
      "80     1    1    1    1    1    1    0  \n",
      "..   ...  ...  ...  ...  ...  ...  ...  \n",
      "9      0    0    1    0    0    0    0  \n",
      "11     0    0    0    1    0    0    0  \n",
      "5      0    0    0    0    1    0    0  \n",
      "7      0    0    0    0    0    1    0  \n",
      "12     0    0    0    0    0    0    1  \n",
      "\n",
      "[431 rows x 431 columns]\n"
     ]
    },
    {
     "name": "stderr",
     "output_type": "stream",
     "text": [
      "<ipython-input-16-e3660aee5ea4>:7: DeprecationWarning: scipy.zeros is deprecated and will be removed in SciPy 2.0.0, use numpy.zeros instead\n",
      "  D = scipy.zeros([len(matPCC),len(matPCC)])\n"
     ]
    },
    {
     "name": "stdout",
     "output_type": "stream",
     "text": [
      "0\n",
      "len(c) 0 len(n) 431\n",
      "e 4\n",
      "185761\n",
      "372\n",
      "     61   72   81   118  133  52   80   28   108  127  ...  74   82   85   \\\n",
      "61     1    0    0    0    0    0    1    1    1    1  ...    1    1    1   \n",
      "72     0    1    0    0    0    0    1    1    1    1  ...    0    0    0   \n",
      "81     0    0    1    0    0    0    1    1    1    1  ...    0    0    0   \n",
      "118    0    0    0    1    0    0    1    1    1    1  ...    0    0    0   \n",
      "133    0    0    0    0    1    0    1    1    1    1  ...    0    0    0   \n",
      "..   ...  ...  ...  ...  ...  ...  ...  ...  ...  ...  ...  ...  ...  ...   \n",
      "103    1    0    0    0    0    0    0    0    0    0  ...    0    0    0   \n",
      "110    0    0    0    0    0    0    0    0    0    0  ...    0    0    0   \n",
      "111    0    1    0    0    0    0    0    0    0    0  ...    0    0    0   \n",
      "124    1    0    0    0    0    0    0    0    0    0  ...    0    0    0   \n",
      "137    0    0    0    0    0    0    0    0    0    0  ...    0    0    0   \n",
      "\n",
      "     93   97   103  110  111  124  137  \n",
      "61     0    1    1    0    0    1    0  \n",
      "72     0    0    0    0    1    0    0  \n",
      "81     0    0    0    0    0    0    0  \n",
      "118    0    0    0    0    0    0    0  \n",
      "133    0    0    0    0    0    0    0  \n",
      "..   ...  ...  ...  ...  ...  ...  ...  \n",
      "103    0    0    1    0    0    0    0  \n",
      "110    0    0    0    1    0    0    0  \n",
      "111    0    0    0    0    1    0    0  \n",
      "124    0    0    0    0    0    1    0  \n",
      "137    0    0    0    0    0    0    1  \n",
      "\n",
      "[372 rows x 372 columns]\n"
     ]
    },
    {
     "name": "stderr",
     "output_type": "stream",
     "text": [
      "<ipython-input-16-e3660aee5ea4>:7: DeprecationWarning: scipy.zeros is deprecated and will be removed in SciPy 2.0.0, use numpy.zeros instead\n",
      "  D = scipy.zeros([len(matPCC),len(matPCC)])\n"
     ]
    },
    {
     "name": "stdout",
     "output_type": "stream",
     "text": [
      "0\n",
      "len(c) 0 len(n) 431\n",
      "e 5\n",
      "185761\n",
      "160\n",
      "     61   72   81   118  133  28   108  127  430  358  ...  1    52   98   \\\n",
      "61     1    0    0    0    0    1    1    1    1    1  ...    1    0    0   \n",
      "72     0    1    0    0    0    1    1    1    1    1  ...    0    0    0   \n",
      "81     0    0    1    0    0    1    1    1    1    1  ...    0    0    0   \n",
      "118    0    0    0    1    0    1    1    1    1    1  ...    0    0    0   \n",
      "133    0    0    0    0    1    1    1    1    1    1  ...    0    0    0   \n",
      "..   ...  ...  ...  ...  ...  ...  ...  ...  ...  ...  ...  ...  ...  ...   \n",
      "221    1    0    0    0    0    0    0    0    0    0  ...    0    0    0   \n",
      "365    1    0    0    0    0    0    0    0    0    0  ...    0    0    0   \n",
      "366    1    0    0    0    0    0    0    0    0    0  ...    0    0    0   \n",
      "367    1    0    0    0    0    0    0    0    0    0  ...    0    0    0   \n",
      "368    1    0    0    0    0    0    0    0    0    0  ...    0    0    0   \n",
      "\n",
      "     158  210  221  365  366  367  368  \n",
      "61     1    1    1    1    1    1    1  \n",
      "72     0    0    0    0    0    0    0  \n",
      "81     0    0    0    0    0    0    0  \n",
      "118    0    0    0    0    0    0    0  \n",
      "133    0    0    0    0    0    0    0  \n",
      "..   ...  ...  ...  ...  ...  ...  ...  \n",
      "221    0    0    1    0    0    0    0  \n",
      "365    0    0    0    1    0    0    0  \n",
      "366    0    0    0    0    1    0    0  \n",
      "367    0    0    0    0    0    1    0  \n",
      "368    0    0    0    0    0    0    1  \n",
      "\n",
      "[160 rows x 160 columns]\n"
     ]
    },
    {
     "name": "stderr",
     "output_type": "stream",
     "text": [
      "<ipython-input-16-e3660aee5ea4>:7: DeprecationWarning: scipy.zeros is deprecated and will be removed in SciPy 2.0.0, use numpy.zeros instead\n",
      "  D = scipy.zeros([len(matPCC),len(matPCC)])\n"
     ]
    },
    {
     "name": "stdout",
     "output_type": "stream",
     "text": [
      "0\n",
      "len(c) 0 len(n) 431\n",
      "d 2 r 1\n",
      "e 2\n",
      "189225\n",
      "434\n",
      "     6    8    80   88   98   130  202  236  281  289  ...  397  293  366  \\\n",
      "6      1    1    1    1    1    1    1    1    1    1  ...    1    1    1   \n",
      "8      1    1    1    1    1    1    1    1    1    1  ...    1    1    1   \n",
      "80     1    1    1    1    1    1    1    1    1    1  ...    1    1    1   \n",
      "88     1    1    1    1    1    1    1    1    1    1  ...    1    1    1   \n",
      "98     1    1    1    1    1    1    1    1    1    1  ...    1    1    1   \n",
      "..   ...  ...  ...  ...  ...  ...  ...  ...  ...  ...  ...  ...  ...  ...   \n",
      "352    1    1    1    1    1    1    1    1    1    1  ...    0    0    0   \n",
      "190    1    1    1    1    1    1    1    1    1    1  ...    0    0    0   \n",
      "327    1    1    1    1    1    1    1    1    1    1  ...    0    0    0   \n",
      "383    1    1    1    1    1    1    1    1    1    1  ...    0    0    0   \n",
      "426    1    1    1    1    1    1    1    1    1    1  ...    0    0    0   \n",
      "\n",
      "     125  221  352  190  327  383  426  \n",
      "6      1    1    1    1    1    1    1  \n",
      "8      1    1    1    1    1    1    1  \n",
      "80     1    1    1    1    1    1    1  \n",
      "88     1    1    1    1    1    1    1  \n",
      "98     1    1    1    1    1    1    1  \n",
      "..   ...  ...  ...  ...  ...  ...  ...  \n",
      "352    0    0    1    0    0    0    0  \n",
      "190    0    0    0    1    0    0    0  \n",
      "327    0    0    0    0    1    0    0  \n",
      "383    0    0    0    0    0    1    0  \n",
      "426    0    0    0    0    0    0    1  \n",
      "\n",
      "[434 rows x 434 columns]\n"
     ]
    },
    {
     "name": "stderr",
     "output_type": "stream",
     "text": [
      "<ipython-input-16-e3660aee5ea4>:7: DeprecationWarning: scipy.zeros is deprecated and will be removed in SciPy 2.0.0, use numpy.zeros instead\n",
      "  D = scipy.zeros([len(matPCC),len(matPCC)])\n"
     ]
    },
    {
     "name": "stdout",
     "output_type": "stream",
     "text": [
      "0\n",
      "len(c) 0 len(n) 435\n",
      "d 2 r 1\n",
      "e 2\n",
      "178929\n",
      "422\n",
      "     219  260  293  363  364  398  406  331  390  251  ...  46   47   107  \\\n",
      "219    1    1    1    1    1    1    1    1    1    1  ...    1    1    1   \n",
      "260    1    1    1    1    1    1    1    1    1    1  ...    1    1    1   \n",
      "293    1    1    1    1    1    1    1    1    1    1  ...    1    1    1   \n",
      "363    1    1    1    1    1    1    1    1    1    1  ...    1    1    1   \n",
      "364    1    1    1    1    1    1    1    1    1    1  ...    1    1    1   \n",
      "..   ...  ...  ...  ...  ...  ...  ...  ...  ...  ...  ...  ...  ...  ...   \n",
      "19     1    1    1    1    1    1    1    1    1    1  ...    0    0    0   \n",
      "35     1    1    1    1    1    1    1    1    1    1  ...    0    0    0   \n",
      "21     1    1    1    1    1    1    1    1    1    1  ...    0    0    0   \n",
      "53     1    1    1    1    1    1    1    1    1    1  ...    0    0    0   \n",
      "88     1    1    1    1    1    1    1    1    1    1  ...    0    0    0   \n",
      "\n",
      "     15   76   19   35   21   53   88   \n",
      "219    1    1    1    1    1    1    1  \n",
      "260    1    1    1    1    1    1    1  \n",
      "293    1    1    1    1    1    1    1  \n",
      "363    1    1    1    1    1    1    1  \n",
      "364    1    1    1    1    1    1    1  \n",
      "..   ...  ...  ...  ...  ...  ...  ...  \n",
      "19     0    0    1    0    0    0    0  \n",
      "35     0    0    0    1    0    0    0  \n",
      "21     0    0    0    0    1    0    0  \n",
      "53     0    0    0    0    0    1    0  \n",
      "88     1    0    0    0    0    0    1  \n",
      "\n",
      "[422 rows x 422 columns]\n"
     ]
    },
    {
     "name": "stderr",
     "output_type": "stream",
     "text": [
      "<ipython-input-16-e3660aee5ea4>:7: DeprecationWarning: scipy.zeros is deprecated and will be removed in SciPy 2.0.0, use numpy.zeros instead\n",
      "  D = scipy.zeros([len(matPCC),len(matPCC)])\n"
     ]
    },
    {
     "name": "stdout",
     "output_type": "stream",
     "text": [
      "0\n",
      "len(c) 0 len(n) 423\n",
      "d 4 r 2\n",
      "e 2\n",
      "294849\n",
      "543\n",
      "     197  284  308  378  411  5    163  208  271  341  ...  335  445  542  \\\n",
      "197    1    1    1    1    1    1    1    1    1    1  ...    1    1    1   \n",
      "284    1    1    1    1    1    1    1    1    1    1  ...    1    1    1   \n",
      "308    1    1    1    1    1    1    1    1    1    1  ...    1    1    1   \n",
      "378    1    1    1    1    1    1    1    1    1    1  ...    1    1    1   \n",
      "411    1    1    1    1    1    1    1    1    1    1  ...    1    1    1   \n",
      "..   ...  ...  ...  ...  ...  ...  ...  ...  ...  ...  ...  ...  ...  ...   \n",
      "140    1    1    1    1    1    1    1    1    1    1  ...    0    0    1   \n",
      "315    1    1    1    1    1    1    1    1    1    1  ...    0    0    0   \n",
      "451    1    1    1    1    1    1    1    1    1    1  ...    0    0    0   \n",
      "81     1    1    1    1    1    1    1    1    1    1  ...    0    0    0   \n",
      "0      0    0    0    0    0    1    0    0    0    0  ...    0    0    0   \n",
      "\n",
      "     466  521  140  315  451  81   0    \n",
      "197    1    1    1    1    1    1    0  \n",
      "284    1    1    1    1    1    1    0  \n",
      "308    1    1    1    1    1    1    0  \n",
      "378    1    1    1    1    1    1    0  \n",
      "411    1    1    1    1    1    1    0  \n",
      "..   ...  ...  ...  ...  ...  ...  ...  \n",
      "140    0    0    1    0    0    0    0  \n",
      "315    0    0    0    1    0    0    0  \n",
      "451    0    0    0    0    1    0    0  \n",
      "81     0    0    0    0    0    1    0  \n",
      "0      0    0    0    0    0    0    1  \n",
      "\n",
      "[543 rows x 543 columns]\n"
     ]
    },
    {
     "name": "stderr",
     "output_type": "stream",
     "text": [
      "<ipython-input-16-e3660aee5ea4>:7: DeprecationWarning: scipy.zeros is deprecated and will be removed in SciPy 2.0.0, use numpy.zeros instead\n",
      "  D = scipy.zeros([len(matPCC),len(matPCC)])\n"
     ]
    },
    {
     "name": "stdout",
     "output_type": "stream",
     "text": [
      "0\n",
      "len(c) 0 len(n) 543\n",
      "e 3\n",
      "294849\n",
      "540\n",
      "    19  3   5   6   8   2   16  9   7   1   ...  69  70  71  72  73  74  75  \\\n",
      "19   1   0   0   0   0   0   0   0   0   1  ...   1   1   1   1   1   1   1   \n",
      "3    0   1   0   0   0   0   0   0   0   1  ...   0   0   0   0   0   0   0   \n",
      "5    0   0   1   0   0   0   0   0   0   1  ...   0   0   0   0   0   0   0   \n",
      "6    0   0   0   1   0   0   0   0   0   1  ...   0   0   0   0   0   0   0   \n",
      "8    0   0   0   0   1   0   0   0   0   1  ...   0   0   0   0   0   0   0   \n",
      "..  ..  ..  ..  ..  ..  ..  ..  ..  ..  ..  ...  ..  ..  ..  ..  ..  ..  ..   \n",
      "74   1   0   0   0   0   0   0   0   0   0  ...   0   0   0   0   0   1   0   \n",
      "75   1   0   0   0   0   0   0   0   0   0  ...   0   0   0   0   0   0   1   \n",
      "76   1   0   0   0   0   0   0   0   0   0  ...   0   0   0   0   0   0   0   \n",
      "77   1   0   0   0   0   0   0   0   0   0  ...   0   0   0   0   0   0   0   \n",
      "78   1   0   0   0   0   0   0   0   0   0  ...   0   0   0   0   0   0   0   \n",
      "\n",
      "    76  77  78  \n",
      "19   1   1   1  \n",
      "3    0   0   0  \n",
      "5    0   0   0  \n",
      "6    0   0   0  \n",
      "8    0   0   0  \n",
      "..  ..  ..  ..  \n",
      "74   0   0   0  \n",
      "75   0   0   0  \n",
      "76   1   0   0  \n",
      "77   0   1   0  \n",
      "78   0   0   1  \n",
      "\n",
      "[540 rows x 540 columns]\n"
     ]
    },
    {
     "name": "stderr",
     "output_type": "stream",
     "text": [
      "<ipython-input-16-e3660aee5ea4>:7: DeprecationWarning: scipy.zeros is deprecated and will be removed in SciPy 2.0.0, use numpy.zeros instead\n",
      "  D = scipy.zeros([len(matPCC),len(matPCC)])\n"
     ]
    },
    {
     "name": "stdout",
     "output_type": "stream",
     "text": [
      "0\n",
      "len(c) 0 len(n) 543\n",
      "e 4\n",
      "294849\n",
      "488\n",
      "     19   1    24   28   35   37   39   40   41   42   ...  533  534  535  \\\n",
      "19     1    1    1    1    1    1    1    1    1    1  ...    1    1    1   \n",
      "1      1    1    0    0    0    0    0    0    0    0  ...    0    0    0   \n",
      "24     1    0    1    0    0    0    0    0    0    0  ...    0    0    0   \n",
      "28     1    0    0    1    0    0    0    0    0    0  ...    0    0    0   \n",
      "35     1    0    0    0    1    0    0    0    0    0  ...    0    0    0   \n",
      "..   ...  ...  ...  ...  ...  ...  ...  ...  ...  ...  ...  ...  ...  ...   \n",
      "538    1    0    0    0    0    0    0    0    0    0  ...    0    0    0   \n",
      "539    1    0    0    0    0    0    0    0    0    0  ...    0    0    0   \n",
      "540    1    0    0    0    0    0    0    0    0    0  ...    0    0    0   \n",
      "541    1    0    0    0    0    0    0    0    0    0  ...    0    0    0   \n",
      "542    1    0    0    0    0    0    0    0    0    0  ...    0    0    0   \n",
      "\n",
      "     536  537  538  539  540  541  542  \n",
      "19     1    1    1    1    1    1    1  \n",
      "1      0    0    0    0    0    0    0  \n",
      "24     0    0    0    0    0    0    0  \n",
      "28     0    0    0    0    0    0    0  \n",
      "35     0    0    0    0    0    0    0  \n",
      "..   ...  ...  ...  ...  ...  ...  ...  \n",
      "538    0    0    1    0    0    0    0  \n",
      "539    0    0    0    1    0    0    0  \n",
      "540    0    0    0    0    1    0    0  \n",
      "541    0    0    0    0    0    1    0  \n",
      "542    0    0    0    0    0    0    1  \n",
      "\n",
      "[488 rows x 488 columns]\n"
     ]
    },
    {
     "name": "stderr",
     "output_type": "stream",
     "text": [
      "<ipython-input-16-e3660aee5ea4>:7: DeprecationWarning: scipy.zeros is deprecated and will be removed in SciPy 2.0.0, use numpy.zeros instead\n",
      "  D = scipy.zeros([len(matPCC),len(matPCC)])\n"
     ]
    },
    {
     "name": "stdout",
     "output_type": "stream",
     "text": [
      "0\n",
      "len(c) 0 len(n) 543\n",
      "d 5 r 3\n",
      "e 2\n",
      "104329\n",
      "323\n",
      "     60   98   115  257  279  163  213  18   88   130  ...  157  227  193  \\\n",
      "60     1    1    1    1    1    1    1    1    1    1  ...    1    1    1   \n",
      "98     1    1    1    1    1    1    1    1    1    1  ...    1    1    1   \n",
      "115    1    1    1    1    1    1    1    1    1    1  ...    1    1    1   \n",
      "257    1    1    1    1    1    1    1    1    1    1  ...    1    1    1   \n",
      "279    1    1    1    1    1    1    1    1    1    1  ...    1    1    1   \n",
      "..   ...  ...  ...  ...  ...  ...  ...  ...  ...  ...  ...  ...  ...  ...   \n",
      "74     1    1    1    1    1    1    1    1    1    1  ...    0    0    1   \n",
      "7      1    1    1    1    1    1    1    1    1    1  ...    1    1    1   \n",
      "285    1    1    1    1    1    1    1    1    1    1  ...    0    0    0   \n",
      "134    1    1    1    1    1    1    1    1    1    1  ...    0    0    0   \n",
      "2      1    1    1    1    1    1    1    1    1    1  ...    0    0    0   \n",
      "\n",
      "     116  104  74   7    285  134  2    \n",
      "60     1    1    1    1    1    1    1  \n",
      "98     1    1    1    1    1    1    1  \n",
      "115    1    1    1    1    1    1    1  \n",
      "257    1    1    1    1    1    1    1  \n",
      "279    1    1    1    1    1    1    1  \n",
      "..   ...  ...  ...  ...  ...  ...  ...  \n",
      "74     0    0    1    1    1    0    0  \n",
      "7      0    0    1    1    0    0    1  \n",
      "285    0    0    1    0    1    0    0  \n",
      "134    0    0    0    0    0    1    0  \n",
      "2      0    0    0    1    0    0    1  \n",
      "\n",
      "[323 rows x 323 columns]\n"
     ]
    },
    {
     "name": "stderr",
     "output_type": "stream",
     "text": [
      "<ipython-input-16-e3660aee5ea4>:7: DeprecationWarning: scipy.zeros is deprecated and will be removed in SciPy 2.0.0, use numpy.zeros instead\n",
      "  D = scipy.zeros([len(matPCC),len(matPCC)])\n"
     ]
    },
    {
     "name": "stdout",
     "output_type": "stream",
     "text": [
      "0\n",
      "len(c) 0 len(n) 323\n",
      "e 3\n",
      "104329\n",
      "323\n",
      "     60   198  115  281  130  213  161  257  32   163  ...  289  197  93   \\\n",
      "60     1    1    1    1    1    1    1    1    1    1  ...    1    1    1   \n",
      "198    1    1    1    0    1    1    1    1    0    1  ...    1    1    1   \n",
      "115    1    1    1    1    1    1    1    1    1    1  ...    1    1    1   \n",
      "281    1    0    1    1    1    1    1    1    0    1  ...    1    0    1   \n",
      "130    1    1    1    1    1    1    1    1    1    1  ...    1    1    0   \n",
      "..   ...  ...  ...  ...  ...  ...  ...  ...  ...  ...  ...  ...  ...  ...   \n",
      "108    1    1    1    1    1    0    1    1    1    1  ...    0    0    0   \n",
      "221    1    1    1    1    1    0    1    1    1    1  ...    0    0    0   \n",
      "92     1    1    1    1    1    1    1    0    0    1  ...    0    0    0   \n",
      "285    0    1    1    1    0    1    0    1    1    0  ...    0    0    0   \n",
      "7      0    1    0    1    0    0    0    0    1    0  ...    0    0    0   \n",
      "\n",
      "     166  121  108  221  92   285  7    \n",
      "60     1    1    1    1    1    0    0  \n",
      "198    1    1    1    1    1    1    1  \n",
      "115    1    1    1    1    1    1    0  \n",
      "281    1    0    1    1    1    1    1  \n",
      "130    0    0    1    1    1    0    0  \n",
      "..   ...  ...  ...  ...  ...  ...  ...  \n",
      "108    0    0    1    0    0    0    0  \n",
      "221    0    0    0    1    0    0    0  \n",
      "92     0    0    0    0    1    0    0  \n",
      "285    0    0    0    0    0    1    0  \n",
      "7      0    0    0    0    0    0    1  \n",
      "\n",
      "[323 rows x 323 columns]\n"
     ]
    },
    {
     "name": "stderr",
     "output_type": "stream",
     "text": [
      "<ipython-input-16-e3660aee5ea4>:7: DeprecationWarning: scipy.zeros is deprecated and will be removed in SciPy 2.0.0, use numpy.zeros instead\n",
      "  D = scipy.zeros([len(matPCC),len(matPCC)])\n"
     ]
    },
    {
     "name": "stdout",
     "output_type": "stream",
     "text": [
      "0\n",
      "len(c) 0 len(n) 323\n",
      "e 4\n",
      "104329\n",
      "267\n",
      "     198  281  32   60   257  33   279  115  161  163  ...  229  234  254  \\\n",
      "198    1    0    0    1    1    0    1    1    1    1  ...    1    0    1   \n",
      "281    0    1    0    1    0    0    1    1    1    1  ...    0    0    0   \n",
      "32     0    0    1    1    0    0    1    1    0    0  ...    0    0    0   \n",
      "60     1    1    1    1    1    1    1    1    0    0  ...    0    0    0   \n",
      "257    1    0    0    1    1    0    1    1    0    0  ...    0    0    0   \n",
      "..   ...  ...  ...  ...  ...  ...  ...  ...  ...  ...  ...  ...  ...  ...   \n",
      "268    1    0    0    0    0    0    0    0    0    0  ...    0    0    0   \n",
      "272    1    0    0    0    0    0    0    0    0    0  ...    0    0    0   \n",
      "283    0    0    0    0    0    0    1    0    0    0  ...    0    0    0   \n",
      "287    1    0    0    0    0    0    0    0    0    0  ...    0    0    0   \n",
      "296    0    0    0    1    0    0    0    0    0    0  ...    0    0    0   \n",
      "\n",
      "     259  263  268  272  283  287  296  \n",
      "198    0    0    1    1    0    1    0  \n",
      "281    0    0    0    0    0    0    0  \n",
      "32     0    0    0    0    0    0    0  \n",
      "60     0    0    0    0    0    0    1  \n",
      "257    0    0    0    0    0    0    0  \n",
      "..   ...  ...  ...  ...  ...  ...  ...  \n",
      "268    0    0    1    0    0    0    0  \n",
      "272    0    0    0    1    0    0    0  \n",
      "283    0    0    0    0    1    0    0  \n",
      "287    0    0    0    0    0    1    0  \n",
      "296    0    0    0    0    0    0    1  \n",
      "\n",
      "[267 rows x 267 columns]\n"
     ]
    },
    {
     "name": "stderr",
     "output_type": "stream",
     "text": [
      "<ipython-input-16-e3660aee5ea4>:7: DeprecationWarning: scipy.zeros is deprecated and will be removed in SciPy 2.0.0, use numpy.zeros instead\n",
      "  D = scipy.zeros([len(matPCC),len(matPCC)])\n"
     ]
    },
    {
     "name": "stdout",
     "output_type": "stream",
     "text": [
      "0\n",
      "len(c) 0 len(n) 323\n",
      "e 5\n",
      "104329\n",
      "17\n",
      "     198  281  32   115  179  279  18   4    89   98   102  177  182  188  \\\n",
      "198    1    0    0    1    1    1    1    1    1    1    1    1    1    1   \n",
      "281    0    1    0    1    1    1    1    0    0    0    0    0    0    0   \n",
      "32     0    0    1    1    1    1    0    0    0    0    0    0    0    0   \n",
      "115    1    1    1    1    0    0    0    0    0    0    0    0    0    0   \n",
      "179    1    1    1    0    1    0    0    0    0    0    0    0    0    0   \n",
      "279    1    1    1    0    0    1    0    0    0    0    0    0    0    0   \n",
      "18     1    1    0    0    0    0    1    0    0    0    0    0    0    0   \n",
      "4      1    0    0    0    0    0    0    1    0    0    0    0    0    0   \n",
      "89     1    0    0    0    0    0    0    0    1    0    0    0    0    0   \n",
      "98     1    0    0    0    0    0    0    0    0    1    0    0    0    0   \n",
      "102    1    0    0    0    0    0    0    0    0    0    1    0    0    0   \n",
      "177    1    0    0    0    0    0    0    0    0    0    0    1    0    0   \n",
      "182    1    0    0    0    0    0    0    0    0    0    0    0    1    0   \n",
      "188    1    0    0    0    0    0    0    0    0    0    0    0    0    1   \n",
      "220    1    0    0    0    0    0    0    0    0    0    0    0    0    0   \n",
      "269    1    0    0    0    0    0    0    0    0    0    0    0    0    0   \n",
      "282    1    0    0    0    0    0    0    0    0    0    0    0    0    0   \n",
      "\n",
      "     220  269  282  \n",
      "198    1    1    1  \n",
      "281    0    0    0  \n",
      "32     0    0    0  \n",
      "115    0    0    0  \n",
      "179    0    0    0  \n",
      "279    0    0    0  \n",
      "18     0    0    0  \n",
      "4      0    0    0  \n",
      "89     0    0    0  \n",
      "98     0    0    0  \n",
      "102    0    0    0  \n",
      "177    0    0    0  \n",
      "182    0    0    0  \n",
      "188    0    0    0  \n",
      "220    1    0    0  \n",
      "269    0    1    0  \n",
      "282    0    0    1  \n",
      "0\n",
      "len(c) 0 len(n) 323\n",
      "d 8 r 4\n",
      "e 2\n",
      "14641\n",
      "121\n",
      "     57   64   100  104  24   48   78   96   15   23   ...  106  108  31   \\\n",
      "57     1    1    1    1    1    1    1    1    1    1  ...    1    1    1   \n",
      "64     1    1    1    1    1    1    1    1    1    1  ...    1    1    1   \n",
      "100    1    1    1    1    1    1    1    1    1    1  ...    1    1    1   \n",
      "104    1    1    1    1    1    1    1    0    1    1  ...    1    1    1   \n",
      "24     1    1    1    1    1    1    1    1    1    1  ...    1    1    1   \n",
      "..   ...  ...  ...  ...  ...  ...  ...  ...  ...  ...  ...  ...  ...  ...   \n",
      "118    1    1    1    1    1    1    1    1    1    1  ...    0    0    0   \n",
      "79     1    1    1    1    1    1    1    1    1    1  ...    0    0    0   \n",
      "102    1    1    1    1    1    1    1    1    1    1  ...    0    0    0   \n",
      "113    1    1    1    1    1    1    1    1    1    1  ...    0    0    0   \n",
      "95     1    1    1    1    1    1    1    1    1    1  ...    1    1    1   \n",
      "\n",
      "     43   28   118  79   102  113  95   \n",
      "57     1    1    1    1    1    1    1  \n",
      "64     1    1    1    1    1    1    1  \n",
      "100    1    1    1    1    1    1    1  \n",
      "104    1    1    1    1    1    1    1  \n",
      "24     1    1    1    1    1    1    1  \n",
      "..   ...  ...  ...  ...  ...  ...  ...  \n",
      "118    0    0    1    0    0    0    1  \n",
      "79     0    0    0    1    0    0    1  \n",
      "102    0    0    0    0    1    0    1  \n",
      "113    0    0    0    0    0    1    1  \n",
      "95     1    1    1    1    1    1    1  \n",
      "\n",
      "[121 rows x 121 columns]\n"
     ]
    },
    {
     "name": "stderr",
     "output_type": "stream",
     "text": [
      "<ipython-input-16-e3660aee5ea4>:7: DeprecationWarning: scipy.zeros is deprecated and will be removed in SciPy 2.0.0, use numpy.zeros instead\n",
      "  D = scipy.zeros([len(matPCC),len(matPCC)])\n",
      "<ipython-input-16-e3660aee5ea4>:7: DeprecationWarning: scipy.zeros is deprecated and will be removed in SciPy 2.0.0, use numpy.zeros instead\n",
      "  D = scipy.zeros([len(matPCC),len(matPCC)])\n"
     ]
    },
    {
     "name": "stdout",
     "output_type": "stream",
     "text": [
      "0\n",
      "len(c) 0 len(n) 121\n",
      "e 3\n",
      "14641\n",
      "121\n",
      "     104  57   64   96   89   48   49   19   24   46   ...  114  68   81   \\\n",
      "104    1    1    1    0    1    1    1    1    1    0  ...    1    1    1   \n",
      "57     1    1    0    0    1    1    1    1    1    0  ...    1    1    1   \n",
      "64     1    0    1    0    1    1    1    1    1    0  ...    1    1    1   \n",
      "96     0    0    0    1    1    1    1    1    1    0  ...    1    1    1   \n",
      "89     1    1    1    1    1    1    1    1    0    1  ...    1    0    1   \n",
      "..   ...  ...  ...  ...  ...  ...  ...  ...  ...  ...  ...  ...  ...  ...   \n",
      "45     1    1    1    1    1    1    1    1    1    1  ...    0    0    0   \n",
      "58     1    1    1    1    1    1    1    1    1    0  ...    0    1    0   \n",
      "71     1    1    1    1    1    1    1    1    1    1  ...    0    0    0   \n",
      "106    1    1    1    1    1    1    1    1    1    1  ...    0    0    0   \n",
      "87     1    1    1    1    1    1    1    1    1    1  ...    0    0    0   \n",
      "\n",
      "     86   105  45   58   71   106  87   \n",
      "104    1    1    1    1    1    1    1  \n",
      "57     1    1    1    1    1    1    1  \n",
      "64     1    1    1    1    1    1    1  \n",
      "96     1    1    1    1    1    1    1  \n",
      "89     1    1    1    1    1    1    1  \n",
      "..   ...  ...  ...  ...  ...  ...  ...  \n",
      "45     0    0    1    0    0    0    0  \n",
      "58     0    0    0    1    0    0    0  \n",
      "71     0    0    0    0    1    0    0  \n",
      "106    0    0    0    0    0    1    0  \n",
      "87     0    0    0    0    0    0    1  \n",
      "\n",
      "[121 rows x 121 columns]\n"
     ]
    },
    {
     "name": "stderr",
     "output_type": "stream",
     "text": [
      "<ipython-input-16-e3660aee5ea4>:7: DeprecationWarning: scipy.zeros is deprecated and will be removed in SciPy 2.0.0, use numpy.zeros instead\n",
      "  D = scipy.zeros([len(matPCC),len(matPCC)])\n"
     ]
    },
    {
     "name": "stdout",
     "output_type": "stream",
     "text": [
      "0\n",
      "len(c) 0 len(n) 121\n",
      "e 4\n",
      "14641\n",
      "121\n",
      "     104  48   57   64   96   49   24   19   89   78   ...  114  3    51   \\\n",
      "104    1    1    0    0    0    1    1    1    1    1  ...    1    1    1   \n",
      "48     1    1    1    1    1    0    1    0    1    1  ...    1    1    1   \n",
      "57     0    1    1    0    0    1    1    1    1    1  ...    1    0    0   \n",
      "64     0    1    0    1    0    1    1    1    1    1  ...    1    0    0   \n",
      "96     0    1    0    0    1    1    1    1    1    1  ...    1    0    0   \n",
      "..   ...  ...  ...  ...  ...  ...  ...  ...  ...  ...  ...  ...  ...  ...   \n",
      "106    1    1    1    1    1    1    1    1    0    0  ...    0    0    0   \n",
      "22     1    0    1    1    1    0    1    0    0    0  ...    0    0    0   \n",
      "44     1    1    1    1    1    1    0    0    0    0  ...    0    0    0   \n",
      "58     1    1    0    0    0    0    1    0    1    1  ...    0    0    0   \n",
      "87     1    1    1    1    1    0    0    0    1    0  ...    0    0    0   \n",
      "\n",
      "     81   86   106  22   44   58   87   \n",
      "104    1    1    1    1    1    1    1  \n",
      "48     1    1    1    0    1    1    1  \n",
      "57     0    0    1    1    1    0    1  \n",
      "64     0    0    1    1    1    0    1  \n",
      "96     0    0    1    1    1    0    1  \n",
      "..   ...  ...  ...  ...  ...  ...  ...  \n",
      "106    0    0    1    0    0    0    0  \n",
      "22     0    0    0    1    0    0    0  \n",
      "44     0    0    0    0    1    0    0  \n",
      "58     0    0    0    0    0    1    0  \n",
      "87     0    0    0    0    0    0    1  \n",
      "\n",
      "[121 rows x 121 columns]\n"
     ]
    },
    {
     "name": "stderr",
     "output_type": "stream",
     "text": [
      "<ipython-input-16-e3660aee5ea4>:7: DeprecationWarning: scipy.zeros is deprecated and will be removed in SciPy 2.0.0, use numpy.zeros instead\n",
      "  D = scipy.zeros([len(matPCC),len(matPCC)])\n"
     ]
    },
    {
     "name": "stdout",
     "output_type": "stream",
     "text": [
      "0\n",
      "len(c) 0 len(n) 121\n",
      "e 5\n",
      "14641\n",
      "120\n",
      "     104  48   100  49   89   19   57   64   96   24   ...  86   105  106  \\\n",
      "104    1    1    1    1    1    1    0    0    0    1  ...    0    1    1   \n",
      "48     1    1    1    0    0    0    1    1    1    1  ...    1    1    1   \n",
      "100    1    1    1    1    1    1    1    1    1    1  ...    0    0    0   \n",
      "49     1    0    1    1    0    0    1    1    1    1  ...    0    0    0   \n",
      "89     1    0    1    0    1    0    1    1    1    0  ...    1    0    0   \n",
      "..   ...  ...  ...  ...  ...  ...  ...  ...  ...  ...  ...  ...  ...  ...   \n",
      "116    1    0    1    0    0    0    0    0    0    0  ...    0    0    0   \n",
      "22     1    0    0    0    0    0    0    0    0    0  ...    0    0    0   \n",
      "37     0    0    1    0    0    0    0    0    0    0  ...    0    0    0   \n",
      "44     1    0    0    0    0    0    0    0    0    0  ...    0    0    0   \n",
      "87     1    0    0    0    0    0    0    0    0    0  ...    0    0    0   \n",
      "\n",
      "     110  114  116  22   37   44   87   \n",
      "104    1    1    1    1    0    1    1  \n",
      "48     1    1    0    0    0    0    0  \n",
      "100    0    0    1    0    1    0    0  \n",
      "49     0    0    0    0    0    0    0  \n",
      "89     0    0    0    0    0    0    0  \n",
      "..   ...  ...  ...  ...  ...  ...  ...  \n",
      "116    0    0    1    0    0    0    0  \n",
      "22     0    0    0    1    0    0    0  \n",
      "37     0    0    0    0    1    0    0  \n",
      "44     0    0    0    0    0    1    0  \n",
      "87     0    0    0    0    0    0    1  \n",
      "\n",
      "[120 rows x 120 columns]\n"
     ]
    },
    {
     "name": "stderr",
     "output_type": "stream",
     "text": [
      "<ipython-input-16-e3660aee5ea4>:7: DeprecationWarning: scipy.zeros is deprecated and will be removed in SciPy 2.0.0, use numpy.zeros instead\n",
      "  D = scipy.zeros([len(matPCC),len(matPCC)])\n"
     ]
    },
    {
     "name": "stdout",
     "output_type": "stream",
     "text": [
      "0\n",
      "len(c) 0 len(n) 121\n",
      "e 6\n",
      "14641\n",
      "62\n",
      "     48   104  89   100  19   49   5    18   25   57   ...  63   67   72   \\\n",
      "48     1    1    0    1    0    0    1    1    1    1  ...    0    1    1   \n",
      "104    1    1    1    1    1    1    1    1    1    0  ...    1    0    0   \n",
      "89     0    1    1    1    0    0    1    1    1    0  ...    0    0    0   \n",
      "100    1    1    1    1    1    1    0    0    0    0  ...    0    0    0   \n",
      "19     0    1    0    1    1    0    0    0    0    1  ...    0    0    0   \n",
      "..   ...  ...  ...  ...  ...  ...  ...  ...  ...  ...  ...  ...  ...  ...   \n",
      "84     1    0    0    0    0    0    0    0    0    0  ...    0    0    0   \n",
      "91     1    0    0    0    0    0    0    0    0    0  ...    0    0    0   \n",
      "103    0    1    0    0    0    0    0    0    0    0  ...    0    0    0   \n",
      "107    0    1    0    0    0    0    0    0    0    0  ...    0    0    0   \n",
      "119    0    0    0    1    0    0    0    0    0    0  ...    0    0    0   \n",
      "\n",
      "     77   82   84   91   103  107  119  \n",
      "48     1    0    1    1    0    0    0  \n",
      "104    0    1    0    0    1    1    0  \n",
      "89     0    0    0    0    0    0    0  \n",
      "100    0    0    0    0    0    0    1  \n",
      "19     0    0    0    0    0    0    0  \n",
      "..   ...  ...  ...  ...  ...  ...  ...  \n",
      "84     0    0    1    0    0    0    0  \n",
      "91     0    0    0    1    0    0    0  \n",
      "103    0    0    0    0    1    0    0  \n",
      "107    0    0    0    0    0    1    0  \n",
      "119    0    0    0    0    0    0    1  \n",
      "\n",
      "[62 rows x 62 columns]\n"
     ]
    },
    {
     "name": "stderr",
     "output_type": "stream",
     "text": [
      "<ipython-input-16-e3660aee5ea4>:7: DeprecationWarning: scipy.zeros is deprecated and will be removed in SciPy 2.0.0, use numpy.zeros instead\n",
      "  D = scipy.zeros([len(matPCC),len(matPCC)])\n"
     ]
    },
    {
     "name": "stdout",
     "output_type": "stream",
     "text": [
      "0\n",
      "len(c) 0 len(n) 121\n",
      "e 7\n",
      "14641\n",
      "9\n",
      "     48   104  100  19   49   57   64   89   96 \n",
      "48     1    1    1    0    0    1    1    0    1\n",
      "104    1    1    0    1    1    0    0    0    0\n",
      "100    1    0    1    0    0    0    0    1    0\n",
      "19     0    1    0    1    0    0    0    0    0\n",
      "49     0    1    0    0    1    0    0    0    0\n",
      "57     1    0    0    0    0    1    0    0    0\n",
      "64     1    0    0    0    0    0    1    0    0\n",
      "89     0    0    1    0    0    0    0    1    0\n",
      "96     1    0    0    0    0    0    0    0    1\n",
      "0\n",
      "len(c) 0 len(n) 121\n",
      "e 8\n",
      "14641\n",
      "2\n",
      "     48   104\n",
      "48     1    1\n",
      "104    1    1\n"
     ]
    },
    {
     "name": "stderr",
     "output_type": "stream",
     "text": [
      "<ipython-input-16-e3660aee5ea4>:7: DeprecationWarning: scipy.zeros is deprecated and will be removed in SciPy 2.0.0, use numpy.zeros instead\n",
      "  D = scipy.zeros([len(matPCC),len(matPCC)])\n",
      "<ipython-input-16-e3660aee5ea4>:13: RuntimeWarning: More than 20 figures have been opened. Figures created through the pyplot interface (`matplotlib.pyplot.figure`) are retained until explicitly closed and may consume too much memory. (To control this warning, see the rcParam `figure.max_open_warning`).\n",
      "  fig = pylab.figure()\n",
      "<ipython-input-16-e3660aee5ea4>:7: DeprecationWarning: scipy.zeros is deprecated and will be removed in SciPy 2.0.0, use numpy.zeros instead\n",
      "  D = scipy.zeros([len(matPCC),len(matPCC)])\n",
      "/usr/lib/python3.9/site-packages/scipy/cluster/hierarchy.py:2872: UserWarning: Attempting to set identical left == right == 0 results in singular transformations; automatically expanding.\n",
      "  ax.set_xlim([0, dvw])\n"
     ]
    },
    {
     "name": "stdout",
     "output_type": "stream",
     "text": [
      "0\n",
      "len(c) 0 len(n) 121\n",
      "d 3 r 2\n",
      "e 2\n",
      "300304\n",
      "548\n",
      "     59   61   167  240  294  312  330  376  398  429  ...  40   415  23   \\\n",
      "59     1    1    1    1    1    1    1    1    1    1  ...    1    1    1   \n",
      "61     1    1    1    1    1    1    1    1    1    1  ...    1    1    1   \n",
      "167    1    1    1    1    1    1    1    1    1    1  ...    1    1    1   \n",
      "240    1    1    1    1    1    1    1    1    1    1  ...    1    1    1   \n",
      "294    1    1    1    1    1    1    1    1    1    1  ...    1    1    1   \n",
      "..   ...  ...  ...  ...  ...  ...  ...  ...  ...  ...  ...  ...  ...  ...   \n",
      "145    1    1    1    1    1    1    1    1    1    1  ...    0    0    0   \n",
      "510    1    1    1    1    1    1    1    1    1    1  ...    0    0    0   \n",
      "190    1    1    1    1    1    1    1    1    1    1  ...    0    0    0   \n",
      "41     1    1    1    1    1    1    1    1    1    1  ...    0    1    0   \n",
      "1      0    0    0    0    0    0    0    0    0    0  ...    0    0    0   \n",
      "\n",
      "     25   198  145  510  190  41   1    \n",
      "59     1    1    1    1    1    1    0  \n",
      "61     1    1    1    1    1    1    0  \n",
      "167    1    1    1    1    1    1    0  \n",
      "240    1    1    1    1    1    1    0  \n",
      "294    1    1    1    1    1    1    0  \n",
      "..   ...  ...  ...  ...  ...  ...  ...  \n",
      "145    0    0    1    0    0    0    0  \n",
      "510    0    0    0    1    0    1    0  \n",
      "190    0    0    0    0    1    0    0  \n",
      "41     0    0    0    1    0    1    0  \n",
      "1      0    0    0    0    0    0    1  \n",
      "\n",
      "[548 rows x 548 columns]\n"
     ]
    },
    {
     "name": "stderr",
     "output_type": "stream",
     "text": [
      "<ipython-input-16-e3660aee5ea4>:7: DeprecationWarning: scipy.zeros is deprecated and will be removed in SciPy 2.0.0, use numpy.zeros instead\n",
      "  D = scipy.zeros([len(matPCC),len(matPCC)])\n"
     ]
    },
    {
     "name": "stdout",
     "output_type": "stream",
     "text": [
      "0\n",
      "len(c) 0 len(n) 548\n",
      "e 3\n",
      "300304\n",
      "525\n",
      "     9    10   2    3    4    5    6    30   31   32   ...  538  539  540  \\\n",
      "9      1    0    1    1    1    1    1    1    1    1  ...    1    1    1   \n",
      "10     0    1    1    1    1    1    1    1    1    1  ...    1    1    1   \n",
      "2      1    1    1    0    0    0    0    0    0    0  ...    0    0    0   \n",
      "3      1    1    0    1    0    0    0    0    0    0  ...    0    0    0   \n",
      "4      1    1    0    0    1    0    0    0    0    0  ...    0    0    0   \n",
      "..   ...  ...  ...  ...  ...  ...  ...  ...  ...  ...  ...  ...  ...  ...   \n",
      "543    1    1    0    0    0    0    0    0    0    0  ...    0    0    0   \n",
      "544    1    1    0    0    0    0    0    0    0    0  ...    0    0    0   \n",
      "545    1    1    0    0    0    0    0    0    0    0  ...    0    0    0   \n",
      "546    1    1    0    0    0    0    0    0    0    0  ...    0    0    0   \n",
      "547    1    1    0    0    0    0    0    0    0    0  ...    0    0    0   \n",
      "\n",
      "     541  542  543  544  545  546  547  \n",
      "9      1    1    1    1    1    1    1  \n",
      "10     1    1    1    1    1    1    1  \n",
      "2      0    0    0    0    0    0    0  \n",
      "3      0    0    0    0    0    0    0  \n",
      "4      0    0    0    0    0    0    0  \n",
      "..   ...  ...  ...  ...  ...  ...  ...  \n",
      "543    0    0    1    0    0    0    0  \n",
      "544    0    0    0    1    0    0    0  \n",
      "545    0    0    0    0    1    0    0  \n",
      "546    0    0    0    0    0    1    0  \n",
      "547    0    0    0    0    0    0    1  \n",
      "\n",
      "[525 rows x 525 columns]\n"
     ]
    },
    {
     "name": "stderr",
     "output_type": "stream",
     "text": [
      "<ipython-input-16-e3660aee5ea4>:7: DeprecationWarning: scipy.zeros is deprecated and will be removed in SciPy 2.0.0, use numpy.zeros instead\n",
      "  D = scipy.zeros([len(matPCC),len(matPCC)])\n"
     ]
    },
    {
     "name": "stdout",
     "output_type": "stream",
     "text": [
      "0\n",
      "len(c) 0 len(n) 548\n",
      "d 3 r 2\n",
      "e 2\n",
      "5329\n",
      "73\n",
      "    47  48  37  46  49  34  52  61  51  40  ...  33  17  41  2   7   1   5   \\\n",
      "47   1   1   1   1   1   0   1   1   1   1  ...   1   1   1   1   1   0   1   \n",
      "48   1   1   0   1   1   1   1   1   1   1  ...   1   0   0   1   1   1   1   \n",
      "37   1   0   1   1   1   1   1   1   1   1  ...   1   1   0   1   1   1   0   \n",
      "46   1   1   1   1   1   1   1   1   1   1  ...   1   1   0   1   0   0   0   \n",
      "49   1   1   1   1   1   1   1   1   1   1  ...   1   0   1   0   1   1   0   \n",
      "..  ..  ..  ..  ..  ..  ..  ..  ..  ..  ..  ...  ..  ..  ..  ..  ..  ..  ..   \n",
      "1    0   1   1   0   1   0   1   0   0   1  ...   0   0   1   0   0   1   0   \n",
      "5    1   1   0   0   0   0   0   0   0   0  ...   0   0   0   0   0   0   1   \n",
      "0    1   1   1   1   1   0   0   0   1   0  ...   0   0   0   0   0   0   0   \n",
      "15   1   1   1   0   1   0   0   0   0   0  ...   0   0   0   0   0   0   0   \n",
      "19   1   0   1   0   0   1   1   0   0   1  ...   0   0   0   0   0   0   0   \n",
      "\n",
      "    0   15  19  \n",
      "47   1   1   1  \n",
      "48   1   1   0  \n",
      "37   1   1   1  \n",
      "46   1   0   0  \n",
      "49   1   1   0  \n",
      "..  ..  ..  ..  \n",
      "1    0   0   0  \n",
      "5    0   0   0  \n",
      "0    1   0   0  \n",
      "15   0   1   0  \n",
      "19   0   0   1  \n",
      "\n",
      "[73 rows x 73 columns]\n"
     ]
    },
    {
     "name": "stderr",
     "output_type": "stream",
     "text": [
      "<ipython-input-16-e3660aee5ea4>:7: DeprecationWarning: scipy.zeros is deprecated and will be removed in SciPy 2.0.0, use numpy.zeros instead\n",
      "  D = scipy.zeros([len(matPCC),len(matPCC)])\n"
     ]
    },
    {
     "name": "stdout",
     "output_type": "stream",
     "text": [
      "0\n",
      "len(c) 0 len(n) 73\n",
      "e 3\n",
      "5329\n",
      "4\n",
      "    47  37  48  64\n",
      "47   1   1   1   1\n",
      "37   1   1   0   0\n",
      "48   1   0   1   0\n",
      "64   1   0   0   1\n",
      "0\n",
      "len(c) 0 len(n) 73\n",
      "d 3 r 2\n",
      "e 2\n",
      "56169\n",
      "237\n"
     ]
    },
    {
     "name": "stderr",
     "output_type": "stream",
     "text": [
      "<ipython-input-16-e3660aee5ea4>:7: DeprecationWarning: scipy.zeros is deprecated and will be removed in SciPy 2.0.0, use numpy.zeros instead\n",
      "  D = scipy.zeros([len(matPCC),len(matPCC)])\n",
      "<ipython-input-16-e3660aee5ea4>:7: DeprecationWarning: scipy.zeros is deprecated and will be removed in SciPy 2.0.0, use numpy.zeros instead\n",
      "  D = scipy.zeros([len(matPCC),len(matPCC)])\n"
     ]
    },
    {
     "name": "stdout",
     "output_type": "stream",
     "text": [
      "     162  193  188  105  111  163  213  166  27   157  ...  50   69   95   \\\n",
      "162    1    1    1    1    1    1    1    1    1    1  ...    1    1    1   \n",
      "193    1    1    1    0    1    1    1    0    1    1  ...    1    1    1   \n",
      "188    1    1    1    1    1    1    1    1    1    1  ...    1    1    0   \n",
      "105    1    0    1    1    1    1    1    1    1    1  ...    1    1    1   \n",
      "111    1    1    1    1    1    1    1    1    1    1  ...    1    1    1   \n",
      "..   ...  ...  ...  ...  ...  ...  ...  ...  ...  ...  ...  ...  ...  ...   \n",
      "153    1    1    1    1    1    1    1    1    1    1  ...    0    0    0   \n",
      "96     1    1    1    1    1    1    1    1    1    1  ...    0    0    0   \n",
      "75     1    1    1    1    1    0    1    0    1    0  ...    0    0    0   \n",
      "88     1    1    1    1    1    1    1    1    1    1  ...    0    0    0   \n",
      "1      1    1    1    0    0    0    1    0    1    0  ...    0    0    0   \n",
      "\n",
      "     224  93   153  96   75   88   1    \n",
      "162    1    1    1    1    1    1    1  \n",
      "193    1    1    1    1    1    1    1  \n",
      "188    0    1    1    1    1    1    1  \n",
      "105    1    1    1    1    1    1    0  \n",
      "111    1    1    1    1    1    1    0  \n",
      "..   ...  ...  ...  ...  ...  ...  ...  \n",
      "153    0    0    1    0    0    0    0  \n",
      "96     0    0    0    1    0    0    0  \n",
      "75     0    0    0    0    1    0    0  \n",
      "88     0    0    0    0    0    1    0  \n",
      "1      0    0    0    0    0    0    1  \n",
      "\n",
      "[237 rows x 237 columns]\n",
      "0\n",
      "len(c) 0 len(n) 237\n",
      "e 3\n",
      "56169\n",
      "92\n",
      "     162  193  213  27   29   188  105  225  98   116  ...  201  202  203  \\\n",
      "162    1    1    1    0    1    0    1    1    1    1  ...    1    0    0   \n",
      "193    1    1    0    1    1    1    0    0    1    1  ...    0    1    1   \n",
      "213    1    0    1    0    1    0    0    0    0    1  ...    0    0    0   \n",
      "27     0    1    0    1    0    0    0    1    0    0  ...    0    0    0   \n",
      "29     1    1    1    0    1    0    1    0    0    0  ...    0    0    0   \n",
      "..   ...  ...  ...  ...  ...  ...  ...  ...  ...  ...  ...  ...  ...  ...   \n",
      "214    0    1    0    0    0    0    0    0    0    0  ...    0    0    0   \n",
      "215    1    0    0    0    0    0    0    0    0    0  ...    0    0    0   \n",
      "220    1    0    0    0    0    0    0    0    0    0  ...    0    0    0   \n",
      "222    0    1    0    0    0    0    0    0    0    0  ...    0    0    0   \n",
      "233    1    0    0    0    0    0    0    0    0    0  ...    0    0    0   \n",
      "\n",
      "     210  212  214  215  220  222  233  \n",
      "162    1    1    0    1    1    0    1  \n",
      "193    0    0    1    0    0    1    0  \n",
      "213    0    0    0    0    0    0    0  \n",
      "27     0    0    0    0    0    0    0  \n",
      "29     0    0    0    0    0    0    0  \n",
      "..   ...  ...  ...  ...  ...  ...  ...  \n",
      "214    0    0    1    0    0    0    0  \n",
      "215    0    0    0    1    0    0    0  \n",
      "220    0    0    0    0    1    0    0  \n",
      "222    0    0    0    0    0    1    0  \n",
      "233    0    0    0    0    0    0    1  \n",
      "\n",
      "[92 rows x 92 columns]\n"
     ]
    },
    {
     "name": "stderr",
     "output_type": "stream",
     "text": [
      "<ipython-input-16-e3660aee5ea4>:7: DeprecationWarning: scipy.zeros is deprecated and will be removed in SciPy 2.0.0, use numpy.zeros instead\n",
      "  D = scipy.zeros([len(matPCC),len(matPCC)])\n"
     ]
    },
    {
     "name": "stdout",
     "output_type": "stream",
     "text": [
      "0\n",
      "len(c) 0 len(n) 237\n",
      "d 2 r 1\n",
      "e 2\n",
      "625\n",
      "24\n",
      "    10  0   15  21  5   3   12  1   11  16  ...  24  2   7   8   9   14  17  \\\n",
      "10   1   1   0   0   1   1   1   1   0   1  ...   0   1   0   0   1   0   1   \n",
      "0    1   1   1   1   1   1   1   1   1   0  ...   0   0   0   0   0   0   0   \n",
      "15   0   1   1   0   1   1   1   0   0   0  ...   0   0   1   0   0   1   0   \n",
      "21   0   1   0   1   1   1   1   1   0   0  ...   1   0   0   0   0   0   0   \n",
      "5    1   1   1   1   1   0   0   0   1   0  ...   0   0   0   0   0   0   0   \n",
      "3    1   1   1   1   0   1   0   0   0   0  ...   0   0   0   0   0   0   0   \n",
      "12   1   1   1   1   0   0   1   0   0   0  ...   0   0   0   0   0   0   0   \n",
      "1    1   1   0   1   0   0   0   1   0   0  ...   0   0   0   0   0   0   0   \n",
      "11   0   1   0   0   1   0   0   0   1   0  ...   1   0   0   0   0   0   0   \n",
      "16   1   0   0   0   0   0   0   0   0   1  ...   0   0   0   1   0   0   0   \n",
      "6    0   1   0   0   1   0   0   0   0   0  ...   0   0   0   0   0   0   0   \n",
      "13   1   0   0   1   0   0   0   0   0   0  ...   0   0   0   0   0   0   0   \n",
      "22   1   1   0   0   0   0   0   0   0   0  ...   0   0   0   0   0   0   0   \n",
      "23   1   0   0   0   0   0   0   0   0   1  ...   0   0   0   0   0   0   0   \n",
      "24   0   0   0   1   0   0   0   0   1   0  ...   1   0   0   0   0   0   0   \n",
      "2    1   0   0   0   0   0   0   0   0   0  ...   0   1   0   0   0   0   0   \n",
      "7    0   0   1   0   0   0   0   0   0   0  ...   0   0   1   0   0   0   0   \n",
      "8    0   0   0   0   0   0   0   0   0   1  ...   0   0   0   1   0   0   0   \n",
      "9    1   0   0   0   0   0   0   0   0   0  ...   0   0   0   0   1   0   0   \n",
      "14   0   0   1   0   0   0   0   0   0   0  ...   0   0   0   0   0   1   0   \n",
      "17   1   0   0   0   0   0   0   0   0   0  ...   0   0   0   0   0   0   1   \n",
      "18   1   0   0   0   0   0   0   0   0   0  ...   0   0   0   0   0   0   0   \n",
      "19   0   0   1   0   0   0   0   0   0   0  ...   0   0   0   0   0   0   0   \n",
      "20   0   1   0   0   0   0   0   0   0   0  ...   0   0   0   0   0   0   0   \n",
      "\n",
      "    18  19  20  \n",
      "10   1   0   0  \n",
      "0    0   0   1  \n",
      "15   0   1   0  \n",
      "21   0   0   0  \n",
      "5    0   0   0  \n",
      "3    0   0   0  \n",
      "12   0   0   0  \n",
      "1    0   0   0  \n",
      "11   0   0   0  \n",
      "16   0   0   0  \n",
      "6    0   0   0  \n",
      "13   0   0   0  \n",
      "22   0   0   0  \n",
      "23   0   0   0  \n",
      "24   0   0   0  \n",
      "2    0   0   0  \n",
      "7    0   0   0  \n",
      "8    0   0   0  \n",
      "9    0   0   0  \n",
      "14   0   0   0  \n",
      "17   0   0   0  \n",
      "18   1   0   0  \n",
      "19   0   1   0  \n",
      "20   0   0   1  \n",
      "\n",
      "[24 rows x 24 columns]\n",
      "0\n",
      "len(c) 0 len(n) 25\n",
      "d 2 r 1\n",
      "e 2\n",
      "3600\n",
      "59\n"
     ]
    },
    {
     "name": "stderr",
     "output_type": "stream",
     "text": [
      "<ipython-input-16-e3660aee5ea4>:7: DeprecationWarning: scipy.zeros is deprecated and will be removed in SciPy 2.0.0, use numpy.zeros instead\n",
      "  D = scipy.zeros([len(matPCC),len(matPCC)])\n",
      "<ipython-input-16-e3660aee5ea4>:7: DeprecationWarning: scipy.zeros is deprecated and will be removed in SciPy 2.0.0, use numpy.zeros instead\n",
      "  D = scipy.zeros([len(matPCC),len(matPCC)])\n"
     ]
    },
    {
     "name": "stdout",
     "output_type": "stream",
     "text": [
      "    8   31  33  37  44  46  56  7   11  24  ...  32  4   17  20  43  36  6   \\\n",
      "8    1   1   1   1   1   1   1   1   1   1  ...   1   1   1   1   1   1   1   \n",
      "31   1   1   1   1   1   1   1   1   1   1  ...   1   1   1   1   1   1   1   \n",
      "33   1   1   1   1   1   1   1   1   1   1  ...   1   1   1   1   1   1   1   \n",
      "37   1   1   1   1   1   1   1   1   1   1  ...   1   1   1   1   1   1   1   \n",
      "44   1   1   1   1   1   1   1   1   1   1  ...   1   1   1   1   1   1   1   \n",
      "46   1   1   1   1   1   1   1   1   1   1  ...   1   1   1   1   1   1   1   \n",
      "56   1   1   1   1   1   1   1   1   1   1  ...   1   1   1   1   1   1   1   \n",
      "7    1   1   1   1   1   1   1   1   1   1  ...   1   1   1   1   1   1   1   \n",
      "11   1   1   1   1   1   1   1   1   1   1  ...   1   1   1   1   1   1   1   \n",
      "24   1   1   1   1   1   1   1   1   1   1  ...   1   1   1   1   1   1   1   \n",
      "29   1   1   1   1   1   1   1   1   1   1  ...   1   1   1   1   1   1   1   \n",
      "34   1   1   1   1   1   1   1   1   0   1  ...   1   1   1   1   1   1   1   \n",
      "50   1   1   1   1   1   1   1   1   1   1  ...   1   1   1   1   1   1   1   \n",
      "51   1   1   1   1   1   1   1   1   1   0  ...   1   1   1   1   1   1   1   \n",
      "53   1   1   1   1   1   1   1   1   1   1  ...   1   1   1   1   1   1   1   \n",
      "55   1   1   1   1   1   1   1   1   1   1  ...   1   1   1   1   1   1   1   \n",
      "57   1   1   1   1   1   1   1   1   1   1  ...   1   1   1   1   1   1   1   \n",
      "14   1   1   1   1   1   1   1   1   1   1  ...   1   0   1   1   1   1   1   \n",
      "15   1   1   1   1   1   1   1   1   1   1  ...   1   1   1   1   1   1   1   \n",
      "28   1   1   1   1   1   1   1   1   1   1  ...   1   1   1   1   1   1   1   \n",
      "54   1   1   1   1   1   1   1   1   1   1  ...   1   1   1   1   1   1   1   \n",
      "0    1   1   1   1   1   1   1   1   1   1  ...   1   0   1   1   1   1   1   \n",
      "3    1   1   1   1   1   1   1   1   1   1  ...   1   0   1   1   1   1   1   \n",
      "13   1   1   1   1   1   1   1   1   1   1  ...   1   1   1   1   1   1   1   \n",
      "19   1   1   1   1   1   1   1   1   1   1  ...   1   1   0   1   1   1   1   \n",
      "22   1   1   1   1   1   1   1   1   1   1  ...   1   1   1   1   1   1   1   \n",
      "30   1   1   1   1   1   1   1   1   1   1  ...   1   1   1   1   1   1   1   \n",
      "38   1   1   1   1   1   1   1   1   1   1  ...   1   1   1   1   1   1   1   \n",
      "47   1   1   1   1   1   1   1   1   1   1  ...   1   1   1   1   1   1   1   \n",
      "58   1   1   1   1   1   1   1   1   1   1  ...   1   1   1   1   1   0   0   \n",
      "26   1   1   1   1   1   1   1   1   1   1  ...   0   1   1   1   1   1   0   \n",
      "2    1   1   1   1   1   1   1   1   1   1  ...   1   1   1   1   1   1   1   \n",
      "9    1   1   1   1   1   1   1   1   1   1  ...   1   1   1   1   1   0   1   \n",
      "16   1   1   1   1   1   1   1   1   1   1  ...   1   1   1   1   1   1   1   \n",
      "35   1   1   1   1   1   1   1   1   1   1  ...   1   0   1   1   1   1   1   \n",
      "12   1   1   1   1   1   1   1   1   1   1  ...   1   1   1   1   0   1   0   \n",
      "25   1   1   1   1   1   1   1   1   1   1  ...   1   0   1   1   1   1   1   \n",
      "40   1   1   1   1   1   1   1   1   1   1  ...   1   1   0   0   1   1   1   \n",
      "49   1   1   1   1   1   1   1   1   1   1  ...   1   0   1   1   1   1   1   \n",
      "5    1   1   1   1   1   1   1   1   1   1  ...   0   1   0   0   1   1   1   \n",
      "41   1   1   1   1   1   1   1   1   1   1  ...   0   1   0   0   1   1   1   \n",
      "42   1   1   1   1   1   1   1   1   1   1  ...   1   0   1   1   1   1   1   \n",
      "10   1   1   1   1   1   1   1   1   1   1  ...   1   1   1   1   0   0   0   \n",
      "18   1   1   1   1   1   1   1   1   1   1  ...   1   1   1   1   1   0   1   \n",
      "23   1   1   1   1   1   1   1   1   1   1  ...   1   1   1   1   0   1   1   \n",
      "39   1   1   1   1   1   1   1   0   1   1  ...   1   1   1   1   0   0   1   \n",
      "48   1   1   1   1   1   1   1   1   1   1  ...   1   1   1   1   0   1   0   \n",
      "59   1   1   1   1   1   1   1   1   1   1  ...   1   0   1   1   1   0   1   \n",
      "27   1   1   1   1   1   1   1   1   1   1  ...   1   0   1   1   1   1   1   \n",
      "32   1   1   1   1   1   1   1   1   1   1  ...   1   1   0   0   1   1   0   \n",
      "4    1   1   1   1   1   1   1   1   1   1  ...   1   1   1   1   1   1   1   \n",
      "17   1   1   1   1   1   1   1   1   1   1  ...   0   1   1   0   1   1   0   \n",
      "20   1   1   1   1   1   1   1   1   1   1  ...   0   1   0   1   0   1   0   \n",
      "43   1   1   1   1   1   1   1   1   1   1  ...   1   1   1   0   1   0   0   \n",
      "36   1   1   1   1   1   1   1   1   1   1  ...   1   1   1   1   0   1   0   \n",
      "6    1   1   1   1   1   1   1   1   1   1  ...   0   1   0   0   0   0   1   \n",
      "21   1   1   1   1   1   1   1   1   1   1  ...   0   1   0   0   0   0   0   \n",
      "45   1   1   1   1   1   1   1   1   1   1  ...   0   0   0   0   1   0   0   \n",
      "52   1   1   1   1   1   1   1   1   1   1  ...   0   1   0   0   0   0   0   \n",
      "\n",
      "    21  45  52  \n",
      "8    1   1   1  \n",
      "31   1   1   1  \n",
      "33   1   1   1  \n",
      "37   1   1   1  \n",
      "44   1   1   1  \n",
      "46   1   1   1  \n",
      "56   1   1   1  \n",
      "7    1   1   1  \n",
      "11   1   1   1  \n",
      "24   1   1   1  \n",
      "29   1   1   1  \n",
      "34   1   1   1  \n",
      "50   1   1   1  \n",
      "51   1   1   1  \n",
      "53   1   1   1  \n",
      "55   1   0   1  \n",
      "57   1   1   1  \n",
      "14   1   1   1  \n",
      "15   1   1   1  \n",
      "28   0   1   1  \n",
      "54   1   1   1  \n",
      "0    1   1   1  \n",
      "3    1   1   1  \n",
      "13   1   1   1  \n",
      "19   1   1   1  \n",
      "22   0   1   1  \n",
      "30   1   1   1  \n",
      "38   1   1   1  \n",
      "47   1   1   1  \n",
      "58   1   1   1  \n",
      "26   1   0   0  \n",
      "2    1   1   1  \n",
      "9    1   1   1  \n",
      "16   1   1   0  \n",
      "35   1   0   1  \n",
      "12   1   1   0  \n",
      "25   0   0   1  \n",
      "40   0   0   0  \n",
      "49   1   1   1  \n",
      "5    0   0   1  \n",
      "41   0   1   0  \n",
      "42   1   1   0  \n",
      "10   1   1   0  \n",
      "18   1   0   1  \n",
      "23   1   1   0  \n",
      "39   1   1   0  \n",
      "48   1   1   0  \n",
      "59   1   0   1  \n",
      "27   1   0   0  \n",
      "32   0   0   0  \n",
      "4    1   0   1  \n",
      "17   0   0   0  \n",
      "20   0   0   0  \n",
      "43   0   1   0  \n",
      "36   0   0   0  \n",
      "6    0   0   0  \n",
      "21   1   0   1  \n",
      "45   0   1   0  \n",
      "52   1   0   1  \n",
      "\n",
      "[59 rows x 59 columns]\n",
      "0\n",
      "len(c) 0 len(n) 60\n",
      "d 3 r 2\n",
      "e 2\n",
      "42436\n",
      "206\n",
      "     6    115  174  186  194  201  202  13   58   63   ...  59   61   138  \\\n",
      "6      1    1    1    1    1    1    1    1    1    1  ...    1    1    1   \n",
      "115    1    1    1    1    1    1    1    1    1    1  ...    1    1    1   \n",
      "174    1    1    1    1    1    1    1    1    1    1  ...    1    1    1   \n",
      "186    1    1    1    1    1    1    1    1    1    1  ...    1    1    1   \n",
      "194    1    1    1    1    1    1    1    1    1    1  ...    1    1    1   \n",
      "..   ...  ...  ...  ...  ...  ...  ...  ...  ...  ...  ...  ...  ...  ...   \n",
      "119    1    1    1    1    1    1    1    1    1    1  ...    0    0    0   \n",
      "19     1    1    1    1    1    1    1    1    1    1  ...    0    0    0   \n",
      "27     1    1    1    1    1    1    1    1    1    1  ...    0    0    0   \n",
      "142    1    1    1    1    1    1    1    1    1    1  ...    0    0    0   \n",
      "0      0    0    1    1    1    1    1    0    0    0  ...    0    0    0   \n",
      "\n",
      "     12   33   119  19   27   142  0    \n",
      "6      1    1    1    1    1    1    0  \n",
      "115    1    1    1    1    1    1    0  \n",
      "174    0    1    1    1    1    1    1  \n",
      "186    0    1    1    1    1    1    1  \n",
      "194    0    1    1    1    1    1    1  \n",
      "..   ...  ...  ...  ...  ...  ...  ...  \n",
      "119    0    0    1    0    0    0    0  \n",
      "19     1    0    0    1    0    0    0  \n",
      "27     0    0    0    0    1    0    0  \n",
      "142    0    0    0    0    0    1    0  \n",
      "0      0    0    0    0    0    0    1  \n",
      "\n",
      "[206 rows x 206 columns]\n"
     ]
    },
    {
     "name": "stderr",
     "output_type": "stream",
     "text": [
      "<ipython-input-16-e3660aee5ea4>:7: DeprecationWarning: scipy.zeros is deprecated and will be removed in SciPy 2.0.0, use numpy.zeros instead\n",
      "  D = scipy.zeros([len(matPCC),len(matPCC)])\n"
     ]
    },
    {
     "name": "stdout",
     "output_type": "stream",
     "text": [
      "0\n",
      "len(c) 0 len(n) 206\n",
      "e 3\n",
      "42436\n",
      "177\n",
      "     172  173  174  178  179  181  182  183  184  185  ...  77   42   121  \\\n",
      "172    1    0    0    0    0    0    0    0    0    0  ...    1    1    1   \n",
      "173    0    1    0    0    0    0    0    0    0    0  ...    1    1    1   \n",
      "174    0    0    1    0    0    0    0    0    0    0  ...    1    1    1   \n",
      "178    0    0    0    1    0    0    0    0    0    0  ...    1    1    1   \n",
      "179    0    0    0    0    1    0    0    0    0    0  ...    1    1    1   \n",
      "..   ...  ...  ...  ...  ...  ...  ...  ...  ...  ...  ...  ...  ...  ...   \n",
      "1      1    1    1    1    1    1    1    1    1    1  ...    0    0    0   \n",
      "2      1    1    1    1    1    1    1    1    1    1  ...    0    0    0   \n",
      "49     1    1    1    1    1    1    1    1    1    1  ...    0    0    0   \n",
      "79     1    1    1    1    1    1    1    1    1    1  ...    0    0    0   \n",
      "129    1    1    1    1    1    1    1    1    1    1  ...    0    0    0   \n",
      "\n",
      "     152  163  1    2    49   79   129  \n",
      "172    1    1    1    1    1    1    1  \n",
      "173    1    1    1    1    1    1    1  \n",
      "174    1    1    1    1    1    1    1  \n",
      "178    1    1    1    1    1    1    1  \n",
      "179    1    1    1    1    1    1    1  \n",
      "..   ...  ...  ...  ...  ...  ...  ...  \n",
      "1      0    0    1    0    0    0    0  \n",
      "2      0    0    0    1    0    0    0  \n",
      "49     0    0    0    0    1    0    0  \n",
      "79     0    0    0    0    0    1    0  \n",
      "129    0    0    0    0    0    0    1  \n",
      "\n",
      "[177 rows x 177 columns]\n"
     ]
    },
    {
     "name": "stderr",
     "output_type": "stream",
     "text": [
      "<ipython-input-16-e3660aee5ea4>:7: DeprecationWarning: scipy.zeros is deprecated and will be removed in SciPy 2.0.0, use numpy.zeros instead\n",
      "  D = scipy.zeros([len(matPCC),len(matPCC)])\n"
     ]
    },
    {
     "name": "stdout",
     "output_type": "stream",
     "text": [
      "0\n",
      "len(c) 0 len(n) 206\n",
      "d 5 r 3\n",
      "e 2\n",
      "51076\n",
      "226\n",
      "     44   103  217  108  167  142  181  69   76   136  ...  41   67   185  \\\n",
      "44     1    1    1    1    1    1    1    1    1    1  ...    1    1    1   \n",
      "103    1    1    1    1    1    1    1    1    1    1  ...    1    1    1   \n",
      "217    1    1    1    1    1    1    1    1    1    1  ...    1    1    1   \n",
      "108    1    1    1    1    1    1    1    1    1    1  ...    1    1    1   \n",
      "167    1    1    1    1    1    1    1    1    1    1  ...    1    1    1   \n",
      "..   ...  ...  ...  ...  ...  ...  ...  ...  ...  ...  ...  ...  ...  ...   \n",
      "150    1    1    1    1    1    1    1    1    1    1  ...    0    0    0   \n",
      "220    1    1    1    1    1    1    1    1    1    1  ...    0    0    0   \n",
      "29     1    1    1    1    1    1    1    1    1    1  ...    0    0    0   \n",
      "207    1    1    1    1    1    1    1    1    1    1  ...    0    0    0   \n",
      "55     1    1    1    1    1    1    1    1    1    1  ...    0    0    0   \n",
      "\n",
      "     99   109  150  220  29   207  55   \n",
      "44     1    1    1    1    1    1    1  \n",
      "103    1    1    1    1    1    1    1  \n",
      "217    1    1    1    1    1    1    1  \n",
      "108    1    1    1    1    1    1    1  \n",
      "167    1    1    1    1    1    1    1  \n",
      "..   ...  ...  ...  ...  ...  ...  ...  \n",
      "150    0    0    1    0    0    0    1  \n",
      "220    0    0    0    1    0    0    0  \n",
      "29     0    0    0    0    1    0    0  \n",
      "207    0    0    0    0    0    1    0  \n",
      "55     0    0    1    0    0    0    1  \n",
      "\n",
      "[226 rows x 226 columns]\n"
     ]
    },
    {
     "name": "stderr",
     "output_type": "stream",
     "text": [
      "<ipython-input-16-e3660aee5ea4>:7: DeprecationWarning: scipy.zeros is deprecated and will be removed in SciPy 2.0.0, use numpy.zeros instead\n",
      "  D = scipy.zeros([len(matPCC),len(matPCC)])\n"
     ]
    },
    {
     "name": "stdout",
     "output_type": "stream",
     "text": [
      "0\n",
      "len(c) 0 len(n) 226\n",
      "e 3\n",
      "51076\n",
      "226\n",
      "     217  142  76   137  167  103  201  221  203  192  ...  86   207  22   \\\n",
      "217    1    1    1    1    1    1    1    1    1    1  ...    1    1    1   \n",
      "142    1    1    1    0    1    0    1    0    1    0  ...    1    1    0   \n",
      "76     1    1    1    0    1    1    1    0    1    1  ...    1    1    0   \n",
      "137    1    0    0    1    1    0    1    0    1    0  ...    1    1    0   \n",
      "167    1    1    1    1    1    1    1    0    1    1  ...    1    1    1   \n",
      "..   ...  ...  ...  ...  ...  ...  ...  ...  ...  ...  ...  ...  ...  ...   \n",
      "41     0    1    0    1    0    0    0    0    0    1  ...    0    0    0   \n",
      "129    1    0    0    0    1    1    0    0    0    0  ...    0    0    0   \n",
      "150    1    0    0    0    1    1    0    0    0    0  ...    0    0    0   \n",
      "155    1    0    0    0    1    0    0    0    0    0  ...    0    0    0   \n",
      "220    1    0    0    0    0    1    0    0    0    1  ...    0    0    0   \n",
      "\n",
      "     72   99   41   129  150  155  220  \n",
      "217    1    1    0    1    1    1    1  \n",
      "142    1    0    1    0    0    0    0  \n",
      "76     0    1    0    0    0    0    0  \n",
      "137    0    0    1    0    0    0    0  \n",
      "167    1    0    0    1    1    1    0  \n",
      "..   ...  ...  ...  ...  ...  ...  ...  \n",
      "41     0    0    1    0    0    0    0  \n",
      "129    0    0    0    1    0    0    0  \n",
      "150    0    0    0    0    1    0    0  \n",
      "155    0    0    0    0    0    1    0  \n",
      "220    0    0    0    0    0    0    1  \n",
      "\n",
      "[226 rows x 226 columns]\n"
     ]
    },
    {
     "name": "stderr",
     "output_type": "stream",
     "text": [
      "<ipython-input-16-e3660aee5ea4>:7: DeprecationWarning: scipy.zeros is deprecated and will be removed in SciPy 2.0.0, use numpy.zeros instead\n",
      "  D = scipy.zeros([len(matPCC),len(matPCC)])\n"
     ]
    },
    {
     "name": "stdout",
     "output_type": "stream",
     "text": [
      "0\n",
      "len(c) 0 len(n) 226\n",
      "e 4\n",
      "51076\n",
      "63\n",
      "     217  76   142  137  225  58   103  136  201  131  ...  152  161  162  \\\n",
      "217    1    1    1    1    1    1    1    0    1    1  ...    1    1    1   \n",
      "76     1    1    0    0    1    1    0    1    0    0  ...    0    0    0   \n",
      "142    1    0    1    0    1    1    0    1    0    0  ...    0    0    0   \n",
      "137    1    0    0    1    1    1    0    1    0    0  ...    0    0    0   \n",
      "225    1    1    1    1    1    0    1    0    1    1  ...    0    0    0   \n",
      "..   ...  ...  ...  ...  ...  ...  ...  ...  ...  ...  ...  ...  ...  ...   \n",
      "183    1    0    0    0    0    0    0    0    0    0  ...    0    0    0   \n",
      "196    1    0    0    0    0    0    0    0    0    0  ...    0    0    0   \n",
      "197    1    0    0    0    0    0    0    0    0    0  ...    0    0    0   \n",
      "200    0    1    0    0    0    0    0    0    0    0  ...    0    0    0   \n",
      "213    1    0    0    0    0    0    0    0    0    0  ...    0    0    0   \n",
      "\n",
      "     163  169  183  196  197  200  213  \n",
      "217    0    1    1    1    1    0    1  \n",
      "76     1    0    0    0    0    1    0  \n",
      "142    0    0    0    0    0    0    0  \n",
      "137    0    0    0    0    0    0    0  \n",
      "225    0    0    0    0    0    0    0  \n",
      "..   ...  ...  ...  ...  ...  ...  ...  \n",
      "183    0    0    1    0    0    0    0  \n",
      "196    0    0    0    1    0    0    0  \n",
      "197    0    0    0    0    1    0    0  \n",
      "200    0    0    0    0    0    1    0  \n",
      "213    0    0    0    0    0    0    1  \n",
      "\n",
      "[63 rows x 63 columns]\n"
     ]
    },
    {
     "name": "stderr",
     "output_type": "stream",
     "text": [
      "<ipython-input-16-e3660aee5ea4>:7: DeprecationWarning: scipy.zeros is deprecated and will be removed in SciPy 2.0.0, use numpy.zeros instead\n",
      "  D = scipy.zeros([len(matPCC),len(matPCC)])\n"
     ]
    },
    {
     "name": "stdout",
     "output_type": "stream",
     "text": [
      "0\n",
      "len(c) 0 len(n) 226\n",
      "e 5\n",
      "51076\n",
      "2\n",
      "     142  217\n",
      "142    1    1\n",
      "217    1    1\n",
      "0\n",
      "len(c) 0 len(n) 226\n",
      "d 2 r 1\n",
      "e 2\n",
      "361\n",
      "17\n",
      "    3   4   13  1   9   5   6   10  11  14  18  7   8   12  17  2   16\n",
      "3    1   1   1   1   1   1   0   1   1   0   1   0   1   1   1   1   1\n",
      "4    1   1   1   1   1   1   1   1   0   1   0   1   0   1   1   0   0\n",
      "13   1   1   1   0   1   0   0   1   1   1   1   1   0   0   0   0   0\n",
      "1    1   1   0   1   0   1   1   0   0   1   1   0   0   0   0   0   0\n",
      "9    1   1   1   0   1   0   0   0   0   0   0   0   1   0   0   0   0\n",
      "5    1   1   0   1   0   1   0   0   0   0   0   0   0   0   0   0   0\n",
      "6    0   1   0   1   0   0   1   0   1   0   0   0   0   0   0   0   0\n",
      "10   1   1   1   0   0   0   0   1   0   0   0   0   0   0   0   0   0\n",
      "11   1   0   1   0   0   0   1   0   1   0   0   0   0   0   0   0   0\n",
      "14   0   1   1   1   0   0   0   0   0   1   0   0   0   0   0   0   0\n",
      "18   1   0   1   1   0   0   0   0   0   0   1   0   0   0   0   0   0\n",
      "7    0   1   1   0   0   0   0   0   0   0   0   1   0   0   0   0   0\n",
      "8    1   0   0   0   1   0   0   0   0   0   0   0   1   0   0   0   0\n",
      "12   1   1   0   0   0   0   0   0   0   0   0   0   0   1   0   0   0\n",
      "17   1   1   0   0   0   0   0   0   0   0   0   0   0   0   1   0   0\n",
      "2    1   0   0   0   0   0   0   0   0   0   0   0   0   0   0   1   0\n",
      "16   1   0   0   0   0   0   0   0   0   0   0   0   0   0   0   0   1\n"
     ]
    },
    {
     "name": "stderr",
     "output_type": "stream",
     "text": [
      "<ipython-input-16-e3660aee5ea4>:7: DeprecationWarning: scipy.zeros is deprecated and will be removed in SciPy 2.0.0, use numpy.zeros instead\n",
      "  D = scipy.zeros([len(matPCC),len(matPCC)])\n",
      "/usr/lib/python3.9/site-packages/scipy/cluster/hierarchy.py:2872: UserWarning: Attempting to set identical left == right == 0 results in singular transformations; automatically expanding.\n",
      "  ax.set_xlim([0, dvw])\n",
      "<ipython-input-16-e3660aee5ea4>:7: DeprecationWarning: scipy.zeros is deprecated and will be removed in SciPy 2.0.0, use numpy.zeros instead\n",
      "  D = scipy.zeros([len(matPCC),len(matPCC)])\n"
     ]
    },
    {
     "name": "stdout",
     "output_type": "stream",
     "text": [
      "0\n",
      "len(c) 0 len(n) 19\n",
      "d 2 r 2\n",
      "e 2\n",
      "361\n",
      "19\n",
      "    0   6   12  14  16  15  2   10  3   7   9   11  4   5   8   13  17  1   18\n",
      "0    1   1   1   1   1   1   1   1   1   1   0   1   1   0   1   1   0   0   1\n",
      "6    1   1   0   1   1   1   0   1   0   0   1   1   0   0   1   0   1   1   0\n",
      "12   1   0   1   1   1   1   0   1   0   1   0   1   0   0   0   1   1   0   0\n",
      "14   1   1   1   1   0   0   1   0   1   0   1   0   0   1   0   0   0   0   0\n",
      "16   1   1   1   0   1   1   1   1   0   0   0   0   1   0   0   0   0   0   0\n",
      "15   1   1   1   0   1   1   0   0   0   1   0   0   0   0   0   0   0   0   0\n",
      "2    1   0   0   1   1   0   1   0   1   0   0   0   0   0   0   0   0   0   0\n",
      "10   1   1   1   0   1   0   0   1   0   0   0   0   0   0   0   0   0   0   0\n",
      "3    1   0   0   1   0   0   1   0   1   0   0   0   0   0   0   0   0   0   0\n",
      "7    1   0   1   0   0   1   0   0   0   1   0   0   0   0   0   0   0   0   0\n",
      "9    0   1   0   1   0   0   0   0   0   0   1   0   0   1   0   0   0   0   0\n",
      "11   1   1   1   0   0   0   0   0   0   0   0   1   0   0   0   0   0   0   0\n",
      "4    1   0   0   0   1   0   0   0   0   0   0   0   1   0   0   0   0   0   0\n",
      "5    0   0   0   1   0   0   0   0   0   0   1   0   0   1   0   0   0   0   0\n",
      "8    1   1   0   0   0   0   0   0   0   0   0   0   0   0   1   0   0   0   0\n",
      "13   1   0   1   0   0   0   0   0   0   0   0   0   0   0   0   1   0   0   0\n",
      "17   0   1   1   0   0   0   0   0   0   0   0   0   0   0   0   0   1   0   0\n",
      "1    0   1   0   0   0   0   0   0   0   0   0   0   0   0   0   0   0   1   0\n",
      "18   1   0   0   0   0   0   0   0   0   0   0   0   0   0   0   0   0   0   1\n",
      "0\n",
      "len(c) 0 len(n) 19\n",
      "CPU times: user 21.6 s, sys: 408 ms, total: 22 s\n",
      "Wall time: 22 s\n",
      "CPU times: user 6.04 ms, sys: 183 µs, total: 6.23 ms\n",
      "Wall time: 6.14 ms\n"
     ]
    },
    {
     "name": "stderr",
     "output_type": "stream",
     "text": [
      "<ipython-input-16-e3660aee5ea4>:7: DeprecationWarning: scipy.zeros is deprecated and will be removed in SciPy 2.0.0, use numpy.zeros instead\n",
      "  D = scipy.zeros([len(matPCC),len(matPCC)])\n"
     ]
    },
    {
     "name": "stdout",
     "output_type": "stream",
     "text": [
      "CPU times: user 124 ms, sys: 0 ns, total: 124 ms\n",
      "Wall time: 122 ms\n",
      "CPU times: user 255 ms, sys: 0 ns, total: 255 ms\n",
      "Wall time: 254 ms\n",
      "CPU times: user 164 ms, sys: 0 ns, total: 164 ms\n",
      "Wall time: 163 ms\n",
      "CPU times: user 133 ms, sys: 9.61 ms, total: 143 ms\n",
      "Wall time: 142 ms\n",
      "CPU times: user 63.6 ms, sys: 93 µs, total: 63.6 ms\n",
      "Wall time: 63.4 ms\n",
      "CPU times: user 11.6 ms, sys: 0 ns, total: 11.6 ms\n",
      "Wall time: 11.6 ms\n",
      "CPU times: user 18.6 ms, sys: 13 µs, total: 18.6 ms\n",
      "Wall time: 18.4 ms\n",
      "CPU times: user 4.38 ms, sys: 0 ns, total: 4.38 ms\n",
      "Wall time: 4.38 ms\n",
      "CPU times: user 62.7 ms, sys: 0 ns, total: 62.7 ms\n",
      "Wall time: 62.4 ms\n",
      "CPU times: user 960 µs, sys: 0 ns, total: 960 µs\n",
      "Wall time: 965 µs\n",
      "CPU times: user 1.12 ms, sys: 0 ns, total: 1.12 ms\n",
      "Wall time: 1.12 ms\n",
      "CPU times: user 2.51 ms, sys: 0 ns, total: 2.51 ms\n",
      "Wall time: 2.52 ms\n",
      "CPU times: user 2.97 ms, sys: 10 ms, total: 13 ms\n",
      "Wall time: 12.6 ms\n",
      "CPU times: user 919 µs, sys: 28 µs, total: 947 µs\n",
      "Wall time: 951 µs\n",
      "CPU times: user 1.21 ms, sys: 0 ns, total: 1.21 ms\n",
      "Wall time: 1.22 ms\n"
     ]
    },
    {
     "ename": "AssertionError",
     "evalue": "Assigned 16 workers instead of 31",
     "output_type": "error",
     "traceback": [
      "\u001b[0;31m\u001b[0m",
      "\u001b[0;31mAssertionError\u001b[0mTraceback (most recent call last)",
      "\u001b[0;32m<timed exec>\u001b[0m in \u001b[0;36m<module>\u001b[0;34m\u001b[0m\n",
      "\u001b[0;32m<ipython-input-24-cc634eef4825>\u001b[0m in \u001b[0;36massignWorkers\u001b[0;34m(graph, nWorkers)\u001b[0m\n\u001b[1;32m     49\u001b[0m         \u001b[0mget_ipython\u001b[0m\u001b[0;34m(\u001b[0m\u001b[0;34m)\u001b[0m\u001b[0;34m.\u001b[0m\u001b[0mrun_line_magic\u001b[0m\u001b[0;34m(\u001b[0m\u001b[0;34m'time'\u001b[0m\u001b[0;34m,\u001b[0m \u001b[0;34m'workerIds.extend(assignWorkersInCommunity(graph,clusterGraph,clusterId))'\u001b[0m\u001b[0;34m)\u001b[0m\u001b[0;34m\u001b[0m\u001b[0;34m\u001b[0m\u001b[0m\n\u001b[1;32m     50\u001b[0m \u001b[0;34m\u001b[0m\u001b[0m\n\u001b[0;32m---> 51\u001b[0;31m     \u001b[0;32massert\u001b[0m \u001b[0mlen\u001b[0m\u001b[0;34m(\u001b[0m\u001b[0mworkerIds\u001b[0m\u001b[0;34m)\u001b[0m\u001b[0;34m==\u001b[0m\u001b[0mnWorkers\u001b[0m\u001b[0;34m,\u001b[0m \u001b[0;34m\"Assigned {} workers instead of {}\"\u001b[0m\u001b[0;34m.\u001b[0m\u001b[0mformat\u001b[0m\u001b[0;34m(\u001b[0m\u001b[0mlen\u001b[0m\u001b[0;34m(\u001b[0m\u001b[0mworkerIds\u001b[0m\u001b[0;34m)\u001b[0m\u001b[0;34m,\u001b[0m\u001b[0mnWorkers\u001b[0m\u001b[0;34m)\u001b[0m\u001b[0;34m\u001b[0m\u001b[0;34m\u001b[0m\u001b[0m\n\u001b[0m\u001b[1;32m     52\u001b[0m     \u001b[0;32mreturn\u001b[0m \u001b[0mworkerIds\u001b[0m\u001b[0;34m,\u001b[0m\u001b[0mpartition\u001b[0m\u001b[0;34m,\u001b[0m\u001b[0mclusterGraph\u001b[0m\u001b[0;34m,\u001b[0m\u001b[0mclusterIds\u001b[0m\u001b[0;34m\u001b[0m\u001b[0;34m\u001b[0m\u001b[0m\n",
      "\u001b[0;31mAssertionError\u001b[0m: Assigned 16 workers instead of 31"
     ]
    },
    {
     "ename": "NameError",
     "evalue": "name 'workerIds' is not defined",
     "output_type": "error",
     "traceback": [
      "\u001b[0;31m\u001b[0m",
      "\u001b[0;31mNameError\u001b[0mTraceback (most recent call last)",
      "\u001b[0;32m<ipython-input-25-dbbfeb45e7dd>\u001b[0m in \u001b[0;36m<module>\u001b[0;34m\u001b[0m\n\u001b[1;32m      1\u001b[0m \u001b[0mget_ipython\u001b[0m\u001b[0;34m(\u001b[0m\u001b[0;34m)\u001b[0m\u001b[0;34m.\u001b[0m\u001b[0mrun_line_magic\u001b[0m\u001b[0;34m(\u001b[0m\u001b[0;34m'time'\u001b[0m\u001b[0;34m,\u001b[0m \u001b[0;34m'workerIds,partition,clusterGraph,clusterIds=assignWorkers(F,nbWorkers)'\u001b[0m\u001b[0;34m)\u001b[0m\u001b[0;34m\u001b[0m\u001b[0;34m\u001b[0m\u001b[0m\n\u001b[0;32m----> 2\u001b[0;31m \u001b[0mprint\u001b[0m\u001b[0;34m(\u001b[0m\u001b[0mworkerIds\u001b[0m\u001b[0;34m)\u001b[0m\u001b[0;34m\u001b[0m\u001b[0;34m\u001b[0m\u001b[0m\n\u001b[0m",
      "\u001b[0;31mNameError\u001b[0m: name 'workerIds' is not defined"
     ]
    },
    {
     "data": {
      "image/png": "[encoded data removed]",
      "text/plain": [
       "<Figure size 432x288 with 3 Axes>"
      ]
     },
     "metadata": {
      "needs_background": "light"
     },
     "output_type": "display_data"
    },
    {
     "data": {
      "image/png": "[encoded data removed]",
      "text/plain": [
       "<Figure size 432x288 with 3 Axes>"
      ]
     },
     "metadata": {
      "needs_background": "light"
     },
     "output_type": "display_data"
    },
    {
     "data": {
      "image/png": "[encoded data removed]",
      "text/plain": [
       "<Figure size 432x288 with 3 Axes>"
      ]
     },
     "metadata": {
      "needs_background": "light"
     },
     "output_type": "display_data"
    },
    {
     "data": {
      "image/png": "[encoded data removed]",
      "text/plain": [
       "<Figure size 432x288 with 3 Axes>"
      ]
     },
     "metadata": {
      "needs_background": "light"
     },
     "output_type": "display_data"
    },
    {
     "data": {
      "image/png": "[encoded data removed]",
      "text/plain": [
       "<Figure size 432x288 with 3 Axes>"
      ]
     },
     "metadata": {
      "needs_background": "light"
     },
     "output_type": "display_data"
    },
    {
     "data": {
      "image/png": "[encoded data removed]",
      "text/plain": [
       "<Figure size 432x288 with 3 Axes>"
      ]
     },
     "metadata": {
      "needs_background": "light"
     },
     "output_type": "display_data"
    },
    {
     "data": {
      "image/png": "[encoded data removed]",
      "text/plain": [
       "<Figure size 432x288 with 3 Axes>"
      ]
     },
     "metadata": {
      "needs_background": "light"
     },
     "output_type": "display_data"
    },
    {
     "data": {
      "image/png": "[encoded data removed]",
      "text/plain": [
       "<Figure size 432x288 with 3 Axes>"
      ]
     },
     "metadata": {
      "needs_background": "light"
     },
     "output_type": "display_data"
    },
    {
     "data": {
      "image/png": "[encoded data removed]",
      "text/plain": [
       "<Figure size 432x288 with 3 Axes>"
      ]
     },
     "metadata": {
      "needs_background": "light"
     },
     "output_type": "display_data"
    },
    {
     "data": {
      "image/png": "[encoded data removed]",
      "text/plain": [
       "<Figure size 432x288 with 3 Axes>"
      ]
     },
     "metadata": {
      "needs_background": "light"
     },
     "output_type": "display_data"
    },
    {
     "data": {
      "image/png": "[encoded data removed]",
      "text/plain": [
       "<Figure size 432x288 with 3 Axes>"
      ]
     },
     "metadata": {
      "needs_background": "light"
     },
     "output_type": "display_data"
    },
    {
     "data": {
      "image/png": "[encoded data removed]",
      "text/plain": [
       "<Figure size 432x288 with 3 Axes>"
      ]
     },
     "metadata": {
      "needs_background": "light"
     },
     "output_type": "display_data"
    },
    {
     "data": {
      "image/png": "[encoded data removed]",
      "text/plain": [
       "<Figure size 432x288 with 3 Axes>"
      ]
     },
     "metadata": {
      "needs_background": "light"
     },
     "output_type": "display_data"
    },
    {
     "data": {
      "image/png": "[encoded data removed]",
      "text/plain": [
       "<Figure size 432x288 with 3 Axes>"
      ]
     },
     "metadata": {
      "needs_background": "light"
     },
     "output_type": "display_data"
    },
    {
     "data": {
      "image/png": "[encoded data removed]",
      "text/plain": [
       "<Figure size 432x288 with 3 Axes>"
      ]
     },
     "metadata": {
      "needs_background": "light"
     },
     "output_type": "display_data"
    },
    {
     "data": {
      "image/png": "[encoded data removed]",
      "text/plain": [
       "<Figure size 432x288 with 3 Axes>"
      ]
     },
     "metadata": {
      "needs_background": "light"
     },
     "output_type": "display_data"
    },
    {
     "data": {
      "image/png": "[encoded data removed]",
      "text/plain": [
       "<Figure size 432x288 with 3 Axes>"
      ]
     },
     "metadata": {
      "needs_background": "light"
     },
     "output_type": "display_data"
    },
    {
     "data": {
      "image/png": "[encoded data removed]",
      "text/plain": [
       "<Figure size 432x288 with 3 Axes>"
      ]
     },
     "metadata": {
      "needs_background": "light"
     },
     "output_type": "display_data"
    },
    {
     "data": {
      "image/png": "[encoded data removed]",
      "text/plain": [
       "<Figure size 432x288 with 3 Axes>"
      ]
     },
     "metadata": {
      "needs_background": "light"
     },
     "output_type": "display_data"
    },
    {
     "data": {
      "image/png": "[encoded data removed]",
      "text/plain": [
       "<Figure size 432x288 with 3 Axes>"
      ]
     },
     "metadata": {
      "needs_background": "light"
     },
     "output_type": "display_data"
    },
    {
     "data": {
      "image/png": "[encoded data removed]",
      "text/plain": [
       "<Figure size 432x288 with 3 Axes>"
      ]
     },
     "metadata": {
      "needs_background": "light"
     },
     "output_type": "display_data"
    },
    {
     "data": {
      "image/png": "[encoded data removed]",
      "text/plain": [
       "<Figure size 432x288 with 3 Axes>"
      ]
     },
     "metadata": {
      "needs_background": "light"
     },
     "output_type": "display_data"
    },
    {
     "data": {
      "image/png": "[encoded data removed]",
      "text/plain": [
       "<Figure size 432x288 with 3 Axes>"
      ]
     },
     "metadata": {
      "needs_background": "light"
     },
     "output_type": "display_data"
    },
    {
     "data": {
      "image/png": "[encoded data removed]",
      "text/plain": [
       "<Figure size 432x288 with 3 Axes>"
      ]
     },
     "metadata": {
      "needs_background": "light"
     },
     "output_type": "display_data"
    },
    {
     "data": {
      "image/png": "[encoded data removed]",
      "text/plain": [
       "<Figure size 432x288 with 3 Axes>"
      ]
     },
     "metadata": {
      "needs_background": "light"
     },
     "output_type": "display_data"
    },
    {
     "data": {
      "image/png": "[encoded data removed]",
      "text/plain": [
       "<Figure size 432x288 with 3 Axes>"
      ]
     },
     "metadata": {
      "needs_background": "light"
     },
     "output_type": "display_data"
    },
    {
     "data": {
      "image/png": "[encoded data removed]",
      "text/plain": [
       "<Figure size 432x288 with 3 Axes>"
      ]
     },
     "metadata": {
      "needs_background": "light"
     },
     "output_type": "display_data"
    },
    {
     "data": {
      "image/png": "[encoded data removed]",
      "text/plain": [
       "<Figure size 432x288 with 3 Axes>"
      ]
     },
     "metadata": {
      "needs_background": "light"
     },
     "output_type": "display_data"
    },
    {
     "data": {
      "image/png": "[encoded data removed]",
      "text/plain": [
       "<Figure size 432x288 with 3 Axes>"
      ]
     },
     "metadata": {
      "needs_background": "light"
     },
     "output_type": "display_data"
    },
    {
     "data": {
      "image/png": "[encoded data removed]",
      "text/plain": [
       "<Figure size 432x288 with 3 Axes>"
      ]
     },
     "metadata": {
      "needs_background": "light"
     },
     "output_type": "display_data"
    },
    {
     "data": {
      "image/png": "[encoded data removed]",
      "text/plain": [
       "<Figure size 432x288 with 3 Axes>"
      ]
     },
     "metadata": {
      "needs_background": "light"
     },
     "output_type": "display_data"
    },
    {
     "data": {
      "image/png": "[encoded data removed]",
      "text/plain": [
       "<Figure size 432x288 with 3 Axes>"
      ]
     },
     "metadata": {
      "needs_background": "light"
     },
     "output_type": "display_data"
    },
    {
     "data": {
      "image/png": "[encoded data removed]",
      "text/plain": [
       "<Figure size 432x288 with 3 Axes>"
      ]
     },
     "metadata": {
      "needs_background": "light"
     },
     "output_type": "display_data"
    },
    {
     "data": {
      "image/png": "[encoded data removed]",
      "text/plain": [
       "<Figure size 432x288 with 3 Axes>"
      ]
     },
     "metadata": {
      "needs_background": "light"
     },
     "output_type": "display_data"
    },
    {
     "data": {
      "image/png": "[encoded data removed]",
      "text/plain": [
       "<Figure size 432x288 with 3 Axes>"
      ]
     },
     "metadata": {
      "needs_background": "light"
     },
     "output_type": "display_data"
    },
    {
     "data": {
      "image/png": "[encoded data removed]",
      "text/plain": [
       "<Figure size 432x288 with 3 Axes>"
      ]
     },
     "metadata": {
      "needs_background": "light"
     },
     "output_type": "display_data"
    },
    {
     "data": {
      "image/png": "[encoded data removed]",
      "text/plain": [
       "<Figure size 432x288 with 3 Axes>"
      ]
     },
     "metadata": {
      "needs_background": "light"
     },
     "output_type": "display_data"
    },
    {
     "data": {
      "image/png": "[encoded data removed]",
      "text/plain": [
       "<Figure size 432x288 with 3 Axes>"
      ]
     },
     "metadata": {
      "needs_background": "light"
     },
     "output_type": "display_data"
    }
   ],
   "source": [
    "%time workerIds,partition,clusterGraph,clusterIds=assignWorkers(F,nbWorkers)\n",
    "print(workerIds)"
   ]
  },
  {
   "cell_type": "markdown",
   "metadata": {},
   "source": [
    "### What if we distantiated workers based on the whole graph (as if one unique community)"
   ]
  },
  {
   "cell_type": "markdown",
   "metadata": {},
   "source": [
    "%time workerIds=F.vs[maxShortestPathNodesSelection(F,nbWorkers)][\"name\"]"
   ]
  },
  {
   "cell_type": "markdown",
   "metadata": {},
   "source": [
    "## Plot"
   ]
  },
  {
   "cell_type": "code",
   "execution_count": null,
   "metadata": {
    "scrolled": true
   },
   "outputs": [],
   "source": [
    "for idx, cluster in enumerate(clusterGraph.vs):\n",
    "    if cluster.index in clusterIds:\n",
    "        cluster[\"size\"]=50\n",
    "    cluster[\"color\"]=partition.subgraph(idx).vs[0][\"color\"]\n",
    "    cluster[\"label\"]=\"{}({})\".format(idx,cluster[\"nb_workers\"])\n",
    "ig.plot(clusterGraph)"
   ]
  },
  {
   "cell_type": "code",
   "execution_count": null,
   "metadata": {},
   "outputs": [],
   "source": [
    "for v in F.vs:\n",
    "    if v[\"name\"] in workerIds:\n",
    "        v[\"size\"]=25\n",
    "        v[\"shape\"]=\"triangle\"\n",
    "    else:\n",
    "        v[\"size\"]=1\n",
    "        v[\"shape\"]=\"circle\""
   ]
  },
  {
   "cell_type": "code",
   "execution_count": null,
   "metadata": {
    "scrolled": false
   },
   "outputs": [],
   "source": [
    "G=F.to_graph_tool(vertex_attributes={\"color\":\"vector<float>\",\"size\":\"int\",\"shape\":\"string\"},edge_attributes={\"color\":\"vector<float>\"})\n",
    "gt.graph_draw(G, vertex_fill_color=G.vertex_properties[\"color\"],vertex_shape=G.vertex_properties[\"shape\"],vertex_size=G.vertex_properties[\"size\"],edge_color=G.edge_properties[\"color\"])"
   ]
  },
  {
   "cell_type": "markdown",
   "metadata": {},
   "source": [
    "## Evaluate"
   ]
  },
  {
   "cell_type": "code",
   "execution_count": null,
   "metadata": {},
   "outputs": [],
   "source": [
    "#Given a list of nodes, give distances between nodes\n",
    "def calcDistBtwnNodes(graph,chosenNodeNames):\n",
    "    return graph.shortest_paths_dijkstra(source=chosenNodeNames, target=chosenNodeNames)"
   ]
  },
  {
   "cell_type": "code",
   "execution_count": null,
   "metadata": {},
   "outputs": [],
   "source": [
    "matPCC=calcDistBtwnNodes(F,workerIds)\n",
    "PCCList=[]\n",
    "for sublist in matPCC:\n",
    "    PCCList.extend(sublist)\n",
    "maxDist=max(PCCList)\n",
    "PCCSelf=[]\n",
    "PCCSameCluster=[]\n",
    "PCCOtherCluster=[]\n",
    "\n",
    "for i, dists in enumerate(matPCC):\n",
    "    source=F.vs.find(workerIds[i])\n",
    "    for j in range(i+1):\n",
    "        target=F.vs.find(workerIds[j])\n",
    "        #print(source,target)\n",
    "        if source[\"name\"]==target[\"name\"]:\n",
    "            PCCSelf.append(matPCC[i][j])\n",
    "        elif source[\"cluster\"]==target[\"cluster\"]:\n",
    "            PCCSameCluster.append(matPCC[i][j])\n",
    "        else:\n",
    "            PCCOtherCluster.append(matPCC[i][j])"
   ]
  },
  {
   "cell_type": "code",
   "execution_count": null,
   "metadata": {},
   "outputs": [],
   "source": [
    "import numpy as np\n",
    "from matplotlib import pyplot as plt\n",
    "\n",
    "data=[PCCSelf,PCCSameCluster,PCCOtherCluster]\n",
    "colors=[\"grey\",\"red\",\"blue\"]\n",
    "labels=[\"self\",\"same community\",\"other community\"]\n",
    "# fixed bin size\n",
    "bins = np.arange(0, 100, 1) # fixed bin size\n",
    "\n",
    "plt.xlim([0, maxDist+1])\n",
    "plt.yscale(\"log\")\n",
    "plt.hist(data, bins=bins, color=colors, label=labels, stacked=True)\n",
    "plt.title('Shortest path lengths between workers')\n",
    "plt.xlabel('Shortest path length')\n",
    "plt.ylabel('Count of workers')\n",
    "\n",
    "plt.show()"
   ]
  },
  {
   "cell_type": "code",
   "execution_count": null,
   "metadata": {},
   "outputs": [],
   "source": [
    "from collections import Counter\n",
    "print(\"Same\",Counter(PCCSameCluster))\n",
    "print(\"Other\",Counter(PCCOtherCluster))"
   ]
  },
  {
   "cell_type": "raw",
   "metadata": {},
   "source": [
    "https://towardsdatascience.com/histograms-and-density-plots-in-python-f6bda88f5ac0\n",
    "Stacked bars to see same and different community node distances\n",
    "\n",
    "https://www.w3resource.com/graphics/matplotlib/barchart/matplotlib-barchart-exercise-16.php\n",
    "to annotate values on stacked bars"
   ]
  },
  {
   "cell_type": "code",
   "execution_count": null,
   "metadata": {},
   "outputs": [],
   "source": [
    "#the greater the value, the better\n",
    "print(sum(PCCList))"
   ]
  },
  {
   "cell_type": "markdown",
   "metadata": {},
   "source": [
    "## Graph Metrics"
   ]
  },
  {
   "cell_type": "markdown",
   "metadata": {},
   "source": [
    "### Max distance between nodes (graph diameter)"
   ]
  },
  {
   "cell_type": "code",
   "execution_count": null,
   "metadata": {},
   "outputs": [],
   "source": [
    "print(F.diameter())"
   ]
  },
  {
   "cell_type": "markdown",
   "metadata": {},
   "source": [
    "### Distances inter-nodes intra-clusters (cluster diameters)"
   ]
  },
  {
   "cell_type": "code",
   "execution_count": null,
   "metadata": {},
   "outputs": [],
   "source": [
    "subgraphs=partition.subgraphs()\n",
    "diameters=list([subgraph.diameter() for subgraph in subgraphs])\n",
    "plt.plot(diameters)"
   ]
  },
  {
   "cell_type": "code",
   "execution_count": null,
   "metadata": {},
   "outputs": [],
   "source": [
    "radii=list([subgraph.radius() for subgraph in subgraphs])\n",
    "plt.plot(radii)"
   ]
  },
  {
   "cell_type": "code",
   "execution_count": null,
   "metadata": {},
   "outputs": [],
   "source": [
    "eccentricities=list([subgraph.eccentricity() for subgraph in subgraphs])\n",
    "print(eccentricities)"
   ]
  },
  {
   "cell_type": "markdown",
   "metadata": {},
   "source": [
    "### Nodes per community"
   ]
  },
  {
   "cell_type": "code",
   "execution_count": null,
   "metadata": {},
   "outputs": [],
   "source": [
    "from collections import Counter\n",
    "nbClusters=len(Counter(F.vs[\"cluster\"]))"
   ]
  },
  {
   "cell_type": "code",
   "execution_count": null,
   "metadata": {},
   "outputs": [],
   "source": [
    "bins = np.arange(0, nbClusters+1, 1)\n",
    "plt.hist(F.vs[\"cluster\"], bins=bins)\n",
    "plt.title('Number of nodes in communities')\n",
    "plt.xlabel('Community')\n",
    "plt.ylabel('Count of nodes')\n",
    "\n",
    "plt.show()"
   ]
  },
  {
   "cell_type": "markdown",
   "metadata": {},
   "source": [
    "### Workers per cluster"
   ]
  },
  {
   "cell_type": "code",
   "execution_count": null,
   "metadata": {
    "scrolled": false
   },
   "outputs": [],
   "source": [
    "data=[F.vs.find(worker)[\"cluster\"] for worker in workerIds]\n",
    "bins = np.arange(0, nbClusters+1, 1)\n",
    "plt.hist(data, bins=bins)\n",
    "plt.title('Number of workers in communities')\n",
    "plt.xlabel('Community')\n",
    "plt.ylabel('Count of workers')\n",
    "\n",
    "plt.show()"
   ]
  },
  {
   "cell_type": "markdown",
   "metadata": {},
   "source": [
    "### Cluster diameter based worker count"
   ]
  },
  {
   "cell_type": "code",
   "execution_count": null,
   "metadata": {},
   "outputs": [],
   "source": [
    "diameters=[subgraph.diameter() for subgraph in partition.subgraphs()]\n",
    "\n",
    "workers=[diameter//2+diameter%2 for diameter in diameters]\n",
    "assignedWorkers=sum(workers)\n",
    "print(assignedWorkers)"
   ]
  },
  {
   "cell_type": "code",
   "execution_count": null,
   "metadata": {},
   "outputs": [],
   "source": [
    "import scipy\n",
    "import pylab\n",
    "import scipy.cluster.hierarchy as sch\n",
    "\n",
    "# Generate features and distance matrix.\n",
    "D = scipy.zeros([len(matPCC),len(matPCC)])\n",
    "for i in range(40):\n",
    "    for j in range(40):\n",
    "        D[i,j] = matPCC[i][j]\n",
    "\n",
    "# Compute and plot dendrogram.\n",
    "fig = pylab.figure()\n",
    "axdendro = fig.add_axes([0.09,0.1,0.2,0.8])\n",
    "Y = sch.linkage(D, method='centroid')\n",
    "Z = sch.dendrogram(Y, orientation='right')\n",
    "axdendro.set_xticks([])\n",
    "axdendro.set_yticks([])\n",
    "\n",
    "# Plot distance matrix.\n",
    "axmatrix = fig.add_axes([0.3,0.1,0.6,0.8])\n",
    "index = Z['leaves']\n",
    "D = D[index,:]\n",
    "D = D[:,index]\n",
    "im = axmatrix.matshow(D, aspect='auto', origin='lower')\n",
    "axmatrix.set_xticks([])\n",
    "axmatrix.set_yticks([])\n",
    "\n",
    "# Plot colorbar.\n",
    "axcolor = fig.add_axes([0.91,0.1,0.02,0.8])\n",
    "pylab.colorbar(im, cax=axcolor)\n",
    "\n",
    "# Display and save figure.\n",
    "fig.show()\n",
    "fig.savefig('dendrogram.png')\n",
    "\n",
    "#Dendrogram and distance matrix"
   ]
  },
  {
   "cell_type": "code",
   "execution_count": null,
   "metadata": {},
   "outputs": [],
   "source": []
  }
 ],
 "metadata": {
  "kernelspec": {
   "display_name": "Python 3",
   "language": "python",
   "name": "python3"
  },
  "language_info": {
   "codemirror_mode": {
    "name": "ipython",
    "version": 3
   },
   "file_extension": ".py",
   "mimetype": "text/x-python",
   "name": "python",
   "nbconvert_exporter": "python",
   "pygments_lexer": "ipython3",
   "version": "3.9.1"
  }
 },
 "nbformat": 4,
 "nbformat_minor": 4
}
