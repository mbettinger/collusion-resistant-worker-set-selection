{
 "cells": [
  {
   "cell_type": "code",
   "execution_count": 9,
   "metadata": {},
   "outputs": [],
   "source": [
    "import fnmatch, re, os\n",
    "import json\n",
    "\n",
    "def parametrizedFileSelection(fileDirectory, fileArguments):\n",
    "    files = []\n",
    "    for file in os.listdir(fileDirectory):\n",
    "        for key in fileArguments:\n",
    "            match = False\n",
    "            for value in fileArguments[key]:\n",
    "                expression = key + \"=\" + str(value)\n",
    "                if expression in file:\n",
    "                    match = True\n",
    "            if match == False:\n",
    "                break\n",
    "    \n",
    "        if match == True:\n",
    "            files.append(file)\n",
    "        \n",
    "    return files\n"
   ]
  },
  {
   "cell_type": "code",
   "execution_count": 15,
   "metadata": {},
   "outputs": [
    {
     "name": "stdout",
     "output_type": "stream",
     "text": [
      "['filename=facebook_combined,nWorkers=10,voterSeed=0,comDet=community_multilevel,assignment=generateArrangementNumber,withBoundary=False,distType=close,minDist=1_0.json', 'filename=facebook_combined,nWorkers=10,voterSeed=0,comDet=community_multilevel,assignment=generateArrangementNumber,withBoundary=False,distType=close,minDist=2_100.json', 'filename=facebook_combined,nWorkers=10,voterSeed=0,comDet=community_multilevel,assignment=generateArrangementNumber,withBoundary=False,distType=close,minDist=3_200.json', 'filename=facebook_combined,nWorkers=10,voterSeed=0,comDet=community_multilevel,assignment=generateArrangementNumber,withBoundary=False,distType=close,minDist=4_300.json', 'filename=facebook_combined,nWorkers=10,voterSeed=0,comDet=community_multilevel,assignment=generateArrangementNumber,withBoundary=False,distType=far,minDist=4_400.json', 'filename=facebook_combined,nWorkers=10,voterSeed=0,comDet=community_multilevel,assignment=generateArrangementNumber,withBoundary=False,distType=far,minDist=5_401.json', 'filename=facebook_combined,nWorkers=10,voterSeed=0,comDet=community_multilevel,assignment=generateArrangementNumber,withBoundary=False,distType=far,minDist=6_402.json', 'filename=facebook_combined,nWorkers=10,voterSeed=0,comDet=community_multilevel,assignment=generateArrangementNumber,withBoundary=False,distType=far,minDist=7_403.json', 'filename=facebook_combined,nWorkers=10,voterSeed=0,comDet=community_multilevel,assignment=generateArrangementNumber,withBoundary=False,distType=far,minDist=8_404.json', 'filename=facebook_combined,nWorkers=10,voterSeed=1,comDet=community_multilevel,assignment=generateArrangementNumber,withBoundary=False,distType=close,minDist=1_10.json', 'filename=facebook_combined,nWorkers=10,voterSeed=1,comDet=community_multilevel,assignment=generateArrangementNumber,withBoundary=False,distType=close,minDist=2_110.json', 'filename=facebook_combined,nWorkers=10,voterSeed=1,comDet=community_multilevel,assignment=generateArrangementNumber,withBoundary=False,distType=close,minDist=3_210.json', 'filename=facebook_combined,nWorkers=10,voterSeed=1,comDet=community_multilevel,assignment=generateArrangementNumber,withBoundary=False,distType=close,minDist=4_310.json', 'filename=facebook_combined,nWorkers=10,voterSeed=1,comDet=community_multilevel,assignment=generateArrangementNumber,withBoundary=False,distType=far,minDist=4_450.json', 'filename=facebook_combined,nWorkers=10,voterSeed=1,comDet=community_multilevel,assignment=generateArrangementNumber,withBoundary=False,distType=far,minDist=5_451.json', 'filename=facebook_combined,nWorkers=10,voterSeed=1,comDet=community_multilevel,assignment=generateArrangementNumber,withBoundary=False,distType=far,minDist=6_452.json', 'filename=facebook_combined,nWorkers=10,voterSeed=1,comDet=community_multilevel,assignment=generateArrangementNumber,withBoundary=False,distType=far,minDist=7_453.json', 'filename=facebook_combined,nWorkers=10,voterSeed=1,comDet=community_multilevel,assignment=generateArrangementNumber,withBoundary=False,distType=far,minDist=8_454.json', 'filename=facebook_combined,nWorkers=10,voterSeed=2,comDet=community_multilevel,assignment=generateArrangementNumber,withBoundary=False,distType=close,minDist=1_20.json', 'filename=facebook_combined,nWorkers=10,voterSeed=2,comDet=community_multilevel,assignment=generateArrangementNumber,withBoundary=False,distType=close,minDist=2_120.json', 'filename=facebook_combined,nWorkers=10,voterSeed=2,comDet=community_multilevel,assignment=generateArrangementNumber,withBoundary=False,distType=close,minDist=3_220.json', 'filename=facebook_combined,nWorkers=10,voterSeed=2,comDet=community_multilevel,assignment=generateArrangementNumber,withBoundary=False,distType=close,minDist=4_320.json', 'filename=facebook_combined,nWorkers=10,voterSeed=2,comDet=community_multilevel,assignment=generateArrangementNumber,withBoundary=False,distType=far,minDist=4_500.json', 'filename=facebook_combined,nWorkers=10,voterSeed=2,comDet=community_multilevel,assignment=generateArrangementNumber,withBoundary=False,distType=far,minDist=5_501.json', 'filename=facebook_combined,nWorkers=10,voterSeed=2,comDet=community_multilevel,assignment=generateArrangementNumber,withBoundary=False,distType=far,minDist=6_502.json', 'filename=facebook_combined,nWorkers=10,voterSeed=2,comDet=community_multilevel,assignment=generateArrangementNumber,withBoundary=False,distType=far,minDist=7_503.json', 'filename=facebook_combined,nWorkers=10,voterSeed=2,comDet=community_multilevel,assignment=generateArrangementNumber,withBoundary=False,distType=far,minDist=8_504.json', 'filename=facebook_combined,nWorkers=10,voterSeed=3,comDet=community_multilevel,assignment=generateArrangementNumber,withBoundary=False,distType=close,minDist=1_30.json', 'filename=facebook_combined,nWorkers=10,voterSeed=3,comDet=community_multilevel,assignment=generateArrangementNumber,withBoundary=False,distType=close,minDist=2_130.json', 'filename=facebook_combined,nWorkers=10,voterSeed=3,comDet=community_multilevel,assignment=generateArrangementNumber,withBoundary=False,distType=close,minDist=3_230.json', 'filename=facebook_combined,nWorkers=10,voterSeed=3,comDet=community_multilevel,assignment=generateArrangementNumber,withBoundary=False,distType=close,minDist=4_330.json', 'filename=facebook_combined,nWorkers=10,voterSeed=3,comDet=community_multilevel,assignment=generateArrangementNumber,withBoundary=False,distType=far,minDist=4_550.json', 'filename=facebook_combined,nWorkers=10,voterSeed=3,comDet=community_multilevel,assignment=generateArrangementNumber,withBoundary=False,distType=far,minDist=5_551.json', 'filename=facebook_combined,nWorkers=10,voterSeed=3,comDet=community_multilevel,assignment=generateArrangementNumber,withBoundary=False,distType=far,minDist=6_552.json', 'filename=facebook_combined,nWorkers=10,voterSeed=3,comDet=community_multilevel,assignment=generateArrangementNumber,withBoundary=False,distType=far,minDist=7_553.json', 'filename=facebook_combined,nWorkers=10,voterSeed=3,comDet=community_multilevel,assignment=generateArrangementNumber,withBoundary=False,distType=far,minDist=8_554.json', 'filename=facebook_combined,nWorkers=10,voterSeed=4,comDet=community_multilevel,assignment=generateArrangementNumber,withBoundary=False,distType=close,minDist=1_40.json', 'filename=facebook_combined,nWorkers=10,voterSeed=4,comDet=community_multilevel,assignment=generateArrangementNumber,withBoundary=False,distType=close,minDist=2_140.json', 'filename=facebook_combined,nWorkers=10,voterSeed=4,comDet=community_multilevel,assignment=generateArrangementNumber,withBoundary=False,distType=close,minDist=3_240.json', 'filename=facebook_combined,nWorkers=10,voterSeed=4,comDet=community_multilevel,assignment=generateArrangementNumber,withBoundary=False,distType=close,minDist=4_340.json', 'filename=facebook_combined,nWorkers=10,voterSeed=4,comDet=community_multilevel,assignment=generateArrangementNumber,withBoundary=False,distType=far,minDist=4_600.json', 'filename=facebook_combined,nWorkers=10,voterSeed=4,comDet=community_multilevel,assignment=generateArrangementNumber,withBoundary=False,distType=far,minDist=5_601.json', 'filename=facebook_combined,nWorkers=10,voterSeed=4,comDet=community_multilevel,assignment=generateArrangementNumber,withBoundary=False,distType=far,minDist=6_602.json', 'filename=facebook_combined,nWorkers=10,voterSeed=4,comDet=community_multilevel,assignment=generateArrangementNumber,withBoundary=False,distType=far,minDist=7_603.json', 'filename=facebook_combined,nWorkers=10,voterSeed=4,comDet=community_multilevel,assignment=generateArrangementNumber,withBoundary=False,distType=far,minDist=8_604.json', 'filename=facebook_combined,nWorkers=10,voterSeed=5,comDet=community_multilevel,assignment=generateArrangementNumber,withBoundary=False,distType=close,minDist=1_50.json', 'filename=facebook_combined,nWorkers=10,voterSeed=5,comDet=community_multilevel,assignment=generateArrangementNumber,withBoundary=False,distType=close,minDist=2_150.json', 'filename=facebook_combined,nWorkers=10,voterSeed=5,comDet=community_multilevel,assignment=generateArrangementNumber,withBoundary=False,distType=close,minDist=3_250.json', 'filename=facebook_combined,nWorkers=10,voterSeed=5,comDet=community_multilevel,assignment=generateArrangementNumber,withBoundary=False,distType=close,minDist=4_350.json', 'filename=facebook_combined,nWorkers=10,voterSeed=5,comDet=community_multilevel,assignment=generateArrangementNumber,withBoundary=False,distType=far,minDist=4_650.json', 'filename=facebook_combined,nWorkers=10,voterSeed=5,comDet=community_multilevel,assignment=generateArrangementNumber,withBoundary=False,distType=far,minDist=5_651.json', 'filename=facebook_combined,nWorkers=10,voterSeed=5,comDet=community_multilevel,assignment=generateArrangementNumber,withBoundary=False,distType=far,minDist=6_652.json', 'filename=facebook_combined,nWorkers=10,voterSeed=5,comDet=community_multilevel,assignment=generateArrangementNumber,withBoundary=False,distType=far,minDist=7_653.json', 'filename=facebook_combined,nWorkers=10,voterSeed=5,comDet=community_multilevel,assignment=generateArrangementNumber,withBoundary=False,distType=far,minDist=8_654.json', 'filename=facebook_combined,nWorkers=10,voterSeed=6,comDet=community_multilevel,assignment=generateArrangementNumber,withBoundary=False,distType=close,minDist=1_60.json', 'filename=facebook_combined,nWorkers=10,voterSeed=6,comDet=community_multilevel,assignment=generateArrangementNumber,withBoundary=False,distType=close,minDist=2_160.json', 'filename=facebook_combined,nWorkers=10,voterSeed=6,comDet=community_multilevel,assignment=generateArrangementNumber,withBoundary=False,distType=close,minDist=3_260.json', 'filename=facebook_combined,nWorkers=10,voterSeed=6,comDet=community_multilevel,assignment=generateArrangementNumber,withBoundary=False,distType=close,minDist=4_360.json', 'filename=facebook_combined,nWorkers=10,voterSeed=6,comDet=community_multilevel,assignment=generateArrangementNumber,withBoundary=False,distType=far,minDist=4_700.json', 'filename=facebook_combined,nWorkers=10,voterSeed=6,comDet=community_multilevel,assignment=generateArrangementNumber,withBoundary=False,distType=far,minDist=5_701.json', 'filename=facebook_combined,nWorkers=10,voterSeed=6,comDet=community_multilevel,assignment=generateArrangementNumber,withBoundary=False,distType=far,minDist=6_702.json', 'filename=facebook_combined,nWorkers=10,voterSeed=6,comDet=community_multilevel,assignment=generateArrangementNumber,withBoundary=False,distType=far,minDist=7_703.json', 'filename=facebook_combined,nWorkers=10,voterSeed=6,comDet=community_multilevel,assignment=generateArrangementNumber,withBoundary=False,distType=far,minDist=8_704.json', 'filename=facebook_combined,nWorkers=10,voterSeed=7,comDet=community_multilevel,assignment=generateArrangementNumber,withBoundary=False,distType=close,minDist=1_70.json', 'filename=facebook_combined,nWorkers=10,voterSeed=7,comDet=community_multilevel,assignment=generateArrangementNumber,withBoundary=False,distType=close,minDist=2_170.json', 'filename=facebook_combined,nWorkers=10,voterSeed=7,comDet=community_multilevel,assignment=generateArrangementNumber,withBoundary=False,distType=close,minDist=3_270.json', 'filename=facebook_combined,nWorkers=10,voterSeed=7,comDet=community_multilevel,assignment=generateArrangementNumber,withBoundary=False,distType=close,minDist=4_370.json', 'filename=facebook_combined,nWorkers=10,voterSeed=8,comDet=community_multilevel,assignment=generateArrangementNumber,withBoundary=False,distType=close,minDist=1_80.json', 'filename=facebook_combined,nWorkers=10,voterSeed=8,comDet=community_multilevel,assignment=generateArrangementNumber,withBoundary=False,distType=close,minDist=2_180.json', 'filename=facebook_combined,nWorkers=10,voterSeed=8,comDet=community_multilevel,assignment=generateArrangementNumber,withBoundary=False,distType=close,minDist=3_280.json', 'filename=facebook_combined,nWorkers=10,voterSeed=8,comDet=community_multilevel,assignment=generateArrangementNumber,withBoundary=False,distType=close,minDist=4_380.json', 'filename=facebook_combined,nWorkers=10,voterSeed=9,comDet=community_multilevel,assignment=generateArrangementNumber,withBoundary=False,distType=close,minDist=1_90.json', 'filename=facebook_combined,nWorkers=10,voterSeed=9,comDet=community_multilevel,assignment=generateArrangementNumber,withBoundary=False,distType=close,minDist=2_190.json', 'filename=facebook_combined,nWorkers=10,voterSeed=9,comDet=community_multilevel,assignment=generateArrangementNumber,withBoundary=False,distType=close,minDist=3_290.json', 'filename=facebook_combined,nWorkers=10,voterSeed=9,comDet=community_multilevel,assignment=generateArrangementNumber,withBoundary=False,distType=close,minDist=4_390.json']\n",
      "['V1286', 'V3844', 'V3390', 'V1338', 'V1516', 'V2986', 'V3459', 'V2692', 'V3883', 'V3952']\n",
      "['V1286', 'V3844', 'V3390', 'V1338', 'V1516', 'V2986', 'V3459', 'V2692', 'V3883', 'V3952']\n",
      "['V1286', 'V3844', 'V3390', 'V1338', 'V1516', 'V2986', 'V3459', 'V2692', 'V3883', 'V3952']\n",
      "['V1286', 'V3844', 'V3390', 'V1338', 'V1516', 'V2986', 'V3459', 'V2692', 'V3883', 'V3952']\n",
      "['V1286', 'V3844', 'V3390', 'V1338', 'V1516', 'V2986', 'V3459', 'V2692', 'V3883', 'V3952']\n",
      "['V1286', 'V3844', 'V3390', 'V1338', 'V1516', 'V2986', 'V3459', 'V2692', 'V3883', 'V3952']\n"
     ]
    },
    {
     "name": "stdout",
     "output_type": "stream",
     "text": [
      "['V1286', 'V3844', 'V3390', 'V1338', 'V1516', 'V2986', 'V3459', 'V2692', 'V3883', 'V3952']\n",
      "['V1286', 'V3844', 'V3390', 'V1338', 'V1516', 'V2986', 'V3459', 'V2692', 'V3883', 'V3952']\n",
      "['V1286', 'V3844', 'V3390', 'V1338', 'V1516', 'V2986', 'V3459', 'V2692', 'V3883', 'V3952']\n",
      "['V1713', 'V448', 'V1419', 'V446', 'V2509', 'V3971', 'V863', 'V3147', 'V3350', 'V3520']\n",
      "['V1713', 'V448', 'V1419', 'V446', 'V2509', 'V3971', 'V863', 'V3147', 'V3350', 'V3520']\n",
      "['V1713', 'V448', 'V1419', 'V446', 'V2509', 'V3971', 'V863', 'V3147', 'V3350', 'V3520']\n",
      "['V1713', 'V448', 'V1419', 'V446', 'V2509', 'V3971', 'V863', 'V3147', 'V3350', 'V3520']\n",
      "['V1713', 'V448', 'V1419', 'V446', 'V2509', 'V3971', 'V863', 'V3147', 'V3350', 'V3520']\n",
      "['V1713', 'V448', 'V1419', 'V446', 'V2509', 'V3971', 'V863', 'V3147', 'V3350', 'V3520']\n",
      "['V1713', 'V448', 'V1419', 'V446', 'V2509', 'V3971', 'V863', 'V3147', 'V3350', 'V3520']\n",
      "['V1713', 'V448', 'V1419', 'V446', 'V2509', 'V3971', 'V863', 'V3147', 'V3350', 'V3520']\n",
      "['V1713', 'V448', 'V1419', 'V446', 'V2509', 'V3971', 'V863', 'V3147', 'V3350', 'V3520']\n",
      "['V693', 'V2107', 'V3672', 'V3995', 'V3157', 'V3367', 'V2021', 'V2709', 'V1089', 'V804']\n",
      "['V693', 'V2107', 'V3672', 'V3995', 'V3157', 'V3367', 'V2021', 'V2709', 'V1089', 'V804']\n",
      "['V693', 'V2107', 'V3672', 'V3995', 'V3157', 'V3367', 'V2021', 'V2709', 'V1089', 'V804']\n",
      "['V693', 'V2107', 'V3672', 'V3995', 'V3157', 'V3367', 'V2021', 'V2709', 'V1089', 'V804']\n",
      "['V693', 'V2107', 'V3672', 'V3995', 'V3157', 'V3367', 'V2021', 'V2709', 'V1089', 'V804']\n",
      "['V693', 'V2107', 'V3672', 'V3995', 'V3157', 'V3367', 'V2021', 'V2709', 'V1089', 'V804']\n",
      "['V693', 'V2107', 'V3672', 'V3995', 'V3157', 'V3367', 'V2021', 'V2709', 'V1089', 'V804']\n",
      "['V693', 'V2107', 'V3672', 'V3995', 'V3157', 'V3367', 'V2021', 'V2709', 'V1089', 'V804']\n",
      "['V693', 'V2107', 'V3672', 'V3995', 'V3157', 'V3367', 'V2021', 'V2709', 'V1089', 'V804']\n",
      "['V2031', 'V3299', 'V2238', 'V1801', 'V2111', 'V3840', 'V3003', 'V325', 'V67', 'V2465']\n",
      "['V2031', 'V3299', 'V2238', 'V1801', 'V2111', 'V3840', 'V3003', 'V325', 'V67', 'V2465']\n",
      "['V2031', 'V3299', 'V2238', 'V1801', 'V2111', 'V3840', 'V3003', 'V325', 'V67', 'V2465']\n",
      "['V2031', 'V3299', 'V2238', 'V1801', 'V2111', 'V3840', 'V3003', 'V325', 'V67', 'V2465']\n",
      "['V2031', 'V3299', 'V2238', 'V1801', 'V2111', 'V3840', 'V3003', 'V325', 'V67', 'V2465']\n",
      "['V2031', 'V3299', 'V2238', 'V1801', 'V2111', 'V3840', 'V3003', 'V325', 'V67', 'V2465']\n",
      "['V2031', 'V3299', 'V2238', 'V1801', 'V2111', 'V3840', 'V3003', 'V325', 'V67', 'V2465']\n",
      "['V2031', 'V3299', 'V2238', 'V1801', 'V2111', 'V3840', 'V3003', 'V325', 'V67', 'V2465']\n",
      "['V2031', 'V3299', 'V2238', 'V1801', 'V2111', 'V3840', 'V3003', 'V325', 'V67', 'V2465']\n",
      "['V968', 'V3169', 'V3026', 'V2144', 'V3951', 'V404', 'V2630', 'V1609', 'V1251', 'V3523']\n",
      "['V968', 'V3169', 'V3026', 'V2144', 'V3951', 'V404', 'V2630', 'V1609', 'V1251', 'V3523']\n",
      "['V968', 'V3169', 'V3026', 'V2144', 'V3951', 'V404', 'V2630', 'V1609', 'V1251', 'V3523']\n",
      "['V968', 'V3169', 'V3026', 'V2144', 'V3951', 'V404', 'V2630', 'V1609', 'V1251', 'V3523']\n",
      "['V968', 'V3169', 'V3026', 'V2144', 'V3951', 'V404', 'V2630', 'V1609', 'V1251', 'V3523']\n",
      "['V968', 'V3169', 'V3026', 'V2144', 'V3951', 'V404', 'V2630', 'V1609', 'V1251', 'V3523']\n",
      "['V968', 'V3169', 'V3026', 'V2144', 'V3951', 'V404', 'V2630', 'V1609', 'V1251', 'V3523']\n",
      "['V968', 'V3169', 'V3026', 'V2144', 'V3951', 'V404', 'V2630', 'V1609', 'V1251', 'V3523']\n",
      "['V968', 'V3169', 'V3026', 'V2144', 'V3951', 'V404', 'V2630', 'V1609', 'V1251', 'V3523']\n",
      "['V2365', 'V3159', 'V183', 'V2802', 'V3002', 'V2901', 'V2553', 'V1417', 'V1505', 'V268']\n",
      "['V2365', 'V3159', 'V183', 'V2802', 'V3002', 'V2901', 'V2553', 'V1417', 'V1505', 'V268']\n",
      "['V2365', 'V3159', 'V183', 'V2802', 'V3002', 'V2901', 'V2553', 'V1417', 'V1505', 'V268']\n",
      "['V2365', 'V3159', 'V183', 'V2802', 'V3002', 'V2901', 'V2553', 'V1417', 'V1505', 'V268']\n",
      "['V2365', 'V3159', 'V183', 'V2802', 'V3002', 'V2901', 'V2553', 'V1417', 'V1505', 'V268']\n",
      "['V2365', 'V3159', 'V183', 'V2802', 'V3002', 'V2901', 'V2553', 'V1417', 'V1505', 'V268']\n",
      "['V2365', 'V3159', 'V183', 'V2802', 'V3002', 'V2901', 'V2553', 'V1417', 'V1505', 'V268']\n",
      "['V2365', 'V3159', 'V183', 'V2802', 'V3002', 'V2901', 'V2553', 'V1417', 'V1505', 'V268']\n",
      "['V2365', 'V3159', 'V183', 'V2802', 'V3002', 'V2901', 'V2553', 'V1417', 'V1505', 'V268']\n",
      "['V3775', 'V625', 'V2939', 'V217', 'V2783', 'V2551', 'V881', 'V1497', 'V1965', 'V4016']\n",
      "['V3775', 'V625', 'V2939', 'V217', 'V2783', 'V2551', 'V881', 'V1497', 'V1965', 'V4016']\n",
      "['V3775', 'V625', 'V2939', 'V217', 'V2783', 'V2551', 'V881', 'V1497', 'V1965', 'V4016']\n",
      "['V3775', 'V625', 'V2939', 'V217', 'V2783', 'V2551', 'V881', 'V1497', 'V1965', 'V4016']\n",
      "['V3775', 'V625', 'V2939', 'V217', 'V2783', 'V2551', 'V881', 'V1497', 'V1965', 'V4016']\n",
      "['V3775', 'V625', 'V2939', 'V217', 'V2783', 'V2551', 'V881', 'V1497', 'V1965', 'V4016']\n",
      "['V3775', 'V625', 'V2939', 'V217', 'V2783', 'V2551', 'V881', 'V1497', 'V1965', 'V4016']\n",
      "['V3775', 'V625', 'V2939', 'V217', 'V2783', 'V2551', 'V881', 'V1497', 'V1965', 'V4016']\n",
      "['V3775', 'V625', 'V2939', 'V217', 'V2783', 'V2551', 'V881', 'V1497', 'V1965', 'V4016']\n",
      "['V2891', 'V2603', 'V3545', 'V2762', 'V3373', 'V78', 'V2893', 'V3784', 'V2750', 'V3247']\n",
      "['V2891', 'V2603', 'V3545', 'V2762', 'V3373', 'V78', 'V2893', 'V3784', 'V2750', 'V3247']\n",
      "['V2891', 'V2603', 'V3545', 'V2762', 'V3373', 'V78', 'V2893', 'V3784', 'V2750', 'V3247']\n",
      "['V2891', 'V2603', 'V3545', 'V2762', 'V3373', 'V78', 'V2893', 'V3784', 'V2750', 'V3247']\n",
      "['V2519', 'V2981', 'V3206', 'V442', 'V1057', 'V3305', 'V10', 'V93', 'V2703', 'V2647']\n",
      "['V2519', 'V2981', 'V3206', 'V442', 'V1057', 'V3305', 'V10', 'V93', 'V2703', 'V2647']\n",
      "['V2519', 'V2981', 'V3206', 'V442', 'V1057', 'V3305', 'V10', 'V93', 'V2703', 'V2647']\n",
      "['V2519', 'V2981', 'V3206', 'V442', 'V1057', 'V3305', 'V10', 'V93', 'V2703', 'V2647']\n",
      "['V1831', 'V1156', 'V1611', 'V1122', 'V3643', 'V1217', 'V2232', 'V3563', 'V3319', 'V776']\n",
      "['V1831', 'V1156', 'V1611', 'V1122', 'V3643', 'V1217', 'V2232', 'V3563', 'V3319', 'V776']\n",
      "['V1831', 'V1156', 'V1611', 'V1122', 'V3643', 'V1217', 'V2232', 'V3563', 'V3319', 'V776']\n",
      "['V1831', 'V1156', 'V1611', 'V1122', 'V3643', 'V1217', 'V2232', 'V3563', 'V3319', 'V776']\n"
     ]
    }
   ],
   "source": [
    "fileDirectory = \"../outputs/facebook_combined_vobws/\"\n",
    "files = parametrizedFileSelection(fileDirectory, { \"nWorkers\": [10]})\n",
    "\n",
    "print(files)\n",
    "for file in files:\n",
    "    with open(fileDirectory + file) as json_file:\n",
    "        data = json.load(json_file)\n",
    "        print(data['workers'])\n",
    "            "
   ]
  },
  {
   "cell_type": "code",
   "execution_count": null,
   "metadata": {},
   "outputs": [],
   "source": []
  }
 ],
 "metadata": {
  "kernelspec": {
   "display_name": "Python 3",
   "language": "python",
   "name": "python3"
  },
  "language_info": {
   "codemirror_mode": {
    "name": "ipython",
    "version": 3
   },
   "file_extension": ".py",
   "mimetype": "text/x-python",
   "name": "python",
   "nbconvert_exporter": "python",
   "pygments_lexer": "ipython3",
   "version": "3.8.5"
  }
 },
 "nbformat": 4,
 "nbformat_minor": 4
}
